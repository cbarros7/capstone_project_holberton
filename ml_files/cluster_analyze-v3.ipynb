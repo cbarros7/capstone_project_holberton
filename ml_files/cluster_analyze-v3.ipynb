{
 "cells": [
  {
   "cell_type": "markdown",
   "metadata": {},
   "source": [
    "# Analyzing data from clusters FAMD"
   ]
  },
  {
   "cell_type": "code",
   "execution_count": 1,
   "metadata": {
    "ExecuteTime": {
     "end_time": "2020-10-26T22:12:02.617816Z",
     "start_time": "2020-10-26T22:11:59.797727Z"
    }
   },
   "outputs": [],
   "source": [
    "import pandas as pd\n",
    "import numpy as np\n",
    "import json\n",
    "import datetime as dt\n",
    "import seaborn as sns\n",
    "import matplotlib.pyplot as plt\n",
    "import statsmodels.api as sm\n",
    "import statsmodels.formula.api as smf\n",
    "import statsmodels.stats.multicomp as multi\n",
    "import scipy.stats\n",
    "# Configuración de pandas \n",
    "pd.set_option('display.max_rows', 500)\n",
    "pd.set_option('display.max_columns', 500)\n",
    "pd.set_option('display.width', 1000)"
   ]
  },
  {
   "cell_type": "markdown",
   "metadata": {},
   "source": [
    "## Loading data"
   ]
  },
  {
   "cell_type": "code",
   "execution_count": 2,
   "metadata": {
    "ExecuteTime": {
     "end_time": "2020-10-26T22:12:03.320080Z",
     "start_time": "2020-10-26T22:12:02.620825Z"
    }
   },
   "outputs": [
    {
     "data": {
      "text/html": [
       "<div>\n",
       "<style scoped>\n",
       "    .dataframe tbody tr th:only-of-type {\n",
       "        vertical-align: middle;\n",
       "    }\n",
       "\n",
       "    .dataframe tbody tr th {\n",
       "        vertical-align: top;\n",
       "    }\n",
       "\n",
       "    .dataframe thead th {\n",
       "        text-align: right;\n",
       "    }\n",
       "</style>\n",
       "<table border=\"1\" class=\"dataframe\">\n",
       "  <thead>\n",
       "    <tr style=\"text-align: right;\">\n",
       "      <th></th>\n",
       "      <th>Unnamed: 0</th>\n",
       "      <th>client_id</th>\n",
       "      <th>loan_id</th>\n",
       "      <th>state</th>\n",
       "      <th>arrears_days</th>\n",
       "      <th>total_paid</th>\n",
       "      <th>ID Cliente</th>\n",
       "      <th>Monto Acumulado</th>\n",
       "      <th>Uso de los recursos</th>\n",
       "      <th>Plazo</th>\n",
       "      <th>Sector</th>\n",
       "      <th>Ingresos</th>\n",
       "      <th>Ubicación</th>\n",
       "      <th>Estrato Mínimo</th>\n",
       "      <th>Procesos judiciales</th>\n",
       "      <th>Alertas</th>\n",
       "      <th>Score Bureau Empresa</th>\n",
       "      <th>Huellas de Consulta</th>\n",
       "      <th>Tiempo en el negocio</th>\n",
       "      <th>Website empresa</th>\n",
       "      <th>Instagram empresa</th>\n",
       "      <th>LinkedIn empresa</th>\n",
       "      <th>LinkedIn empresarios</th>\n",
       "      <th>Edad empresarios</th>\n",
       "      <th>Activador</th>\n",
       "      <th>Número de accionistas</th>\n",
       "      <th>Impacto</th>\n",
       "      <th>Acceso previso a la banca</th>\n",
       "      <th># Empleados</th>\n",
       "      <th>Mujeres empresarias</th>\n",
       "      <th>Mujeres en cargos directivos</th>\n",
       "      <th>cluster</th>\n",
       "    </tr>\n",
       "  </thead>\n",
       "  <tbody>\n",
       "    <tr>\n",
       "      <th>0</th>\n",
       "      <td>0</td>\n",
       "      <td>241</td>\n",
       "      <td>1076</td>\n",
       "      <td>PAID</td>\n",
       "      <td>17</td>\n",
       "      <td>147915805.0</td>\n",
       "      <td>241.0</td>\n",
       "      <td>250000000</td>\n",
       "      <td>CR</td>\n",
       "      <td>25 a 36 meses</td>\n",
       "      <td>Servicios</td>\n",
       "      <td>Seed</td>\n",
       "      <td>Medellín</td>\n",
       "      <td>5</td>\n",
       "      <td>No</td>\n",
       "      <td>No</td>\n",
       "      <td>925.0</td>\n",
       "      <td>8.0</td>\n",
       "      <td>2016</td>\n",
       "      <td>Si</td>\n",
       "      <td>Si</td>\n",
       "      <td>Si</td>\n",
       "      <td>Si</td>\n",
       "      <td>45</td>\n",
       "      <td>Internet</td>\n",
       "      <td>2.0</td>\n",
       "      <td>No</td>\n",
       "      <td>Si</td>\n",
       "      <td>16</td>\n",
       "      <td>No</td>\n",
       "      <td>2</td>\n",
       "      <td>1</td>\n",
       "    </tr>\n",
       "    <tr>\n",
       "      <th>1</th>\n",
       "      <td>1</td>\n",
       "      <td>241</td>\n",
       "      <td>1244</td>\n",
       "      <td>PAID</td>\n",
       "      <td>23</td>\n",
       "      <td>91852726.0</td>\n",
       "      <td>241.0</td>\n",
       "      <td>250000000</td>\n",
       "      <td>CR</td>\n",
       "      <td>25 a 36 meses</td>\n",
       "      <td>Servicios</td>\n",
       "      <td>Seed</td>\n",
       "      <td>Medellín</td>\n",
       "      <td>5</td>\n",
       "      <td>No</td>\n",
       "      <td>No</td>\n",
       "      <td>925.0</td>\n",
       "      <td>8.0</td>\n",
       "      <td>2016</td>\n",
       "      <td>Si</td>\n",
       "      <td>Si</td>\n",
       "      <td>Si</td>\n",
       "      <td>Si</td>\n",
       "      <td>45</td>\n",
       "      <td>Internet</td>\n",
       "      <td>2.0</td>\n",
       "      <td>No</td>\n",
       "      <td>Si</td>\n",
       "      <td>16</td>\n",
       "      <td>No</td>\n",
       "      <td>2</td>\n",
       "      <td>1</td>\n",
       "    </tr>\n",
       "    <tr>\n",
       "      <th>2</th>\n",
       "      <td>2</td>\n",
       "      <td>362</td>\n",
       "      <td>1469</td>\n",
       "      <td>LATE</td>\n",
       "      <td>14</td>\n",
       "      <td>15211138.0</td>\n",
       "      <td>362.0</td>\n",
       "      <td>50000000</td>\n",
       "      <td>KT - EX</td>\n",
       "      <td>13 a 24 meses</td>\n",
       "      <td>Servicios</td>\n",
       "      <td>Seed</td>\n",
       "      <td>Medellín</td>\n",
       "      <td>3</td>\n",
       "      <td>No</td>\n",
       "      <td>No</td>\n",
       "      <td>924.0</td>\n",
       "      <td>2.0</td>\n",
       "      <td>2014</td>\n",
       "      <td>Si</td>\n",
       "      <td>No</td>\n",
       "      <td>Si</td>\n",
       "      <td>No</td>\n",
       "      <td>32</td>\n",
       "      <td>SocialNetworks</td>\n",
       "      <td>3.0</td>\n",
       "      <td>No</td>\n",
       "      <td>Si</td>\n",
       "      <td>3</td>\n",
       "      <td>No</td>\n",
       "      <td>0</td>\n",
       "      <td>0</td>\n",
       "    </tr>\n",
       "    <tr>\n",
       "      <th>3</th>\n",
       "      <td>3</td>\n",
       "      <td>428</td>\n",
       "      <td>119</td>\n",
       "      <td>LATE</td>\n",
       "      <td>64</td>\n",
       "      <td>8713879.0</td>\n",
       "      <td>428.0</td>\n",
       "      <td>40000000</td>\n",
       "      <td>SP</td>\n",
       "      <td>13 a 24 meses</td>\n",
       "      <td>Industria</td>\n",
       "      <td>Seed</td>\n",
       "      <td>Medellín</td>\n",
       "      <td>4</td>\n",
       "      <td>No</td>\n",
       "      <td>No</td>\n",
       "      <td>861.0</td>\n",
       "      <td>1.0</td>\n",
       "      <td>2015</td>\n",
       "      <td>Si</td>\n",
       "      <td>No</td>\n",
       "      <td>Si</td>\n",
       "      <td>Si</td>\n",
       "      <td>44</td>\n",
       "      <td>CreditProfessionalContact</td>\n",
       "      <td>2.0</td>\n",
       "      <td>No</td>\n",
       "      <td>Si</td>\n",
       "      <td>5</td>\n",
       "      <td>No</td>\n",
       "      <td>0</td>\n",
       "      <td>0</td>\n",
       "    </tr>\n",
       "    <tr>\n",
       "      <th>4</th>\n",
       "      <td>4</td>\n",
       "      <td>428</td>\n",
       "      <td>120</td>\n",
       "      <td>LATE</td>\n",
       "      <td>64</td>\n",
       "      <td>8102608.0</td>\n",
       "      <td>428.0</td>\n",
       "      <td>40000000</td>\n",
       "      <td>SP</td>\n",
       "      <td>13 a 24 meses</td>\n",
       "      <td>Industria</td>\n",
       "      <td>Seed</td>\n",
       "      <td>Medellín</td>\n",
       "      <td>4</td>\n",
       "      <td>No</td>\n",
       "      <td>No</td>\n",
       "      <td>861.0</td>\n",
       "      <td>1.0</td>\n",
       "      <td>2015</td>\n",
       "      <td>Si</td>\n",
       "      <td>No</td>\n",
       "      <td>Si</td>\n",
       "      <td>Si</td>\n",
       "      <td>44</td>\n",
       "      <td>CreditProfessionalContact</td>\n",
       "      <td>2.0</td>\n",
       "      <td>No</td>\n",
       "      <td>Si</td>\n",
       "      <td>5</td>\n",
       "      <td>No</td>\n",
       "      <td>0</td>\n",
       "      <td>0</td>\n",
       "    </tr>\n",
       "  </tbody>\n",
       "</table>\n",
       "</div>"
      ],
      "text/plain": [
       "   Unnamed: 0  client_id  loan_id state  arrears_days   total_paid  ID Cliente  Monto Acumulado Uso de los recursos          Plazo     Sector Ingresos Ubicación  Estrato Mínimo Procesos judiciales Alertas  Score Bureau Empresa  Huellas de Consulta  Tiempo en el negocio Website empresa Instagram empresa LinkedIn empresa LinkedIn empresarios  Edad empresarios                  Activador  Número de accionistas Impacto Acceso previso a la banca  # Empleados Mujeres empresarias  Mujeres en cargos directivos  cluster\n",
       "0           0        241     1076  PAID            17  147915805.0       241.0        250000000                 CR   25 a 36 meses  Servicios     Seed  Medellín               5                  No      No                 925.0                  8.0                  2016              Si                Si               Si                   Si                45                   Internet                    2.0      No                        Si           16                  No                             2        1\n",
       "1           1        241     1244  PAID            23   91852726.0       241.0        250000000                 CR   25 a 36 meses  Servicios     Seed  Medellín               5                  No      No                 925.0                  8.0                  2016              Si                Si               Si                   Si                45                   Internet                    2.0      No                        Si           16                  No                             2        1\n",
       "2           2        362     1469  LATE            14   15211138.0       362.0         50000000             KT - EX  13 a 24 meses  Servicios     Seed  Medellín               3                  No      No                 924.0                  2.0                  2014              Si                No               Si                   No                32             SocialNetworks                    3.0      No                        Si            3                  No                             0        0\n",
       "3           3        428      119  LATE            64    8713879.0       428.0         40000000                  SP  13 a 24 meses  Industria     Seed  Medellín               4                  No      No                 861.0                  1.0                  2015              Si                No               Si                   Si                44  CreditProfessionalContact                    2.0      No                        Si            5                  No                             0        0\n",
       "4           4        428      120  LATE            64    8102608.0       428.0         40000000                  SP  13 a 24 meses  Industria     Seed  Medellín               4                  No      No                 861.0                  1.0                  2015              Si                No               Si                   Si                44  CreditProfessionalContact                    2.0      No                        Si            5                  No                             0        0"
      ]
     },
     "execution_count": 2,
     "metadata": {},
     "output_type": "execute_result"
    }
   ],
   "source": [
    "path_file = 'data/propuesta_cluster.csv'\n",
    "data = pd.read_csv(path_file)\n",
    "data.head()"
   ]
  },
  {
   "cell_type": "code",
   "execution_count": 3,
   "metadata": {
    "ExecuteTime": {
     "end_time": "2020-10-26T22:12:03.724433Z",
     "start_time": "2020-10-26T22:12:03.323072Z"
    }
   },
   "outputs": [
    {
     "data": {
      "text/plain": [
       "Unnamed: 0                      False\n",
       "client_id                       False\n",
       "loan_id                         False\n",
       "state                           False\n",
       "arrears_days                    False\n",
       "total_paid                      False\n",
       "ID Cliente                      False\n",
       "Monto Acumulado                 False\n",
       "Uso de los recursos             False\n",
       "Plazo                           False\n",
       "Sector                          False\n",
       "Ingresos                        False\n",
       "Ubicación                       False\n",
       "Estrato Mínimo                  False\n",
       "Procesos judiciales             False\n",
       "Alertas                         False\n",
       "Score Bureau Empresa            False\n",
       "Huellas de Consulta             False\n",
       "Tiempo en el negocio            False\n",
       "Website empresa                 False\n",
       "Instagram empresa               False\n",
       "LinkedIn empresa                False\n",
       "LinkedIn empresarios            False\n",
       "Edad empresarios                False\n",
       "Activador                       False\n",
       "Número de accionistas           False\n",
       "Impacto                         False\n",
       "Acceso previso a la banca       False\n",
       "# Empleados                     False\n",
       "Mujeres empresarias             False\n",
       "Mujeres en cargos directivos    False\n",
       "cluster                         False\n",
       "dtype: bool"
      ]
     },
     "execution_count": 3,
     "metadata": {},
     "output_type": "execute_result"
    }
   ],
   "source": [
    "data.isnull().any()"
   ]
  },
  {
   "cell_type": "markdown",
   "metadata": {},
   "source": [
    "## Data analysis"
   ]
  },
  {
   "cell_type": "markdown",
   "metadata": {},
   "source": [
    "This section is to analyze clusters behaviour with two cathegorization of clients"
   ]
  },
  {
   "cell_type": "markdown",
   "metadata": {},
   "source": [
    "### Cathegorical data"
   ]
  },
  {
   "cell_type": "code",
   "execution_count": 4,
   "metadata": {
    "ExecuteTime": {
     "end_time": "2020-10-26T22:12:04.053797Z",
     "start_time": "2020-10-26T22:12:03.728427Z"
    }
   },
   "outputs": [
    {
     "data": {
      "text/plain": [
       "Text(0.5, 0.98, 'Frecuency of observation by cluster')"
      ]
     },
     "execution_count": 4,
     "metadata": {},
     "output_type": "execute_result"
    },
    {
     "data": {
      "image/png": "[encoded data removed]",
      "text/plain": [
       "<Figure size 432x288 with 1 Axes>"
      ]
     },
     "metadata": {
      "needs_background": "light"
     },
     "output_type": "display_data"
    }
   ],
   "source": [
    "sns.countplot(x='cluster', data = data)\n",
    "plt.suptitle('Frecuency of observation by cluster')"
   ]
  },
  {
   "cell_type": "code",
   "execution_count": 5,
   "metadata": {
    "ExecuteTime": {
     "end_time": "2020-10-26T22:12:04.068800Z",
     "start_time": "2020-10-26T22:12:04.056794Z"
    }
   },
   "outputs": [
    {
     "data": {
      "text/plain": [
       "0    301\n",
       "1    276\n",
       "Name: cluster, dtype: int64"
      ]
     },
     "execution_count": 5,
     "metadata": {},
     "output_type": "execute_result"
    }
   ],
   "source": [
    "data['cluster'].value_counts()"
   ]
  },
  {
   "cell_type": "markdown",
   "metadata": {},
   "source": [
    "We can see that there are more customers on the cluster_1 than the cluster_0"
   ]
  },
  {
   "cell_type": "code",
   "execution_count": 6,
   "metadata": {
    "ExecuteTime": {
     "end_time": "2020-10-26T22:12:04.163779Z",
     "start_time": "2020-10-26T22:12:04.071786Z"
    }
   },
   "outputs": [
    {
     "data": {
      "text/plain": [
       "count     577.000000\n",
       "mean       70.963605\n",
       "std       130.802891\n",
       "min         0.000000\n",
       "25%         2.000000\n",
       "50%        16.000000\n",
       "75%        76.000000\n",
       "max      1083.000000\n",
       "Name: arrears_days, dtype: float64"
      ]
     },
     "execution_count": 6,
     "metadata": {},
     "output_type": "execute_result"
    }
   ],
   "source": [
    "data['arrears_days'].describe()"
   ]
  },
  {
   "cell_type": "markdown",
   "metadata": {},
   "source": [
    "### Analyzing relationship on other variables with two clusters"
   ]
  },
  {
   "cell_type": "code",
   "execution_count": 7,
   "metadata": {
    "ExecuteTime": {
     "end_time": "2020-10-26T22:12:04.239790Z",
     "start_time": "2020-10-26T22:12:04.166788Z"
    }
   },
   "outputs": [],
   "source": [
    "#----------------------------------------------------------------"
   ]
  },
  {
   "cell_type": "markdown",
   "metadata": {},
   "source": [
    "#### Cathegorical = cluster_id_2 vs Quantitative = 'Column name'"
   ]
  },
  {
   "cell_type": "code",
   "execution_count": 8,
   "metadata": {
    "ExecuteTime": {
     "end_time": "2020-10-26T22:12:04.366374Z",
     "start_time": "2020-10-26T22:12:04.244783Z"
    }
   },
   "outputs": [
    {
     "name": "stdout",
     "output_type": "stream",
     "text": [
      "<class 'pandas.core.frame.DataFrame'>\n",
      "RangeIndex: 577 entries, 0 to 576\n",
      "Data columns (total 32 columns):\n",
      " #   Column                        Non-Null Count  Dtype  \n",
      "---  ------                        --------------  -----  \n",
      " 0   Unnamed: 0                    577 non-null    int64  \n",
      " 1   client_id                     577 non-null    int64  \n",
      " 2   loan_id                       577 non-null    int64  \n",
      " 3   state                         577 non-null    object \n",
      " 4   arrears_days                  577 non-null    int64  \n",
      " 5   total_paid                    577 non-null    float64\n",
      " 6   ID Cliente                    577 non-null    float64\n",
      " 7   Monto Acumulado               577 non-null    int64  \n",
      " 8   Uso de los recursos           577 non-null    object \n",
      " 9   Plazo                         577 non-null    object \n",
      " 10  Sector                        577 non-null    object \n",
      " 11  Ingresos                      577 non-null    object \n",
      " 12  Ubicación                     577 non-null    object \n",
      " 13  Estrato Mínimo                577 non-null    int64  \n",
      " 14  Procesos judiciales           577 non-null    object \n",
      " 15  Alertas                       577 non-null    object \n",
      " 16  Score Bureau Empresa          577 non-null    float64\n",
      " 17  Huellas de Consulta           577 non-null    float64\n",
      " 18  Tiempo en el negocio          577 non-null    int64  \n",
      " 19  Website empresa               577 non-null    object \n",
      " 20  Instagram empresa             577 non-null    object \n",
      " 21  LinkedIn empresa              577 non-null    object \n",
      " 22  LinkedIn empresarios          577 non-null    object \n",
      " 23  Edad empresarios              577 non-null    int64  \n",
      " 24  Activador                     577 non-null    object \n",
      " 25  Número de accionistas         577 non-null    float64\n",
      " 26  Impacto                       577 non-null    object \n",
      " 27  Acceso previso a la banca     577 non-null    object \n",
      " 28  # Empleados                   577 non-null    int64  \n",
      " 29  Mujeres empresarias           577 non-null    object \n",
      " 30  Mujeres en cargos directivos  577 non-null    int64  \n",
      " 31  cluster                       577 non-null    int64  \n",
      "dtypes: float64(5), int64(11), object(16)\n",
      "memory usage: 144.4+ KB\n"
     ]
    }
   ],
   "source": [
    "data.info()"
   ]
  },
  {
   "cell_type": "code",
   "execution_count": 9,
   "metadata": {
    "ExecuteTime": {
     "end_time": "2020-10-26T22:12:04.726409Z",
     "start_time": "2020-10-26T22:12:04.369381Z"
    }
   },
   "outputs": [
    {
     "data": {
      "text/plain": [
       "Text(0.5, 0.98, 'Cluster vs arrears_days')"
      ]
     },
     "execution_count": 9,
     "metadata": {},
     "output_type": "execute_result"
    },
    {
     "data": {
      "image/png": "[encoded data removed]",
      "text/plain": [
       "<Figure size 360x360 with 1 Axes>"
      ]
     },
     "metadata": {
      "needs_background": "light"
     },
     "output_type": "display_data"
    }
   ],
   "source": [
    "sns.catplot(x='cluster', y='arrears_days', kind='bar', data=data)\n",
    "plt.suptitle('Cluster vs arrears_days')"
   ]
  },
  {
   "cell_type": "markdown",
   "metadata": {},
   "source": [
    "On this graph we can see that cluster 1 has less arrears_days than cluster 0"
   ]
  },
  {
   "cell_type": "code",
   "execution_count": 10,
   "metadata": {
    "ExecuteTime": {
     "end_time": "2020-10-26T22:12:05.008433Z",
     "start_time": "2020-10-26T22:12:04.728410Z"
    }
   },
   "outputs": [
    {
     "data": {
      "text/plain": [
       "Text(0.5, 0.98, 'Cluster vs Monto Acumulado')"
      ]
     },
     "execution_count": 10,
     "metadata": {},
     "output_type": "execute_result"
    },
    {
     "data": {
      "image/png": "[encoded data removed]",
      "text/plain": [
       "<Figure size 360x360 with 1 Axes>"
      ]
     },
     "metadata": {
      "needs_background": "light"
     },
     "output_type": "display_data"
    }
   ],
   "source": [
    "sns.catplot(x='cluster', y='Monto Acumulado', kind='bar', data=data)\n",
    "plt.suptitle('Cluster vs Monto Acumulado')"
   ]
  },
  {
   "cell_type": "markdown",
   "metadata": {},
   "source": [
    "Cluster 1 has less 'Monto Acumulado' than cluster 0"
   ]
  },
  {
   "cell_type": "code",
   "execution_count": 11,
   "metadata": {
    "ExecuteTime": {
     "end_time": "2020-10-26T22:12:05.321452Z",
     "start_time": "2020-10-26T22:12:05.011412Z"
    }
   },
   "outputs": [
    {
     "data": {
      "text/plain": [
       "Text(0.5, 0.98, 'Cluster vs Score Bureau Empresa')"
      ]
     },
     "execution_count": 11,
     "metadata": {},
     "output_type": "execute_result"
    },
    {
     "data": {
      "image/png": "[encoded data removed]",
      "text/plain": [
       "<Figure size 360x360 with 1 Axes>"
      ]
     },
     "metadata": {
      "needs_background": "light"
     },
     "output_type": "display_data"
    }
   ],
   "source": [
    "sns.catplot(x='cluster', y='Score Bureau Empresa', kind='bar', data=data)\n",
    "plt.suptitle('Cluster vs Score Bureau Empresa')"
   ]
  },
  {
   "cell_type": "markdown",
   "metadata": {},
   "source": [
    "Score Bureau between the two clusters are relatively similar"
   ]
  },
  {
   "cell_type": "code",
   "execution_count": 12,
   "metadata": {
    "ExecuteTime": {
     "end_time": "2020-10-26T22:12:05.591450Z",
     "start_time": "2020-10-26T22:12:05.323450Z"
    }
   },
   "outputs": [
    {
     "data": {
      "text/plain": [
       "Text(0.5, 0.98, 'Cluster vs Huellas de Consulta')"
      ]
     },
     "execution_count": 12,
     "metadata": {},
     "output_type": "execute_result"
    },
    {
     "data": {
      "image/png": "[encoded data removed]",
      "text/plain": [
       "<Figure size 360x360 with 1 Axes>"
      ]
     },
     "metadata": {
      "needs_background": "light"
     },
     "output_type": "display_data"
    }
   ],
   "source": [
    "sns.catplot(x='cluster', y='Huellas de Consulta', kind='bar', data=data)\n",
    "plt.suptitle('Cluster vs Huellas de Consulta')"
   ]
  },
  {
   "cell_type": "markdown",
   "metadata": {},
   "source": [
    "Cluster 1 has less 'Huellas de consulta' than cluster 0"
   ]
  },
  {
   "cell_type": "code",
   "execution_count": 13,
   "metadata": {
    "ExecuteTime": {
     "end_time": "2020-10-26T22:12:05.874452Z",
     "start_time": "2020-10-26T22:12:05.594455Z"
    }
   },
   "outputs": [
    {
     "data": {
      "text/plain": [
       "Text(0.5, 0.98, 'Cluster vs Número de accionistas')"
      ]
     },
     "execution_count": 13,
     "metadata": {},
     "output_type": "execute_result"
    },
    {
     "data": {
      "image/png": "[encoded data removed]",
      "text/plain": [
       "<Figure size 360x360 with 1 Axes>"
      ]
     },
     "metadata": {
      "needs_background": "light"
     },
     "output_type": "display_data"
    }
   ],
   "source": [
    "sns.catplot(x='cluster', y='Número de accionistas', kind='bar', data=data)\n",
    "plt.suptitle('Cluster vs Número de accionistas')"
   ]
  },
  {
   "cell_type": "markdown",
   "metadata": {},
   "source": [
    "Cluster 0 has more 'Accionistas' than cluster 1"
   ]
  },
  {
   "cell_type": "code",
   "execution_count": 14,
   "metadata": {
    "ExecuteTime": {
     "end_time": "2020-10-26T22:12:06.217468Z",
     "start_time": "2020-10-26T22:12:05.877456Z"
    }
   },
   "outputs": [
    {
     "data": {
      "text/plain": [
       "Text(0.5, 0.98, 'Cluster vs # Empleados')"
      ]
     },
     "execution_count": 14,
     "metadata": {},
     "output_type": "execute_result"
    },
    {
     "data": {
      "image/png": "[encoded data removed]",
      "text/plain": [
       "<Figure size 360x360 with 1 Axes>"
      ]
     },
     "metadata": {
      "needs_background": "light"
     },
     "output_type": "display_data"
    }
   ],
   "source": [
    "sns.catplot(x='cluster', y='# Empleados', kind='bar', data=data)\n",
    "plt.suptitle('Cluster vs # Empleados')"
   ]
  },
  {
   "cell_type": "markdown",
   "metadata": {},
   "source": [
    "Cluster 1 has more 'Empleados' than cluster 0"
   ]
  },
  {
   "cell_type": "code",
   "execution_count": 15,
   "metadata": {
    "ExecuteTime": {
     "end_time": "2020-10-26T22:12:06.498467Z",
     "start_time": "2020-10-26T22:12:06.219452Z"
    }
   },
   "outputs": [
    {
     "data": {
      "text/plain": [
       "Text(0.5, 0.98, 'Cluster vs Mujeres en cargos directivos')"
      ]
     },
     "execution_count": 15,
     "metadata": {},
     "output_type": "execute_result"
    },
    {
     "data": {
      "image/png": "[encoded data removed]",
      "text/plain": [
       "<Figure size 360x360 with 1 Axes>"
      ]
     },
     "metadata": {
      "needs_background": "light"
     },
     "output_type": "display_data"
    }
   ],
   "source": [
    "sns.catplot(x='cluster', y='Mujeres en cargos directivos', kind='bar', data=data)\n",
    "plt.suptitle('Cluster vs Mujeres en cargos directivos')"
   ]
  },
  {
   "cell_type": "markdown",
   "metadata": {},
   "source": [
    "Cluster 1 has more 'Mujeres en cargos directivos' than cluster 0"
   ]
  },
  {
   "cell_type": "code",
   "execution_count": 16,
   "metadata": {
    "ExecuteTime": {
     "end_time": "2020-10-26T22:12:06.514450Z",
     "start_time": "2020-10-26T22:12:06.501453Z"
    }
   },
   "outputs": [],
   "source": [
    "#--------------------------------------------------------"
   ]
  },
  {
   "cell_type": "markdown",
   "metadata": {},
   "source": [
    "#### Cathegorical = cluster_id_2 vs Cathegorical = 'Column name'"
   ]
  },
  {
   "cell_type": "code",
   "execution_count": 17,
   "metadata": {
    "ExecuteTime": {
     "end_time": "2020-10-26T22:12:06.622450Z",
     "start_time": "2020-10-26T22:12:06.519456Z"
    }
   },
   "outputs": [
    {
     "name": "stdout",
     "output_type": "stream",
     "text": [
      "<class 'pandas.core.frame.DataFrame'>\n",
      "RangeIndex: 577 entries, 0 to 576\n",
      "Data columns (total 32 columns):\n",
      " #   Column                        Non-Null Count  Dtype  \n",
      "---  ------                        --------------  -----  \n",
      " 0   Unnamed: 0                    577 non-null    int64  \n",
      " 1   client_id                     577 non-null    int64  \n",
      " 2   loan_id                       577 non-null    int64  \n",
      " 3   state                         577 non-null    object \n",
      " 4   arrears_days                  577 non-null    int64  \n",
      " 5   total_paid                    577 non-null    float64\n",
      " 6   ID Cliente                    577 non-null    float64\n",
      " 7   Monto Acumulado               577 non-null    int64  \n",
      " 8   Uso de los recursos           577 non-null    object \n",
      " 9   Plazo                         577 non-null    object \n",
      " 10  Sector                        577 non-null    object \n",
      " 11  Ingresos                      577 non-null    object \n",
      " 12  Ubicación                     577 non-null    object \n",
      " 13  Estrato Mínimo                577 non-null    int64  \n",
      " 14  Procesos judiciales           577 non-null    object \n",
      " 15  Alertas                       577 non-null    object \n",
      " 16  Score Bureau Empresa          577 non-null    float64\n",
      " 17  Huellas de Consulta           577 non-null    float64\n",
      " 18  Tiempo en el negocio          577 non-null    int64  \n",
      " 19  Website empresa               577 non-null    object \n",
      " 20  Instagram empresa             577 non-null    object \n",
      " 21  LinkedIn empresa              577 non-null    object \n",
      " 22  LinkedIn empresarios          577 non-null    object \n",
      " 23  Edad empresarios              577 non-null    int64  \n",
      " 24  Activador                     577 non-null    object \n",
      " 25  Número de accionistas         577 non-null    float64\n",
      " 26  Impacto                       577 non-null    object \n",
      " 27  Acceso previso a la banca     577 non-null    object \n",
      " 28  # Empleados                   577 non-null    int64  \n",
      " 29  Mujeres empresarias           577 non-null    object \n",
      " 30  Mujeres en cargos directivos  577 non-null    int64  \n",
      " 31  cluster                       577 non-null    int64  \n",
      "dtypes: float64(5), int64(11), object(16)\n",
      "memory usage: 144.4+ KB\n"
     ]
    }
   ],
   "source": [
    "data.info()"
   ]
  },
  {
   "cell_type": "code",
   "execution_count": 18,
   "metadata": {
    "ExecuteTime": {
     "end_time": "2020-10-26T22:12:06.828654Z",
     "start_time": "2020-10-26T22:12:06.625460Z"
    }
   },
   "outputs": [
    {
     "data": {
      "text/plain": [
       "cluster  state\n",
       "0        LATE     0.284229\n",
       "         PAID     0.237435\n",
       "1        LATE     0.246101\n",
       "         PAID     0.232236\n",
       "Name: state, dtype: float64"
      ]
     },
     "execution_count": 18,
     "metadata": {},
     "output_type": "execute_result"
    }
   ],
   "source": [
    "data.groupby('cluster')['state'].value_counts()/len(data)"
   ]
  },
  {
   "cell_type": "markdown",
   "metadata": {},
   "source": [
    "Cluster 0 has more clients on state PAID than cluster 1, but at the same time has more clients on Late than cluster 1"
   ]
  },
  {
   "cell_type": "code",
   "execution_count": 19,
   "metadata": {
    "ExecuteTime": {
     "end_time": "2020-10-26T22:12:06.938683Z",
     "start_time": "2020-10-26T22:12:06.830657Z"
    }
   },
   "outputs": [
    {
     "data": {
      "text/plain": [
       "cluster  Uso de los recursos\n",
       "0        KT - CO                0.204506\n",
       "         KT - EX                0.175043\n",
       "         CR                     0.084922\n",
       "         SP                     0.057192\n",
       "1        KT - EX                0.173310\n",
       "         KT - CO                0.169844\n",
       "         CR                     0.077990\n",
       "         SP                     0.057192\n",
       "Name: Uso de los recursos, dtype: float64"
      ]
     },
     "execution_count": 19,
     "metadata": {},
     "output_type": "execute_result"
    }
   ],
   "source": [
    "data.groupby('cluster')['Uso de los recursos'].value_counts()/len(data)"
   ]
  },
  {
   "cell_type": "markdown",
   "metadata": {},
   "source": [
    "We can see the distribution between the two clusters"
   ]
  },
  {
   "cell_type": "code",
   "execution_count": 20,
   "metadata": {
    "ExecuteTime": {
     "end_time": "2020-10-26T22:12:07.047645Z",
     "start_time": "2020-10-26T22:12:06.942681Z"
    }
   },
   "outputs": [
    {
     "data": {
      "text/plain": [
       "cluster  Plazo            \n",
       "0        13 a 24 meses        0.325823\n",
       "         Menos de 12 meses    0.117851\n",
       "         25 a 36 meses        0.076256\n",
       "         Más de 37 meses      0.001733\n",
       "1        Menos de 12 meses    0.201040\n",
       "         13 a 24 meses        0.181976\n",
       "         25 a 36 meses        0.077990\n",
       "         Más de 37 meses      0.017331\n",
       "Name: Plazo, dtype: float64"
      ]
     },
     "execution_count": 20,
     "metadata": {},
     "output_type": "execute_result"
    }
   ],
   "source": [
    "data.groupby('cluster')['Plazo'].value_counts()/len(data)"
   ]
  },
  {
   "cell_type": "code",
   "execution_count": 21,
   "metadata": {
    "ExecuteTime": {
     "end_time": "2020-10-26T22:12:07.142649Z",
     "start_time": "2020-10-26T22:12:07.050658Z"
    }
   },
   "outputs": [],
   "source": [
    "# Cluster 0 has more clients on 'Plazo' on 13 to 24 months. On the other hand we have cluster 1 with 'Plazo' less than 12 months"
   ]
  },
  {
   "cell_type": "code",
   "execution_count": 22,
   "metadata": {
    "ExecuteTime": {
     "end_time": "2020-10-26T22:12:07.262659Z",
     "start_time": "2020-10-26T22:12:07.146651Z"
    }
   },
   "outputs": [
    {
     "data": {
      "text/plain": [
       "cluster  Sector   \n",
       "0        Servicios    0.350087\n",
       "         Comercio     0.103986\n",
       "         Industria    0.067591\n",
       "1        Servicios    0.247834\n",
       "         Industria    0.173310\n",
       "         Comercio     0.057192\n",
       "Name: Sector, dtype: float64"
      ]
     },
     "execution_count": 22,
     "metadata": {},
     "output_type": "execute_result"
    }
   ],
   "source": [
    "data.groupby('cluster')['Sector'].value_counts()/len(data)"
   ]
  },
  {
   "cell_type": "code",
   "execution_count": 23,
   "metadata": {
    "ExecuteTime": {
     "end_time": "2020-10-26T22:12:07.354646Z",
     "start_time": "2020-10-26T22:12:07.269650Z"
    }
   },
   "outputs": [],
   "source": [
    "# Cluster 0 has a ranking of (Servicios, Comercio and Industria) - Cluster 1 has a ranking of (Servicios, Industria y Comercio)"
   ]
  },
  {
   "cell_type": "code",
   "execution_count": 24,
   "metadata": {
    "ExecuteTime": {
     "end_time": "2020-10-26T22:12:07.572482Z",
     "start_time": "2020-10-26T22:12:07.359655Z"
    }
   },
   "outputs": [
    {
     "data": {
      "text/plain": [
       "cluster  Ingresos\n",
       "0        Seed        0.336222\n",
       "         Venture     0.119584\n",
       "         Scale Up    0.053726\n",
       "         Growth      0.012132\n",
       "1        Venture     0.176776\n",
       "         Scale Up    0.105719\n",
       "         Seed        0.100520\n",
       "         Growth      0.095321\n",
       "Name: Ingresos, dtype: float64"
      ]
     },
     "execution_count": 24,
     "metadata": {},
     "output_type": "execute_result"
    }
   ],
   "source": [
    "data.groupby('cluster')['Ingresos'].value_counts()/len(data)"
   ]
  },
  {
   "cell_type": "code",
   "execution_count": null,
   "metadata": {},
   "outputs": [],
   "source": []
  },
  {
   "cell_type": "code",
   "execution_count": 25,
   "metadata": {
    "ExecuteTime": {
     "end_time": "2020-10-26T22:12:07.697405Z",
     "start_time": "2020-10-26T22:12:07.575491Z"
    }
   },
   "outputs": [
    {
     "data": {
      "text/plain": [
       "cluster  Acceso previso a la banca\n",
       "0        Si                           0.275563\n",
       "         No                           0.246101\n",
       "1        Si                           0.428076\n",
       "         No                           0.050260\n",
       "Name: Acceso previso a la banca, dtype: float64"
      ]
     },
     "execution_count": 25,
     "metadata": {},
     "output_type": "execute_result"
    }
   ],
   "source": [
    "data.groupby('cluster')['Acceso previso a la banca'].value_counts()/len(data)"
   ]
  },
  {
   "cell_type": "code",
   "execution_count": null,
   "metadata": {},
   "outputs": [],
   "source": []
  },
  {
   "cell_type": "code",
   "execution_count": 26,
   "metadata": {
    "ExecuteTime": {
     "end_time": "2020-10-26T22:12:07.807593Z",
     "start_time": "2020-10-26T22:12:07.701391Z"
    }
   },
   "outputs": [
    {
     "data": {
      "text/plain": [
       "cluster  Mujeres empresarias\n",
       "0        No                     0.396880\n",
       "         Si                     0.124783\n",
       "1        No                     0.409012\n",
       "         Si                     0.069324\n",
       "Name: Mujeres empresarias, dtype: float64"
      ]
     },
     "execution_count": 26,
     "metadata": {},
     "output_type": "execute_result"
    }
   ],
   "source": [
    "data.groupby('cluster')['Mujeres empresarias'].value_counts()/len(data)"
   ]
  },
  {
   "cell_type": "code",
   "execution_count": null,
   "metadata": {},
   "outputs": [],
   "source": []
  },
  {
   "cell_type": "code",
   "execution_count": 27,
   "metadata": {
    "ExecuteTime": {
     "end_time": "2020-10-26T22:12:07.963417Z",
     "start_time": "2020-10-26T22:12:07.810579Z"
    }
   },
   "outputs": [
    {
     "data": {
      "text/plain": [
       "cluster  Activador                \n",
       "0        FriendOrColleague            0.159445\n",
       "         Internet                     0.090121\n",
       "         CreditProfessionalContact    0.065858\n",
       "         Other                        0.050260\n",
       "         SocialNetworks               0.046794\n",
       "         Newspapers                   0.043328\n",
       "         Referrer                     0.038128\n",
       "         CommunicationMedia           0.012132\n",
       "         RutaN                        0.008666\n",
       "         Fenalco                      0.006932\n",
       "1        Other                        0.149047\n",
       "         FriendOrColleague            0.138648\n",
       "         CreditProfessionalContact    0.090121\n",
       "         Internet                     0.057192\n",
       "         Newspapers                   0.025997\n",
       "         Email                        0.012132\n",
       "         SocialNetworks               0.003466\n",
       "         Referrer                     0.001733\n",
       "Name: Activador, dtype: float64"
      ]
     },
     "execution_count": 27,
     "metadata": {},
     "output_type": "execute_result"
    }
   ],
   "source": [
    "data.groupby('cluster')['Activador'].value_counts()/len(data)"
   ]
  },
  {
   "cell_type": "code",
   "execution_count": null,
   "metadata": {},
   "outputs": [],
   "source": []
  },
  {
   "cell_type": "code",
   "execution_count": 28,
   "metadata": {
    "ExecuteTime": {
     "end_time": "2020-10-26T22:12:08.104134Z",
     "start_time": "2020-10-26T22:12:07.966431Z"
    }
   },
   "outputs": [
    {
     "data": {
      "text/plain": [
       "cluster  Website empresa\n",
       "0        Si                 0.315425\n",
       "         No                 0.206239\n",
       "1        Si                 0.386482\n",
       "         No                 0.091854\n",
       "Name: Website empresa, dtype: float64"
      ]
     },
     "execution_count": 28,
     "metadata": {},
     "output_type": "execute_result"
    }
   ],
   "source": [
    "data.groupby('cluster')['Website empresa'].value_counts()/len(data)"
   ]
  },
  {
   "cell_type": "code",
   "execution_count": null,
   "metadata": {},
   "outputs": [],
   "source": []
  },
  {
   "cell_type": "code",
   "execution_count": 29,
   "metadata": {
    "ExecuteTime": {
     "end_time": "2020-10-26T22:12:08.215840Z",
     "start_time": "2020-10-26T22:12:08.109772Z"
    }
   },
   "outputs": [
    {
     "data": {
      "text/plain": [
       "cluster  Estrato Mínimo\n",
       "0        4                 0.164645\n",
       "         5                 0.162912\n",
       "         3                 0.109185\n",
       "         6                 0.077990\n",
       "         2                 0.006932\n",
       "1        4                 0.162912\n",
       "         5                 0.152513\n",
       "         6                 0.110919\n",
       "         3                 0.051993\n",
       "Name: Estrato Mínimo, dtype: float64"
      ]
     },
     "execution_count": 29,
     "metadata": {},
     "output_type": "execute_result"
    }
   ],
   "source": [
    "data.groupby('cluster')['Estrato Mínimo'].value_counts()/len(data)"
   ]
  },
  {
   "cell_type": "code",
   "execution_count": null,
   "metadata": {},
   "outputs": [],
   "source": []
  },
  {
   "cell_type": "code",
   "execution_count": 30,
   "metadata": {
    "ExecuteTime": {
     "end_time": "2020-10-26T22:12:08.311832Z",
     "start_time": "2020-10-26T22:12:08.218840Z"
    }
   },
   "outputs": [
    {
     "data": {
      "text/plain": [
       "cluster  Ubicación          \n",
       "0        Bogotá D.C.            0.230503\n",
       "         Medellín               0.185442\n",
       "         Barranquilla           0.027730\n",
       "         Envigado               0.019064\n",
       "         Cali                   0.015598\n",
       "         Bucaramanga            0.010399\n",
       "         Pereira                0.005199\n",
       "         Rionegro               0.005199\n",
       "         Itagüí                 0.003466\n",
       "         La Estrella            0.003466\n",
       "         Manizales              0.003466\n",
       "         Armenia                0.001733\n",
       "         Cartagena de indias    0.001733\n",
       "         Copacabana             0.001733\n",
       "         La Ceja                0.001733\n",
       "         Marinilla              0.001733\n",
       "         Sabaneta               0.001733\n",
       "         Santa Marta            0.001733\n",
       "1        Medellín               0.178510\n",
       "         Bogotá D.C.            0.176776\n",
       "         La Estrella            0.036395\n",
       "         Itagüí                 0.032929\n",
       "         Sabaneta               0.019064\n",
       "         Envigado               0.017331\n",
       "         Barranquilla           0.008666\n",
       "         Manizales              0.003466\n",
       "         Bello                  0.001733\n",
       "         Cartagena de indias    0.001733\n",
       "         Neiva                  0.001733\n",
       "Name: Ubicación, dtype: float64"
      ]
     },
     "execution_count": 30,
     "metadata": {},
     "output_type": "execute_result"
    }
   ],
   "source": [
    "data.groupby('cluster')['Ubicación'].value_counts()/len(data)"
   ]
  },
  {
   "cell_type": "code",
   "execution_count": null,
   "metadata": {},
   "outputs": [],
   "source": []
  },
  {
   "cell_type": "code",
   "execution_count": 31,
   "metadata": {
    "ExecuteTime": {
     "end_time": "2020-10-26T22:12:08.422933Z",
     "start_time": "2020-10-26T22:12:08.313833Z"
    }
   },
   "outputs": [
    {
     "data": {
      "text/plain": [
       "cluster  Procesos judiciales\n",
       "0        No                     0.488735\n",
       "         Si                     0.032929\n",
       "1        No                     0.353553\n",
       "         Si                     0.124783\n",
       "Name: Procesos judiciales, dtype: float64"
      ]
     },
     "execution_count": 31,
     "metadata": {},
     "output_type": "execute_result"
    }
   ],
   "source": [
    "data.groupby('cluster')['Procesos judiciales'].value_counts()/len(data)"
   ]
  },
  {
   "cell_type": "code",
   "execution_count": null,
   "metadata": {},
   "outputs": [],
   "source": []
  },
  {
   "cell_type": "code",
   "execution_count": 32,
   "metadata": {
    "ExecuteTime": {
     "end_time": "2020-10-26T22:12:08.546036Z",
     "start_time": "2020-10-26T22:12:08.426946Z"
    }
   },
   "outputs": [
    {
     "data": {
      "text/plain": [
       "cluster  Instagram empresa\n",
       "0        No                   0.291161\n",
       "         Si                   0.230503\n",
       "1        Si                   0.259965\n",
       "         No                   0.218371\n",
       "Name: Instagram empresa, dtype: float64"
      ]
     },
     "execution_count": 32,
     "metadata": {},
     "output_type": "execute_result"
    }
   ],
   "source": [
    "data.groupby('cluster')['Instagram empresa'].value_counts()/len(data)"
   ]
  },
  {
   "cell_type": "code",
   "execution_count": null,
   "metadata": {},
   "outputs": [],
   "source": []
  },
  {
   "cell_type": "code",
   "execution_count": 33,
   "metadata": {
    "ExecuteTime": {
     "end_time": "2020-10-26T22:12:08.670047Z",
     "start_time": "2020-10-26T22:12:08.549045Z"
    }
   },
   "outputs": [
    {
     "data": {
      "text/plain": [
       "cluster  Impacto\n",
       "0        No         0.467938\n",
       "         Si         0.053726\n",
       "1        No         0.450607\n",
       "         Si         0.027730\n",
       "Name: Impacto, dtype: float64"
      ]
     },
     "execution_count": 33,
     "metadata": {},
     "output_type": "execute_result"
    }
   ],
   "source": [
    "data.groupby('cluster')['Impacto'].value_counts()/len(data)"
   ]
  },
  {
   "cell_type": "code",
   "execution_count": null,
   "metadata": {},
   "outputs": [],
   "source": []
  },
  {
   "cell_type": "code",
   "execution_count": null,
   "metadata": {},
   "outputs": [],
   "source": []
  },
  {
   "cell_type": "code",
   "execution_count": null,
   "metadata": {},
   "outputs": [],
   "source": []
  },
  {
   "cell_type": "code",
   "execution_count": null,
   "metadata": {},
   "outputs": [],
   "source": []
  }
 ],
 "metadata": {
  "kernelspec": {
   "display_name": "Python 3",
   "language": "python",
   "name": "python3"
  },
  "language_info": {
   "codemirror_mode": {
    "name": "ipython",
    "version": 3
   },
   "file_extension": ".py",
   "mimetype": "text/x-python",
   "name": "python",
   "nbconvert_exporter": "python",
   "pygments_lexer": "ipython3",
   "version": "3.8.3"
  },
  "toc": {
   "base_numbering": 1,
   "nav_menu": {},
   "number_sections": true,
   "sideBar": true,
   "skip_h1_title": false,
   "title_cell": "Table of Contents",
   "title_sidebar": "Contents",
   "toc_cell": false,
   "toc_position": {},
   "toc_section_display": true,
   "toc_window_display": false
  }
 },
 "nbformat": 4,
 "nbformat_minor": 4
}
