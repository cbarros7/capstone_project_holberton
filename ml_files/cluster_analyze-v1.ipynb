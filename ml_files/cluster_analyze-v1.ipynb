{
 "cells": [
  {
   "cell_type": "markdown",
   "metadata": {},
   "source": [
    "# Analyzing data from clusters FAMD"
   ]
  },
  {
   "cell_type": "code",
   "execution_count": 2,
   "metadata": {},
   "outputs": [],
   "source": [
    "import pandas as pd\n",
    "import numpy as np\n",
    "import json\n",
    "import datetime as dt\n",
    "import seaborn as sns\n",
    "import matplotlib.pyplot as plt\n",
    "import statsmodels.api as sm\n",
    "import statsmodels.formula.api as smf\n",
    "import statsmodels.stats.multicomp as multi\n",
    "import scipy.stats\n",
    "# Configuración de pandas \n",
    "pd.set_option('display.max_rows', 500)\n",
    "pd.set_option('display.max_columns', 500)\n",
    "pd.set_option('display.width', 1000)"
   ]
  },
  {
   "cell_type": "markdown",
   "metadata": {},
   "source": [
    "## Loading data"
   ]
  },
  {
   "cell_type": "code",
   "execution_count": 3,
   "metadata": {},
   "outputs": [
    {
     "data": {
      "text/html": [
       "<div>\n",
       "<style scoped>\n",
       "    .dataframe tbody tr th:only-of-type {\n",
       "        vertical-align: middle;\n",
       "    }\n",
       "\n",
       "    .dataframe tbody tr th {\n",
       "        vertical-align: top;\n",
       "    }\n",
       "\n",
       "    .dataframe thead th {\n",
       "        text-align: right;\n",
       "    }\n",
       "</style>\n",
       "<table border=\"1\" class=\"dataframe\">\n",
       "  <thead>\n",
       "    <tr style=\"text-align: right;\">\n",
       "      <th></th>\n",
       "      <th>state</th>\n",
       "      <th>arrears_days</th>\n",
       "      <th>total_paid</th>\n",
       "      <th>Monto Acumulado</th>\n",
       "      <th>Uso de los recursos</th>\n",
       "      <th>Plazo</th>\n",
       "      <th>Sector</th>\n",
       "      <th>Ingresos</th>\n",
       "      <th>Ubicación</th>\n",
       "      <th>Estrato Mínimo</th>\n",
       "      <th>Procesos judiciales</th>\n",
       "      <th>Alertas</th>\n",
       "      <th>Score Bureau Empresa</th>\n",
       "      <th>Huellas de Consulta</th>\n",
       "      <th>Website empresa</th>\n",
       "      <th>Instagram empresa</th>\n",
       "      <th>LinkedIn empresa</th>\n",
       "      <th>LinkedIn empresarios</th>\n",
       "      <th>Edad empresarios</th>\n",
       "      <th>Activador</th>\n",
       "      <th>Número de accionistas</th>\n",
       "      <th>Impacto</th>\n",
       "      <th>Acceso previso a la banca</th>\n",
       "      <th># Empleados</th>\n",
       "      <th>Mujeres empresarias</th>\n",
       "      <th>Mujeres en cargos directivos</th>\n",
       "      <th>cluster_id_2</th>\n",
       "      <th>cluster_id_3</th>\n",
       "    </tr>\n",
       "  </thead>\n",
       "  <tbody>\n",
       "    <tr>\n",
       "      <th>0</th>\n",
       "      <td>PAID</td>\n",
       "      <td>17</td>\n",
       "      <td>147915805</td>\n",
       "      <td>250000000</td>\n",
       "      <td>CR</td>\n",
       "      <td>25 a 36 meses</td>\n",
       "      <td>Servicios</td>\n",
       "      <td>Seed</td>\n",
       "      <td>Medellín</td>\n",
       "      <td>5</td>\n",
       "      <td>No</td>\n",
       "      <td>No</td>\n",
       "      <td>925</td>\n",
       "      <td>8</td>\n",
       "      <td>Si</td>\n",
       "      <td>Si</td>\n",
       "      <td>Si</td>\n",
       "      <td>Si</td>\n",
       "      <td>45</td>\n",
       "      <td>Internet</td>\n",
       "      <td>2</td>\n",
       "      <td>No</td>\n",
       "      <td>Si</td>\n",
       "      <td>16</td>\n",
       "      <td>No</td>\n",
       "      <td>2</td>\n",
       "      <td>1</td>\n",
       "      <td>0</td>\n",
       "    </tr>\n",
       "    <tr>\n",
       "      <th>1</th>\n",
       "      <td>PAID</td>\n",
       "      <td>23</td>\n",
       "      <td>91852726</td>\n",
       "      <td>250000000</td>\n",
       "      <td>CR</td>\n",
       "      <td>25 a 36 meses</td>\n",
       "      <td>Servicios</td>\n",
       "      <td>Seed</td>\n",
       "      <td>Medellín</td>\n",
       "      <td>5</td>\n",
       "      <td>No</td>\n",
       "      <td>No</td>\n",
       "      <td>925</td>\n",
       "      <td>8</td>\n",
       "      <td>Si</td>\n",
       "      <td>Si</td>\n",
       "      <td>Si</td>\n",
       "      <td>Si</td>\n",
       "      <td>45</td>\n",
       "      <td>Internet</td>\n",
       "      <td>2</td>\n",
       "      <td>No</td>\n",
       "      <td>Si</td>\n",
       "      <td>16</td>\n",
       "      <td>No</td>\n",
       "      <td>2</td>\n",
       "      <td>1</td>\n",
       "      <td>1</td>\n",
       "    </tr>\n",
       "    <tr>\n",
       "      <th>2</th>\n",
       "      <td>PAID</td>\n",
       "      <td>14</td>\n",
       "      <td>15211138</td>\n",
       "      <td>50000000</td>\n",
       "      <td>KT - EX</td>\n",
       "      <td>13 a 24 meses</td>\n",
       "      <td>Servicios</td>\n",
       "      <td>Seed</td>\n",
       "      <td>Medellín</td>\n",
       "      <td>3</td>\n",
       "      <td>No</td>\n",
       "      <td>No</td>\n",
       "      <td>924</td>\n",
       "      <td>2</td>\n",
       "      <td>Si</td>\n",
       "      <td>No</td>\n",
       "      <td>Si</td>\n",
       "      <td>No</td>\n",
       "      <td>32</td>\n",
       "      <td>SocialNetworks</td>\n",
       "      <td>3</td>\n",
       "      <td>No</td>\n",
       "      <td>Si</td>\n",
       "      <td>3</td>\n",
       "      <td>No</td>\n",
       "      <td>0</td>\n",
       "      <td>1</td>\n",
       "      <td>1</td>\n",
       "    </tr>\n",
       "    <tr>\n",
       "      <th>3</th>\n",
       "      <td>PAID</td>\n",
       "      <td>64</td>\n",
       "      <td>8713879</td>\n",
       "      <td>40000000</td>\n",
       "      <td>SP</td>\n",
       "      <td>13 a 24 meses</td>\n",
       "      <td>Industria</td>\n",
       "      <td>Seed</td>\n",
       "      <td>Medellín</td>\n",
       "      <td>4</td>\n",
       "      <td>No</td>\n",
       "      <td>No</td>\n",
       "      <td>861</td>\n",
       "      <td>1</td>\n",
       "      <td>Si</td>\n",
       "      <td>No</td>\n",
       "      <td>Si</td>\n",
       "      <td>Si</td>\n",
       "      <td>44</td>\n",
       "      <td>CreditProfessionalContact</td>\n",
       "      <td>2</td>\n",
       "      <td>No</td>\n",
       "      <td>Si</td>\n",
       "      <td>5</td>\n",
       "      <td>No</td>\n",
       "      <td>0</td>\n",
       "      <td>1</td>\n",
       "      <td>1</td>\n",
       "    </tr>\n",
       "    <tr>\n",
       "      <th>4</th>\n",
       "      <td>PAID</td>\n",
       "      <td>64</td>\n",
       "      <td>8102608</td>\n",
       "      <td>40000000</td>\n",
       "      <td>SP</td>\n",
       "      <td>13 a 24 meses</td>\n",
       "      <td>Industria</td>\n",
       "      <td>Seed</td>\n",
       "      <td>Medellín</td>\n",
       "      <td>4</td>\n",
       "      <td>No</td>\n",
       "      <td>No</td>\n",
       "      <td>861</td>\n",
       "      <td>1</td>\n",
       "      <td>Si</td>\n",
       "      <td>No</td>\n",
       "      <td>Si</td>\n",
       "      <td>Si</td>\n",
       "      <td>44</td>\n",
       "      <td>CreditProfessionalContact</td>\n",
       "      <td>2</td>\n",
       "      <td>No</td>\n",
       "      <td>Si</td>\n",
       "      <td>5</td>\n",
       "      <td>No</td>\n",
       "      <td>0</td>\n",
       "      <td>1</td>\n",
       "      <td>1</td>\n",
       "    </tr>\n",
       "  </tbody>\n",
       "</table>\n",
       "</div>"
      ],
      "text/plain": [
       "  state  arrears_days  total_paid  Monto Acumulado Uso de los recursos          Plazo     Sector Ingresos Ubicación  Estrato Mínimo Procesos judiciales Alertas  Score Bureau Empresa  Huellas de Consulta Website empresa Instagram empresa LinkedIn empresa LinkedIn empresarios  Edad empresarios                  Activador  Número de accionistas Impacto Acceso previso a la banca  # Empleados Mujeres empresarias  Mujeres en cargos directivos  cluster_id_2  cluster_id_3\n",
       "0  PAID            17   147915805        250000000                 CR   25 a 36 meses  Servicios     Seed  Medellín               5                  No      No                   925                    8              Si                Si               Si                   Si                45                   Internet                      2      No                        Si           16                  No                             2             1             0\n",
       "1  PAID            23    91852726        250000000                 CR   25 a 36 meses  Servicios     Seed  Medellín               5                  No      No                   925                    8              Si                Si               Si                   Si                45                   Internet                      2      No                        Si           16                  No                             2             1             1\n",
       "2  PAID            14    15211138         50000000             KT - EX  13 a 24 meses  Servicios     Seed  Medellín               3                  No      No                   924                    2              Si                No               Si                   No                32             SocialNetworks                      3      No                        Si            3                  No                             0             1             1\n",
       "3  PAID            64     8713879         40000000                  SP  13 a 24 meses  Industria     Seed  Medellín               4                  No      No                   861                    1              Si                No               Si                   Si                44  CreditProfessionalContact                      2      No                        Si            5                  No                             0             1             1\n",
       "4  PAID            64     8102608         40000000                  SP  13 a 24 meses  Industria     Seed  Medellín               4                  No      No                   861                    1              Si                No               Si                   Si                44  CreditProfessionalContact                      2      No                        Si            5                  No                             0             1             1"
      ]
     },
     "execution_count": 3,
     "metadata": {},
     "output_type": "execute_result"
    }
   ],
   "source": [
    "path_file = 'clusters_FAMD.csv'\n",
    "data = pd.read_csv(path_file, index_col=0)\n",
    "data.head()"
   ]
  },
  {
   "cell_type": "code",
   "execution_count": 4,
   "metadata": {},
   "outputs": [
    {
     "data": {
      "text/plain": [
       "state                           False\n",
       "arrears_days                    False\n",
       "total_paid                      False\n",
       "Monto Acumulado                 False\n",
       "Uso de los recursos             False\n",
       "Plazo                           False\n",
       "Sector                          False\n",
       "Ingresos                        False\n",
       "Ubicación                       False\n",
       "Estrato Mínimo                  False\n",
       "Procesos judiciales             False\n",
       "Alertas                         False\n",
       "Score Bureau Empresa            False\n",
       "Huellas de Consulta             False\n",
       "Website empresa                 False\n",
       "Instagram empresa               False\n",
       "LinkedIn empresa                False\n",
       "LinkedIn empresarios            False\n",
       "Edad empresarios                False\n",
       "Activador                       False\n",
       "Número de accionistas           False\n",
       "Impacto                         False\n",
       "Acceso previso a la banca       False\n",
       "# Empleados                     False\n",
       "Mujeres empresarias             False\n",
       "Mujeres en cargos directivos    False\n",
       "cluster_id_2                    False\n",
       "cluster_id_3                    False\n",
       "dtype: bool"
      ]
     },
     "execution_count": 4,
     "metadata": {},
     "output_type": "execute_result"
    }
   ],
   "source": [
    "data.isnull().any()"
   ]
  },
  {
   "cell_type": "markdown",
   "metadata": {},
   "source": [
    "## Data analysis"
   ]
  },
  {
   "cell_type": "markdown",
   "metadata": {},
   "source": [
    "This section is to analyze clusters behaviour with two cathegorization of clients"
   ]
  },
  {
   "cell_type": "markdown",
   "metadata": {},
   "source": [
    "### Cathegorical data"
   ]
  },
  {
   "cell_type": "code",
   "execution_count": 5,
   "metadata": {},
   "outputs": [
    {
     "data": {
      "text/plain": [
       "Text(0.5, 0.98, 'Frecuency of observation by cluster_id_2')"
      ]
     },
     "execution_count": 5,
     "metadata": {},
     "output_type": "execute_result"
    },
    {
     "data": {
      "image/png": "[encoded data removed]",
      "text/plain": [
       "<Figure size 432x288 with 1 Axes>"
      ]
     },
     "metadata": {
      "needs_background": "light"
     },
     "output_type": "display_data"
    }
   ],
   "source": [
    "sns.countplot(x='cluster_id_2', data = data)\n",
    "plt.suptitle('Frecuency of observation by cluster_id_2')"
   ]
  },
  {
   "cell_type": "code",
   "execution_count": 6,
   "metadata": {},
   "outputs": [
    {
     "data": {
      "text/plain": [
       "1    435\n",
       "0    142\n",
       "Name: cluster_id_2, dtype: int64"
      ]
     },
     "execution_count": 6,
     "metadata": {},
     "output_type": "execute_result"
    }
   ],
   "source": [
    "data['cluster_id_2'].value_counts()"
   ]
  },
  {
   "cell_type": "markdown",
   "metadata": {},
   "source": [
    "We can see that there are more customers on the cluster_1 than the cluster_0"
   ]
  },
  {
   "cell_type": "markdown",
   "metadata": {},
   "source": [
    "### Analyzing relationship on other variables with two clusters"
   ]
  },
  {
   "cell_type": "code",
   "execution_count": 7,
   "metadata": {},
   "outputs": [],
   "source": [
    "#----------------------------------------------------------------"
   ]
  },
  {
   "cell_type": "markdown",
   "metadata": {},
   "source": [
    "#### Cathegorical = cluster_id_2 vs Quantitative = 'Column name'"
   ]
  },
  {
   "cell_type": "code",
   "execution_count": 8,
   "metadata": {},
   "outputs": [
    {
     "name": "stdout",
     "output_type": "stream",
     "text": [
      "<class 'pandas.core.frame.DataFrame'>\n",
      "Int64Index: 577 entries, 0 to 576\n",
      "Data columns (total 28 columns):\n",
      " #   Column                        Non-Null Count  Dtype \n",
      "---  ------                        --------------  ----- \n",
      " 0   state                         577 non-null    object\n",
      " 1   arrears_days                  577 non-null    int64 \n",
      " 2   total_paid                    577 non-null    int64 \n",
      " 3   Monto Acumulado               577 non-null    int64 \n",
      " 4   Uso de los recursos           577 non-null    object\n",
      " 5   Plazo                         577 non-null    object\n",
      " 6   Sector                        577 non-null    object\n",
      " 7   Ingresos                      577 non-null    object\n",
      " 8   Ubicación                     577 non-null    object\n",
      " 9   Estrato Mínimo                577 non-null    int64 \n",
      " 10  Procesos judiciales           577 non-null    object\n",
      " 11  Alertas                       577 non-null    object\n",
      " 12  Score Bureau Empresa          577 non-null    int64 \n",
      " 13  Huellas de Consulta           577 non-null    int64 \n",
      " 14  Website empresa               577 non-null    object\n",
      " 15  Instagram empresa             577 non-null    object\n",
      " 16  LinkedIn empresa              577 non-null    object\n",
      " 17  LinkedIn empresarios          577 non-null    object\n",
      " 18  Edad empresarios              577 non-null    int64 \n",
      " 19  Activador                     577 non-null    object\n",
      " 20  Número de accionistas         577 non-null    int64 \n",
      " 21  Impacto                       577 non-null    object\n",
      " 22  Acceso previso a la banca     577 non-null    object\n",
      " 23  # Empleados                   577 non-null    int64 \n",
      " 24  Mujeres empresarias           577 non-null    object\n",
      " 25  Mujeres en cargos directivos  577 non-null    int64 \n",
      " 26  cluster_id_2                  577 non-null    int64 \n",
      " 27  cluster_id_3                  577 non-null    int64 \n",
      "dtypes: int64(12), object(16)\n",
      "memory usage: 150.7+ KB\n"
     ]
    }
   ],
   "source": [
    "data.info()"
   ]
  },
  {
   "cell_type": "code",
   "execution_count": 9,
   "metadata": {},
   "outputs": [
    {
     "data": {
      "text/plain": [
       "Text(0.5, 0.98, 'Cluster_id_2 vs arrears_days')"
      ]
     },
     "execution_count": 9,
     "metadata": {},
     "output_type": "execute_result"
    },
    {
     "data": {
      "image/png": "[encoded data removed]",
      "text/plain": [
       "<Figure size 360x360 with 1 Axes>"
      ]
     },
     "metadata": {
      "needs_background": "light"
     },
     "output_type": "display_data"
    }
   ],
   "source": [
    "sns.catplot(x='cluster_id_2', y='arrears_days', kind='bar', data=data)\n",
    "plt.suptitle('Cluster_id_2 vs arrears_days')"
   ]
  },
  {
   "cell_type": "markdown",
   "metadata": {},
   "source": [
    "On this graph we can see that cluster 1 has less arrears_days than cluster 0"
   ]
  },
  {
   "cell_type": "code",
   "execution_count": 10,
   "metadata": {},
   "outputs": [
    {
     "data": {
      "text/plain": [
       "Text(0.5, 0.98, 'Cluster_id_2 vs Monto Acumulado')"
      ]
     },
     "execution_count": 10,
     "metadata": {},
     "output_type": "execute_result"
    },
    {
     "data": {
      "image/png": "[encoded data removed]",
      "text/plain": [
       "<Figure size 360x360 with 1 Axes>"
      ]
     },
     "metadata": {
      "needs_background": "light"
     },
     "output_type": "display_data"
    }
   ],
   "source": [
    "sns.catplot(x='cluster_id_2', y='Monto Acumulado', kind='bar', data=data)\n",
    "plt.suptitle('Cluster_id_2 vs Monto Acumulado')"
   ]
  },
  {
   "cell_type": "markdown",
   "metadata": {},
   "source": [
    "Cluster 1 has less 'Monto Acumulado' than cluster 0"
   ]
  },
  {
   "cell_type": "code",
   "execution_count": 11,
   "metadata": {},
   "outputs": [
    {
     "data": {
      "text/plain": [
       "Text(0.5, 0.98, 'Cluster_id_2 vs Score Bureau Empresa')"
      ]
     },
     "execution_count": 11,
     "metadata": {},
     "output_type": "execute_result"
    },
    {
     "data": {
      "image/png": "[encoded data removed]",
      "text/plain": [
       "<Figure size 360x360 with 1 Axes>"
      ]
     },
     "metadata": {
      "needs_background": "light"
     },
     "output_type": "display_data"
    }
   ],
   "source": [
    "sns.catplot(x='cluster_id_2', y='Score Bureau Empresa', kind='bar', data=data)\n",
    "plt.suptitle('Cluster_id_2 vs Score Bureau Empresa')"
   ]
  },
  {
   "cell_type": "markdown",
   "metadata": {},
   "source": [
    "Score Bureau between the two clusters are relatively similar"
   ]
  },
  {
   "cell_type": "code",
   "execution_count": 12,
   "metadata": {},
   "outputs": [
    {
     "data": {
      "text/plain": [
       "Text(0.5, 0.98, 'Cluster_id_2 vs Huellas de Consulta')"
      ]
     },
     "execution_count": 12,
     "metadata": {},
     "output_type": "execute_result"
    },
    {
     "data": {
      "image/png": "[encoded data removed]",
      "text/plain": [
       "<Figure size 360x360 with 1 Axes>"
      ]
     },
     "metadata": {
      "needs_background": "light"
     },
     "output_type": "display_data"
    }
   ],
   "source": [
    "sns.catplot(x='cluster_id_2', y='Huellas de Consulta', kind='bar', data=data)\n",
    "plt.suptitle('Cluster_id_2 vs Huellas de Consulta')"
   ]
  },
  {
   "cell_type": "markdown",
   "metadata": {},
   "source": [
    "Cluster 1 has less 'Huellas de consulta' than cluster 0"
   ]
  },
  {
   "cell_type": "code",
   "execution_count": 13,
   "metadata": {},
   "outputs": [
    {
     "data": {
      "text/plain": [
       "Text(0.5, 0.98, 'Cluster_id_2 vs Número de accionistas')"
      ]
     },
     "execution_count": 13,
     "metadata": {},
     "output_type": "execute_result"
    },
    {
     "data": {
      "image/png": "[encoded data removed]",
      "text/plain": [
       "<Figure size 360x360 with 1 Axes>"
      ]
     },
     "metadata": {
      "needs_background": "light"
     },
     "output_type": "display_data"
    }
   ],
   "source": [
    "sns.catplot(x='cluster_id_2', y='Número de accionistas', kind='bar', data=data)\n",
    "plt.suptitle('Cluster_id_2 vs Número de accionistas')"
   ]
  },
  {
   "cell_type": "markdown",
   "metadata": {},
   "source": [
    "Cluster 0 has more 'Accionistas' than cluster 1"
   ]
  },
  {
   "cell_type": "code",
   "execution_count": 14,
   "metadata": {},
   "outputs": [
    {
     "data": {
      "text/plain": [
       "Text(0.5, 0.98, 'Cluster_id_2 vs # Empleados')"
      ]
     },
     "execution_count": 14,
     "metadata": {},
     "output_type": "execute_result"
    },
    {
     "data": {
      "image/png": "[encoded data removed]",
      "text/plain": [
       "<Figure size 360x360 with 1 Axes>"
      ]
     },
     "metadata": {
      "needs_background": "light"
     },
     "output_type": "display_data"
    }
   ],
   "source": [
    "sns.catplot(x='cluster_id_2', y='# Empleados', kind='bar', data=data)\n",
    "plt.suptitle('Cluster_id_2 vs # Empleados')"
   ]
  },
  {
   "cell_type": "markdown",
   "metadata": {},
   "source": [
    "Cluster 1 has more 'Empleados' than cluster 0"
   ]
  },
  {
   "cell_type": "code",
   "execution_count": 15,
   "metadata": {},
   "outputs": [
    {
     "data": {
      "text/plain": [
       "Text(0.5, 0.98, 'Cluster_id_2 vs Mujeres en cargos directivos')"
      ]
     },
     "execution_count": 15,
     "metadata": {},
     "output_type": "execute_result"
    },
    {
     "data": {
      "image/png": "[encoded data removed]",
      "text/plain": [
       "<Figure size 360x360 with 1 Axes>"
      ]
     },
     "metadata": {
      "needs_background": "light"
     },
     "output_type": "display_data"
    }
   ],
   "source": [
    "sns.catplot(x='cluster_id_2', y='Mujeres en cargos directivos', kind='bar', data=data)\n",
    "plt.suptitle('Cluster_id_2 vs Mujeres en cargos directivos')"
   ]
  },
  {
   "cell_type": "markdown",
   "metadata": {},
   "source": [
    "Cluster 1 has more 'Mujeres en cargos directivos' than cluster 0"
   ]
  },
  {
   "cell_type": "code",
   "execution_count": 16,
   "metadata": {},
   "outputs": [],
   "source": [
    "#--------------------------------------------------------"
   ]
  },
  {
   "cell_type": "markdown",
   "metadata": {},
   "source": [
    "#### Cathegorical = cluster_id_2 vs Cathegorical = 'Column name'"
   ]
  },
  {
   "cell_type": "code",
   "execution_count": 17,
   "metadata": {},
   "outputs": [
    {
     "name": "stdout",
     "output_type": "stream",
     "text": [
      "<class 'pandas.core.frame.DataFrame'>\n",
      "Int64Index: 577 entries, 0 to 576\n",
      "Data columns (total 28 columns):\n",
      " #   Column                        Non-Null Count  Dtype \n",
      "---  ------                        --------------  ----- \n",
      " 0   state                         577 non-null    object\n",
      " 1   arrears_days                  577 non-null    int64 \n",
      " 2   total_paid                    577 non-null    int64 \n",
      " 3   Monto Acumulado               577 non-null    int64 \n",
      " 4   Uso de los recursos           577 non-null    object\n",
      " 5   Plazo                         577 non-null    object\n",
      " 6   Sector                        577 non-null    object\n",
      " 7   Ingresos                      577 non-null    object\n",
      " 8   Ubicación                     577 non-null    object\n",
      " 9   Estrato Mínimo                577 non-null    int64 \n",
      " 10  Procesos judiciales           577 non-null    object\n",
      " 11  Alertas                       577 non-null    object\n",
      " 12  Score Bureau Empresa          577 non-null    int64 \n",
      " 13  Huellas de Consulta           577 non-null    int64 \n",
      " 14  Website empresa               577 non-null    object\n",
      " 15  Instagram empresa             577 non-null    object\n",
      " 16  LinkedIn empresa              577 non-null    object\n",
      " 17  LinkedIn empresarios          577 non-null    object\n",
      " 18  Edad empresarios              577 non-null    int64 \n",
      " 19  Activador                     577 non-null    object\n",
      " 20  Número de accionistas         577 non-null    int64 \n",
      " 21  Impacto                       577 non-null    object\n",
      " 22  Acceso previso a la banca     577 non-null    object\n",
      " 23  # Empleados                   577 non-null    int64 \n",
      " 24  Mujeres empresarias           577 non-null    object\n",
      " 25  Mujeres en cargos directivos  577 non-null    int64 \n",
      " 26  cluster_id_2                  577 non-null    int64 \n",
      " 27  cluster_id_3                  577 non-null    int64 \n",
      "dtypes: int64(12), object(16)\n",
      "memory usage: 150.7+ KB\n"
     ]
    }
   ],
   "source": [
    "data.info()"
   ]
  },
  {
   "cell_type": "code",
   "execution_count": 18,
   "metadata": {},
   "outputs": [
    {
     "data": {
      "text/plain": [
       "cluster_id_2  state\n",
       "0             PAID     0.159445\n",
       "              LATE     0.086655\n",
       "1             PAID     0.483536\n",
       "              LATE     0.270364\n",
       "Name: state, dtype: float64"
      ]
     },
     "execution_count": 18,
     "metadata": {},
     "output_type": "execute_result"
    }
   ],
   "source": [
    "data.groupby('cluster_id_2')['state'].value_counts()/len(data)"
   ]
  },
  {
   "cell_type": "markdown",
   "metadata": {},
   "source": [
    "Cluster 0 has more clients on state PAID than cluster 1, but at the same time has more clients on Late than cluster 1"
   ]
  },
  {
   "cell_type": "code",
   "execution_count": 19,
   "metadata": {},
   "outputs": [
    {
     "data": {
      "text/plain": [
       "cluster_id_2  Uso de los recursos\n",
       "0             KT - CO                0.098787\n",
       "              KT - EX                0.086655\n",
       "              CR                     0.046794\n",
       "              SP                     0.013865\n",
       "1             KT - CO                0.275563\n",
       "              KT - EX                0.261698\n",
       "              CR                     0.116118\n",
       "              SP                     0.100520\n",
       "Name: Uso de los recursos, dtype: float64"
      ]
     },
     "execution_count": 19,
     "metadata": {},
     "output_type": "execute_result"
    }
   ],
   "source": [
    "data.groupby('cluster_id_2')['Uso de los recursos'].value_counts()/len(data)"
   ]
  },
  {
   "cell_type": "markdown",
   "metadata": {},
   "source": [
    "We can see the distribution between the two clusters"
   ]
  },
  {
   "cell_type": "code",
   "execution_count": 20,
   "metadata": {},
   "outputs": [
    {
     "data": {
      "text/plain": [
       "cluster_id_2  Plazo            \n",
       "0             Menos de 12 meses    0.109185\n",
       "              13 a 24 meses        0.084922\n",
       "              25 a 36 meses        0.036395\n",
       "              Más de 37 meses      0.015598\n",
       "1             13 a 24 meses        0.422877\n",
       "              Menos de 12 meses    0.209705\n",
       "              25 a 36 meses        0.117851\n",
       "              Más de 37 meses      0.003466\n",
       "Name: Plazo, dtype: float64"
      ]
     },
     "execution_count": 20,
     "metadata": {},
     "output_type": "execute_result"
    }
   ],
   "source": [
    "data.groupby('cluster_id_2')['Plazo'].value_counts()/len(data)"
   ]
  },
  {
   "cell_type": "code",
   "execution_count": 21,
   "metadata": {},
   "outputs": [],
   "source": [
    "# Cluster 0 has more clients on 'Plazo' on 13 to 24 months. On the other hand we have cluster 1 with 'Plazo' less than 12 months"
   ]
  },
  {
   "cell_type": "code",
   "execution_count": 22,
   "metadata": {},
   "outputs": [
    {
     "data": {
      "text/plain": [
       "cluster_id_2  Sector   \n",
       "0             Industria    0.123050\n",
       "              Servicios    0.093588\n",
       "              Comercio     0.029463\n",
       "1             Servicios    0.504333\n",
       "              Comercio     0.131716\n",
       "              Industria    0.117851\n",
       "Name: Sector, dtype: float64"
      ]
     },
     "execution_count": 22,
     "metadata": {},
     "output_type": "execute_result"
    }
   ],
   "source": [
    "data.groupby('cluster_id_2')['Sector'].value_counts()/len(data)"
   ]
  },
  {
   "cell_type": "code",
   "execution_count": 23,
   "metadata": {},
   "outputs": [],
   "source": [
    "# Cluster 0 has a ranking of (Servicios, Comercio and Industria) - Cluster 1 has a ranking of (Servicios, Industria y Comercio)"
   ]
  },
  {
   "cell_type": "code",
   "execution_count": 24,
   "metadata": {},
   "outputs": [
    {
     "data": {
      "text/plain": [
       "cluster_id_2  Ingresos\n",
       "0             Growth      0.091854\n",
       "              Venture     0.083189\n",
       "              Scale Up    0.069324\n",
       "              Seed        0.001733\n",
       "1             Seed        0.435009\n",
       "              Venture     0.213172\n",
       "              Scale Up    0.090121\n",
       "              Growth      0.015598\n",
       "Name: Ingresos, dtype: float64"
      ]
     },
     "execution_count": 24,
     "metadata": {},
     "output_type": "execute_result"
    }
   ],
   "source": [
    "data.groupby('cluster_id_2')['Ingresos'].value_counts()/len(data)"
   ]
  },
  {
   "cell_type": "code",
   "execution_count": null,
   "metadata": {},
   "outputs": [],
   "source": []
  },
  {
   "cell_type": "code",
   "execution_count": 25,
   "metadata": {},
   "outputs": [
    {
     "data": {
      "text/plain": [
       "cluster_id_2  Acceso previso a la banca\n",
       "0             Si                           0.239168\n",
       "              No                           0.006932\n",
       "1             Si                           0.464471\n",
       "              No                           0.289428\n",
       "Name: Acceso previso a la banca, dtype: float64"
      ]
     },
     "execution_count": 25,
     "metadata": {},
     "output_type": "execute_result"
    }
   ],
   "source": [
    "data.groupby('cluster_id_2')['Acceso previso a la banca'].value_counts()/len(data)"
   ]
  },
  {
   "cell_type": "code",
   "execution_count": null,
   "metadata": {},
   "outputs": [],
   "source": []
  },
  {
   "cell_type": "code",
   "execution_count": 26,
   "metadata": {},
   "outputs": [
    {
     "data": {
      "text/plain": [
       "cluster_id_2  Mujeres empresarias\n",
       "0             No                     0.223570\n",
       "              Si                     0.022530\n",
       "1             No                     0.582322\n",
       "              Si                     0.171577\n",
       "Name: Mujeres empresarias, dtype: float64"
      ]
     },
     "execution_count": 26,
     "metadata": {},
     "output_type": "execute_result"
    }
   ],
   "source": [
    "data.groupby('cluster_id_2')['Mujeres empresarias'].value_counts()/len(data)"
   ]
  },
  {
   "cell_type": "code",
   "execution_count": null,
   "metadata": {},
   "outputs": [],
   "source": []
  },
  {
   "cell_type": "code",
   "execution_count": 27,
   "metadata": {},
   "outputs": [
    {
     "data": {
      "text/plain": [
       "cluster_id_2  Activador                \n",
       "0             Other                        0.103986\n",
       "              FriendOrColleague            0.060659\n",
       "              CreditProfessionalContact    0.057192\n",
       "              Internet                     0.012132\n",
       "              Newspapers                   0.005199\n",
       "              SocialNetworks               0.003466\n",
       "              Email                        0.001733\n",
       "              Referrer                     0.001733\n",
       "1             FriendOrColleague            0.237435\n",
       "              Internet                     0.135182\n",
       "              CreditProfessionalContact    0.098787\n",
       "              Other                        0.095321\n",
       "              Newspapers                   0.064125\n",
       "              SocialNetworks               0.046794\n",
       "              Referrer                     0.038128\n",
       "              CommunicationMedia           0.012132\n",
       "              Email                        0.010399\n",
       "              RutaN                        0.008666\n",
       "              Fenalco                      0.006932\n",
       "Name: Activador, dtype: float64"
      ]
     },
     "execution_count": 27,
     "metadata": {},
     "output_type": "execute_result"
    }
   ],
   "source": [
    "data.groupby('cluster_id_2')['Activador'].value_counts()/len(data)"
   ]
  },
  {
   "cell_type": "code",
   "execution_count": null,
   "metadata": {},
   "outputs": [],
   "source": []
  },
  {
   "cell_type": "code",
   "execution_count": 28,
   "metadata": {},
   "outputs": [
    {
     "data": {
      "text/plain": [
       "cluster_id_2  Website empresa\n",
       "0             Si                 0.201040\n",
       "              No                 0.045061\n",
       "1             Si                 0.500867\n",
       "              No                 0.253033\n",
       "Name: Website empresa, dtype: float64"
      ]
     },
     "execution_count": 28,
     "metadata": {},
     "output_type": "execute_result"
    }
   ],
   "source": [
    "data.groupby('cluster_id_2')['Website empresa'].value_counts()/len(data)"
   ]
  },
  {
   "cell_type": "code",
   "execution_count": null,
   "metadata": {},
   "outputs": [],
   "source": []
  },
  {
   "cell_type": "code",
   "execution_count": 29,
   "metadata": {},
   "outputs": [
    {
     "data": {
      "text/plain": [
       "cluster_id_2  Estrato Mínimo\n",
       "0             5                 0.090121\n",
       "              4                 0.072790\n",
       "              6                 0.048527\n",
       "              3                 0.034662\n",
       "1             4                 0.254766\n",
       "              5                 0.225303\n",
       "              6                 0.140381\n",
       "              3                 0.126516\n",
       "              2                 0.006932\n",
       "Name: Estrato Mínimo, dtype: float64"
      ]
     },
     "execution_count": 29,
     "metadata": {},
     "output_type": "execute_result"
    }
   ],
   "source": [
    "data.groupby('cluster_id_2')['Estrato Mínimo'].value_counts()/len(data)"
   ]
  },
  {
   "cell_type": "code",
   "execution_count": null,
   "metadata": {},
   "outputs": [],
   "source": []
  },
  {
   "cell_type": "code",
   "execution_count": 30,
   "metadata": {},
   "outputs": [
    {
     "data": {
      "text/plain": [
       "cluster_id_2  Ubicación          \n",
       "0             Bogotá D.C.            0.077990\n",
       "              Medellín               0.064125\n",
       "              Itagüí                 0.031196\n",
       "              La Estrella            0.031196\n",
       "              Sabaneta               0.017331\n",
       "              Envigado               0.010399\n",
       "              Barranquilla           0.006932\n",
       "              Manizales              0.003466\n",
       "              Bello                  0.001733\n",
       "              Cartagena de indias    0.001733\n",
       "1             Bogotá D.C.            0.329289\n",
       "              Medellín               0.299827\n",
       "              Barranquilla           0.029463\n",
       "              Envigado               0.025997\n",
       "              Cali                   0.015598\n",
       "              Bucaramanga            0.010399\n",
       "              La Estrella            0.008666\n",
       "              Itagüí                 0.005199\n",
       "              Pereira                0.005199\n",
       "              Rionegro               0.005199\n",
       "              Manizales              0.003466\n",
       "              Sabaneta               0.003466\n",
       "              Armenia                0.001733\n",
       "              Cartagena de indias    0.001733\n",
       "              Copacabana             0.001733\n",
       "              La Ceja                0.001733\n",
       "              Marinilla              0.001733\n",
       "              Neiva                  0.001733\n",
       "              Santa Marta            0.001733\n",
       "Name: Ubicación, dtype: float64"
      ]
     },
     "execution_count": 30,
     "metadata": {},
     "output_type": "execute_result"
    }
   ],
   "source": [
    "data.groupby('cluster_id_2')['Ubicación'].value_counts()/len(data)"
   ]
  },
  {
   "cell_type": "code",
   "execution_count": null,
   "metadata": {},
   "outputs": [],
   "source": []
  },
  {
   "cell_type": "code",
   "execution_count": 31,
   "metadata": {},
   "outputs": [
    {
     "data": {
      "text/plain": [
       "cluster_id_2  Procesos judiciales\n",
       "0             No                     0.173310\n",
       "              Si                     0.072790\n",
       "1             No                     0.668977\n",
       "              Si                     0.084922\n",
       "Name: Procesos judiciales, dtype: float64"
      ]
     },
     "execution_count": 31,
     "metadata": {},
     "output_type": "execute_result"
    }
   ],
   "source": [
    "data.groupby('cluster_id_2')['Procesos judiciales'].value_counts()/len(data)"
   ]
  },
  {
   "cell_type": "code",
   "execution_count": null,
   "metadata": {},
   "outputs": [],
   "source": []
  },
  {
   "cell_type": "code",
   "execution_count": 32,
   "metadata": {},
   "outputs": [
    {
     "data": {
      "text/plain": [
       "cluster_id_2  Instagram empresa\n",
       "0             Si                   0.138648\n",
       "              No                   0.107452\n",
       "1             No                   0.402080\n",
       "              Si                   0.351820\n",
       "Name: Instagram empresa, dtype: float64"
      ]
     },
     "execution_count": 32,
     "metadata": {},
     "output_type": "execute_result"
    }
   ],
   "source": [
    "data.groupby('cluster_id_2')['Instagram empresa'].value_counts()/len(data)"
   ]
  },
  {
   "cell_type": "code",
   "execution_count": null,
   "metadata": {},
   "outputs": [],
   "source": []
  },
  {
   "cell_type": "code",
   "execution_count": 33,
   "metadata": {},
   "outputs": [
    {
     "data": {
      "text/plain": [
       "cluster_id_2  Impacto\n",
       "0             No         0.235702\n",
       "              Si         0.010399\n",
       "1             No         0.682842\n",
       "              Si         0.071057\n",
       "Name: Impacto, dtype: float64"
      ]
     },
     "execution_count": 33,
     "metadata": {},
     "output_type": "execute_result"
    }
   ],
   "source": [
    "data.groupby('cluster_id_2')['Impacto'].value_counts()/len(data)"
   ]
  },
  {
   "cell_type": "code",
   "execution_count": null,
   "metadata": {},
   "outputs": [],
   "source": []
  },
  {
   "cell_type": "markdown",
   "metadata": {},
   "source": [
    "### Analyzing relationship on other variables with three clusters"
   ]
  },
  {
   "cell_type": "markdown",
   "metadata": {},
   "source": [
    "This section is to analyze clusters behaviour with three cathegorization of clients"
   ]
  },
  {
   "cell_type": "markdown",
   "metadata": {},
   "source": [
    "### Cathegorical data"
   ]
  },
  {
   "cell_type": "markdown",
   "metadata": {},
   "source": [
    "#### Cathegorical = cluster_id_2 vs Quantitative = 'Column name'"
   ]
  },
  {
   "cell_type": "code",
   "execution_count": 34,
   "metadata": {},
   "outputs": [
    {
     "data": {
      "text/plain": [
       "Index(['state', 'arrears_days', 'total_paid', 'Monto Acumulado', 'Uso de los recursos', 'Plazo', 'Sector', 'Ingresos', 'Ubicación', 'Estrato Mínimo', 'Procesos judiciales', 'Alertas', 'Score Bureau Empresa', 'Huellas de Consulta', 'Website empresa', 'Instagram empresa', 'LinkedIn empresa', 'LinkedIn empresarios', 'Edad empresarios', 'Activador', 'Número de accionistas', 'Impacto', 'Acceso previso a la banca', '# Empleados', 'Mujeres empresarias', 'Mujeres en cargos directivos', 'cluster_id_2', 'cluster_id_3'], dtype='object')"
      ]
     },
     "execution_count": 34,
     "metadata": {},
     "output_type": "execute_result"
    }
   ],
   "source": [
    "data.columns"
   ]
  },
  {
   "cell_type": "code",
   "execution_count": 35,
   "metadata": {},
   "outputs": [
    {
     "data": {
      "text/plain": [
       "Text(0.5, 0.98, 'Frecuency of observation by cluster_id_3')"
      ]
     },
     "execution_count": 35,
     "metadata": {},
     "output_type": "execute_result"
    },
    {
     "data": {
      "image/png": "[encoded data removed]",
      "text/plain": [
       "<Figure size 432x288 with 1 Axes>"
      ]
     },
     "metadata": {
      "needs_background": "light"
     },
     "output_type": "display_data"
    }
   ],
   "source": [
    "sns.countplot(x='cluster_id_3', data = data)\n",
    "plt.suptitle('Frecuency of observation by cluster_id_3')"
   ]
  },
  {
   "cell_type": "markdown",
   "metadata": {},
   "source": [
    "### Analyzing relationship on other variables with three clusters"
   ]
  },
  {
   "cell_type": "code",
   "execution_count": 36,
   "metadata": {},
   "outputs": [],
   "source": [
    "#--------------------------------------------------------------------"
   ]
  },
  {
   "cell_type": "markdown",
   "metadata": {},
   "source": [
    "#### Cathegorical = cluster_id_3 vs Quantitative = 'Column name'"
   ]
  },
  {
   "cell_type": "code",
   "execution_count": 37,
   "metadata": {},
   "outputs": [
    {
     "data": {
      "text/plain": [
       "Text(0.5, 0.98, 'Cluster_id_3 vs arrears_days')"
      ]
     },
     "execution_count": 37,
     "metadata": {},
     "output_type": "execute_result"
    },
    {
     "data": {
      "image/png": "[encoded data removed]",
      "text/plain": [
       "<Figure size 360x360 with 1 Axes>"
      ]
     },
     "metadata": {
      "needs_background": "light"
     },
     "output_type": "display_data"
    }
   ],
   "source": [
    "sns.catplot(x='cluster_id_3', y='arrears_days', kind='bar', data=data)\n",
    "plt.suptitle('Cluster_id_3 vs arrears_days')"
   ]
  },
  {
   "cell_type": "code",
   "execution_count": 38,
   "metadata": {},
   "outputs": [
    {
     "data": {
      "text/plain": [
       "Text(0.5, 0.98, 'Cluster_id_3 vs Monto Acumulado')"
      ]
     },
     "execution_count": 38,
     "metadata": {},
     "output_type": "execute_result"
    },
    {
     "data": {
      "image/png": "[encoded data removed]",
      "text/plain": [
       "<Figure size 360x360 with 1 Axes>"
      ]
     },
     "metadata": {
      "needs_background": "light"
     },
     "output_type": "display_data"
    }
   ],
   "source": [
    "sns.catplot(x='cluster_id_3', y='Monto Acumulado', kind='bar', data=data)\n",
    "plt.suptitle('Cluster_id_3 vs Monto Acumulado')"
   ]
  },
  {
   "cell_type": "code",
   "execution_count": 39,
   "metadata": {},
   "outputs": [
    {
     "data": {
      "text/plain": [
       "Text(0.5, 0.98, 'Cluster_id_3 vs Score Bureau Empresa')"
      ]
     },
     "execution_count": 39,
     "metadata": {},
     "output_type": "execute_result"
    },
    {
     "data": {
      "image/png": "[encoded data removed]",
      "text/plain": [
       "<Figure size 360x360 with 1 Axes>"
      ]
     },
     "metadata": {
      "needs_background": "light"
     },
     "output_type": "display_data"
    }
   ],
   "source": [
    "sns.catplot(x='cluster_id_3', y='Score Bureau Empresa', kind='bar', data=data)\n",
    "plt.suptitle('Cluster_id_3 vs Score Bureau Empresa')"
   ]
  },
  {
   "cell_type": "code",
   "execution_count": 40,
   "metadata": {},
   "outputs": [
    {
     "data": {
      "text/plain": [
       "Text(0.5, 0.98, 'Cluster_id_3 vs Número de accionistas')"
      ]
     },
     "execution_count": 40,
     "metadata": {},
     "output_type": "execute_result"
    },
    {
     "data": {
      "image/png": "[encoded data removed]",
      "text/plain": [
       "<Figure size 360x360 with 1 Axes>"
      ]
     },
     "metadata": {
      "needs_background": "light"
     },
     "output_type": "display_data"
    }
   ],
   "source": [
    "sns.catplot(x='cluster_id_3', y='Número de accionistas', kind='bar', data=data)\n",
    "plt.suptitle('Cluster_id_3 vs Número de accionistas')"
   ]
  },
  {
   "cell_type": "code",
   "execution_count": 41,
   "metadata": {},
   "outputs": [
    {
     "data": {
      "text/plain": [
       "Text(0.5, 0.98, 'Cluster_id_3 vs # Empleados')"
      ]
     },
     "execution_count": 41,
     "metadata": {},
     "output_type": "execute_result"
    },
    {
     "data": {
      "image/png": "[encoded data removed]",
      "text/plain": [
       "<Figure size 360x360 with 1 Axes>"
      ]
     },
     "metadata": {
      "needs_background": "light"
     },
     "output_type": "display_data"
    }
   ],
   "source": [
    "sns.catplot(x='cluster_id_3', y='# Empleados', kind='bar', data=data)\n",
    "plt.suptitle('Cluster_id_3 vs # Empleados')"
   ]
  },
  {
   "cell_type": "code",
   "execution_count": 42,
   "metadata": {},
   "outputs": [
    {
     "data": {
      "text/plain": [
       "Text(0.5, 0.98, 'Cluster_id_3 vs Mujeres en cargos directivos')"
      ]
     },
     "execution_count": 42,
     "metadata": {},
     "output_type": "execute_result"
    },
    {
     "data": {
      "image/png": "[encoded data removed]",
      "text/plain": [
       "<Figure size 360x360 with 1 Axes>"
      ]
     },
     "metadata": {
      "needs_background": "light"
     },
     "output_type": "display_data"
    }
   ],
   "source": [
    "sns.catplot(x='cluster_id_3', y='Mujeres en cargos directivos', kind='bar', data=data)\n",
    "plt.suptitle('Cluster_id_3 vs Mujeres en cargos directivos')"
   ]
  },
  {
   "cell_type": "code",
   "execution_count": null,
   "metadata": {},
   "outputs": [],
   "source": []
  },
  {
   "cell_type": "code",
   "execution_count": null,
   "metadata": {},
   "outputs": [],
   "source": []
  },
  {
   "cell_type": "code",
   "execution_count": 43,
   "metadata": {},
   "outputs": [
    {
     "name": "stdout",
     "output_type": "stream",
     "text": [
      "<class 'pandas.core.frame.DataFrame'>\n",
      "Int64Index: 577 entries, 0 to 576\n",
      "Data columns (total 28 columns):\n",
      " #   Column                        Non-Null Count  Dtype \n",
      "---  ------                        --------------  ----- \n",
      " 0   state                         577 non-null    object\n",
      " 1   arrears_days                  577 non-null    int64 \n",
      " 2   total_paid                    577 non-null    int64 \n",
      " 3   Monto Acumulado               577 non-null    int64 \n",
      " 4   Uso de los recursos           577 non-null    object\n",
      " 5   Plazo                         577 non-null    object\n",
      " 6   Sector                        577 non-null    object\n",
      " 7   Ingresos                      577 non-null    object\n",
      " 8   Ubicación                     577 non-null    object\n",
      " 9   Estrato Mínimo                577 non-null    int64 \n",
      " 10  Procesos judiciales           577 non-null    object\n",
      " 11  Alertas                       577 non-null    object\n",
      " 12  Score Bureau Empresa          577 non-null    int64 \n",
      " 13  Huellas de Consulta           577 non-null    int64 \n",
      " 14  Website empresa               577 non-null    object\n",
      " 15  Instagram empresa             577 non-null    object\n",
      " 16  LinkedIn empresa              577 non-null    object\n",
      " 17  LinkedIn empresarios          577 non-null    object\n",
      " 18  Edad empresarios              577 non-null    int64 \n",
      " 19  Activador                     577 non-null    object\n",
      " 20  Número de accionistas         577 non-null    int64 \n",
      " 21  Impacto                       577 non-null    object\n",
      " 22  Acceso previso a la banca     577 non-null    object\n",
      " 23  # Empleados                   577 non-null    int64 \n",
      " 24  Mujeres empresarias           577 non-null    object\n",
      " 25  Mujeres en cargos directivos  577 non-null    int64 \n",
      " 26  cluster_id_2                  577 non-null    int64 \n",
      " 27  cluster_id_3                  577 non-null    int64 \n",
      "dtypes: int64(12), object(16)\n",
      "memory usage: 150.7+ KB\n"
     ]
    }
   ],
   "source": [
    "data.info()"
   ]
  },
  {
   "cell_type": "code",
   "execution_count": 44,
   "metadata": {},
   "outputs": [
    {
     "data": {
      "text/plain": [
       "Index(['state', 'arrears_days', 'total_paid', 'Monto Acumulado', 'Uso de los recursos', 'Plazo', 'Sector', 'Ingresos', 'Ubicación', 'Estrato Mínimo', 'Procesos judiciales', 'Alertas', 'Score Bureau Empresa', 'Huellas de Consulta', 'Website empresa', 'Instagram empresa', 'LinkedIn empresa', 'LinkedIn empresarios', 'Edad empresarios', 'Activador', 'Número de accionistas', 'Impacto', 'Acceso previso a la banca', '# Empleados', 'Mujeres empresarias', 'Mujeres en cargos directivos', 'cluster_id_2', 'cluster_id_3'], dtype='object')"
      ]
     },
     "execution_count": 44,
     "metadata": {},
     "output_type": "execute_result"
    }
   ],
   "source": [
    "data.columns"
   ]
  },
  {
   "cell_type": "markdown",
   "metadata": {},
   "source": [
    "### Multi-linear regression"
   ]
  },
  {
   "cell_type": "code",
   "execution_count": 45,
   "metadata": {},
   "outputs": [
    {
     "name": "stdout",
     "output_type": "stream",
     "text": [
      "                            OLS Regression Results                            \n",
      "==============================================================================\n",
      "Dep. Variable:           arrears_days   R-squared:                       0.079\n",
      "Model:                            OLS   Adj. R-squared:                  0.076\n",
      "Method:                 Least Squares   F-statistic:                     24.68\n",
      "Date:                Tue, 13 Oct 2020   Prob (F-statistic):           5.21e-11\n",
      "Time:                        16:40:39   Log-Likelihood:                -3606.5\n",
      "No. Observations:                 577   AIC:                             7219.\n",
      "Df Residuals:                     574   BIC:                             7232.\n",
      "Df Model:                           2                                         \n",
      "Covariance Type:            nonrobust                                         \n",
      "========================================================================================\n",
      "                           coef    std err          t      P>|t|      [0.025      0.975]\n",
      "----------------------------------------------------------------------------------------\n",
      "const                  123.8634     19.777      6.263      0.000      85.019     162.708\n",
      "Huellas de Consulta      4.0733      0.680      5.990      0.000       2.738       5.409\n",
      "Score Bureau Empresa    -0.1020      0.023     -4.359      0.000      -0.148      -0.056\n",
      "==============================================================================\n",
      "Omnibus:                      371.639   Durbin-Watson:                   1.474\n",
      "Prob(Omnibus):                  0.000   Jarque-Bera (JB):             3412.454\n",
      "Skew:                           2.820   Prob(JB):                         0.00\n",
      "Kurtosis:                      13.494   Cond. No.                     3.18e+03\n",
      "==============================================================================\n",
      "\n",
      "Warnings:\n",
      "[1] Standard Errors assume that the covariance matrix of the errors is correctly specified.\n",
      "[2] The condition number is large, 3.18e+03. This might indicate that there are\n",
      "strong multicollinearity or other numerical problems.\n"
     ]
    }
   ],
   "source": [
    "X = data[['Huellas de Consulta', 'Score Bureau Empresa']]\n",
    "Y = data['arrears_days']\n",
    "X = sm.add_constant(X) # adding a constant\n",
    " \n",
    "model = sm.OLS(Y, X).fit()\n",
    "predictions = model.predict(X) \n",
    " \n",
    "print_model = model.summary()\n",
    "print(print_model)"
   ]
  },
  {
   "cell_type": "code",
   "execution_count": null,
   "metadata": {},
   "outputs": [],
   "source": []
  }
 ],
 "metadata": {
  "kernelspec": {
   "display_name": "Python 3",
   "language": "python",
   "name": "python3"
  },
  "language_info": {
   "codemirror_mode": {
    "name": "ipython",
    "version": 3
   },
   "file_extension": ".py",
   "mimetype": "text/x-python",
   "name": "python",
   "nbconvert_exporter": "python",
   "pygments_lexer": "ipython3",
   "version": "3.8.3"
  }
 },
 "nbformat": 4,
 "nbformat_minor": 4
}
