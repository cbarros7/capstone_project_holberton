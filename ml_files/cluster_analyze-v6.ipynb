{
 "cells": [
  {
   "cell_type": "markdown",
   "metadata": {
    "slideshow": {
     "slide_type": "slide"
    }
   },
   "source": [
    "# Analyzing data from clusters FAMD-v6"
   ]
  },
  {
   "cell_type": "code",
   "execution_count": 73,
   "metadata": {
    "ExecuteTime": {
     "end_time": "2020-10-28T16:29:53.640897Z",
     "start_time": "2020-10-28T16:29:53.626878Z"
    },
    "slideshow": {
     "slide_type": "slide"
    }
   },
   "outputs": [],
   "source": [
    "import pandas as pd\n",
    "import numpy as np\n",
    "import json\n",
    "import datetime as dt\n",
    "import seaborn as sns\n",
    "import matplotlib.pyplot as plt\n",
    "import statsmodels.api as sm\n",
    "import statsmodels.formula.api as smf\n",
    "import statsmodels.stats.multicomp as multi\n",
    "import scipy.stats\n",
    "# Configuración de pandas \n",
    "pd.set_option('display.max_rows', 500)\n",
    "pd.set_option('display.max_columns', 500)\n",
    "pd.set_option('display.width', 1000)"
   ]
  },
  {
   "cell_type": "markdown",
   "metadata": {
    "slideshow": {
     "slide_type": "slide"
    }
   },
   "source": [
    "## Loading data"
   ]
  },
  {
   "cell_type": "code",
   "execution_count": 74,
   "metadata": {
    "ExecuteTime": {
     "end_time": "2020-10-28T16:29:53.863884Z",
     "start_time": "2020-10-28T16:29:53.643886Z"
    },
    "slideshow": {
     "slide_type": "subslide"
    }
   },
   "outputs": [
    {
     "data": {
      "text/html": [
       "<div>\n",
       "<style scoped>\n",
       "    .dataframe tbody tr th:only-of-type {\n",
       "        vertical-align: middle;\n",
       "    }\n",
       "\n",
       "    .dataframe tbody tr th {\n",
       "        vertical-align: top;\n",
       "    }\n",
       "\n",
       "    .dataframe thead th {\n",
       "        text-align: right;\n",
       "    }\n",
       "</style>\n",
       "<table border=\"1\" class=\"dataframe\">\n",
       "  <thead>\n",
       "    <tr style=\"text-align: right;\">\n",
       "      <th></th>\n",
       "      <th>Unnamed: 0</th>\n",
       "      <th>client_id</th>\n",
       "      <th>loan_id</th>\n",
       "      <th>state</th>\n",
       "      <th>arrears_days</th>\n",
       "      <th>total_paid</th>\n",
       "      <th>percentage</th>\n",
       "      <th>Monto Acumulado</th>\n",
       "      <th>Uso de los recursos</th>\n",
       "      <th>Plazo</th>\n",
       "      <th>Sector</th>\n",
       "      <th>Ingresos</th>\n",
       "      <th>Ubicación</th>\n",
       "      <th>Estrato Mínimo</th>\n",
       "      <th>Procesos judiciales</th>\n",
       "      <th>Alertas</th>\n",
       "      <th>Score Bureau Empresa</th>\n",
       "      <th>Huellas de Consulta</th>\n",
       "      <th>Tiempo en el negocio</th>\n",
       "      <th>Website empresa</th>\n",
       "      <th>Instagram empresa</th>\n",
       "      <th>LinkedIn empresa</th>\n",
       "      <th>LinkedIn empresarios</th>\n",
       "      <th>Edad empresarios</th>\n",
       "      <th>Activador</th>\n",
       "      <th>Número de accionistas</th>\n",
       "      <th>Impacto</th>\n",
       "      <th>Acceso previso a la banca</th>\n",
       "      <th># Empleados</th>\n",
       "      <th>Mujeres empresarias</th>\n",
       "      <th>Mujeres en cargos directivos</th>\n",
       "      <th>cluster</th>\n",
       "    </tr>\n",
       "  </thead>\n",
       "  <tbody>\n",
       "    <tr>\n",
       "      <th>0</th>\n",
       "      <td>0</td>\n",
       "      <td>241</td>\n",
       "      <td>1076</td>\n",
       "      <td>PAID</td>\n",
       "      <td>17</td>\n",
       "      <td>147915805.0</td>\n",
       "      <td>0.063704</td>\n",
       "      <td>250000000</td>\n",
       "      <td>CR</td>\n",
       "      <td>25 a 36 meses</td>\n",
       "      <td>Servicios</td>\n",
       "      <td>Seed</td>\n",
       "      <td>Medellín</td>\n",
       "      <td>5</td>\n",
       "      <td>No</td>\n",
       "      <td>No</td>\n",
       "      <td>925.0</td>\n",
       "      <td>8.0</td>\n",
       "      <td>2016</td>\n",
       "      <td>Si</td>\n",
       "      <td>Si</td>\n",
       "      <td>Si</td>\n",
       "      <td>Si</td>\n",
       "      <td>45</td>\n",
       "      <td>Internet</td>\n",
       "      <td>2.0</td>\n",
       "      <td>No</td>\n",
       "      <td>Si</td>\n",
       "      <td>16</td>\n",
       "      <td>No</td>\n",
       "      <td>2</td>\n",
       "      <td>1</td>\n",
       "    </tr>\n",
       "    <tr>\n",
       "      <th>1</th>\n",
       "      <td>1</td>\n",
       "      <td>241</td>\n",
       "      <td>1244</td>\n",
       "      <td>PAID</td>\n",
       "      <td>23</td>\n",
       "      <td>91852726.0</td>\n",
       "      <td>0.088889</td>\n",
       "      <td>250000000</td>\n",
       "      <td>CR</td>\n",
       "      <td>25 a 36 meses</td>\n",
       "      <td>Servicios</td>\n",
       "      <td>Seed</td>\n",
       "      <td>Medellín</td>\n",
       "      <td>5</td>\n",
       "      <td>No</td>\n",
       "      <td>No</td>\n",
       "      <td>925.0</td>\n",
       "      <td>8.0</td>\n",
       "      <td>2016</td>\n",
       "      <td>Si</td>\n",
       "      <td>Si</td>\n",
       "      <td>Si</td>\n",
       "      <td>Si</td>\n",
       "      <td>45</td>\n",
       "      <td>Internet</td>\n",
       "      <td>2.0</td>\n",
       "      <td>No</td>\n",
       "      <td>Si</td>\n",
       "      <td>16</td>\n",
       "      <td>No</td>\n",
       "      <td>2</td>\n",
       "      <td>1</td>\n",
       "    </tr>\n",
       "    <tr>\n",
       "      <th>2</th>\n",
       "      <td>2</td>\n",
       "      <td>362</td>\n",
       "      <td>1469</td>\n",
       "      <td>PAID</td>\n",
       "      <td>14</td>\n",
       "      <td>15211138.0</td>\n",
       "      <td>0.086667</td>\n",
       "      <td>50000000</td>\n",
       "      <td>KT - EX</td>\n",
       "      <td>13 a 24 meses</td>\n",
       "      <td>Servicios</td>\n",
       "      <td>Seed</td>\n",
       "      <td>Medellín</td>\n",
       "      <td>3</td>\n",
       "      <td>No</td>\n",
       "      <td>No</td>\n",
       "      <td>924.0</td>\n",
       "      <td>2.0</td>\n",
       "      <td>2014</td>\n",
       "      <td>Si</td>\n",
       "      <td>No</td>\n",
       "      <td>Si</td>\n",
       "      <td>No</td>\n",
       "      <td>32</td>\n",
       "      <td>SocialNetworks</td>\n",
       "      <td>3.0</td>\n",
       "      <td>No</td>\n",
       "      <td>Si</td>\n",
       "      <td>3</td>\n",
       "      <td>No</td>\n",
       "      <td>0</td>\n",
       "      <td>0</td>\n",
       "    </tr>\n",
       "    <tr>\n",
       "      <th>3</th>\n",
       "      <td>3</td>\n",
       "      <td>428</td>\n",
       "      <td>119</td>\n",
       "      <td>LATE</td>\n",
       "      <td>64</td>\n",
       "      <td>8713879.0</td>\n",
       "      <td>0.300000</td>\n",
       "      <td>40000000</td>\n",
       "      <td>SP</td>\n",
       "      <td>13 a 24 meses</td>\n",
       "      <td>Industria</td>\n",
       "      <td>Seed</td>\n",
       "      <td>Medellín</td>\n",
       "      <td>4</td>\n",
       "      <td>No</td>\n",
       "      <td>No</td>\n",
       "      <td>861.0</td>\n",
       "      <td>1.0</td>\n",
       "      <td>2015</td>\n",
       "      <td>Si</td>\n",
       "      <td>No</td>\n",
       "      <td>Si</td>\n",
       "      <td>Si</td>\n",
       "      <td>44</td>\n",
       "      <td>CreditProfessionalContact</td>\n",
       "      <td>2.0</td>\n",
       "      <td>No</td>\n",
       "      <td>Si</td>\n",
       "      <td>5</td>\n",
       "      <td>No</td>\n",
       "      <td>0</td>\n",
       "      <td>0</td>\n",
       "    </tr>\n",
       "    <tr>\n",
       "      <th>4</th>\n",
       "      <td>4</td>\n",
       "      <td>428</td>\n",
       "      <td>120</td>\n",
       "      <td>LATE</td>\n",
       "      <td>64</td>\n",
       "      <td>8102608.0</td>\n",
       "      <td>0.300000</td>\n",
       "      <td>40000000</td>\n",
       "      <td>SP</td>\n",
       "      <td>13 a 24 meses</td>\n",
       "      <td>Industria</td>\n",
       "      <td>Seed</td>\n",
       "      <td>Medellín</td>\n",
       "      <td>4</td>\n",
       "      <td>No</td>\n",
       "      <td>No</td>\n",
       "      <td>861.0</td>\n",
       "      <td>1.0</td>\n",
       "      <td>2015</td>\n",
       "      <td>Si</td>\n",
       "      <td>No</td>\n",
       "      <td>Si</td>\n",
       "      <td>Si</td>\n",
       "      <td>44</td>\n",
       "      <td>CreditProfessionalContact</td>\n",
       "      <td>2.0</td>\n",
       "      <td>No</td>\n",
       "      <td>Si</td>\n",
       "      <td>5</td>\n",
       "      <td>No</td>\n",
       "      <td>0</td>\n",
       "      <td>0</td>\n",
       "    </tr>\n",
       "  </tbody>\n",
       "</table>\n",
       "</div>"
      ],
      "text/plain": [
       "   Unnamed: 0  client_id  loan_id state  arrears_days   total_paid  percentage  Monto Acumulado Uso de los recursos          Plazo     Sector Ingresos Ubicación  Estrato Mínimo Procesos judiciales Alertas  Score Bureau Empresa  Huellas de Consulta  Tiempo en el negocio Website empresa Instagram empresa LinkedIn empresa LinkedIn empresarios  Edad empresarios                  Activador  Número de accionistas Impacto Acceso previso a la banca  # Empleados Mujeres empresarias  Mujeres en cargos directivos  cluster\n",
       "0           0        241     1076  PAID            17  147915805.0    0.063704        250000000                 CR   25 a 36 meses  Servicios     Seed  Medellín               5                  No      No                 925.0                  8.0                  2016              Si                Si               Si                   Si                45                   Internet                    2.0      No                        Si           16                  No                             2        1\n",
       "1           1        241     1244  PAID            23   91852726.0    0.088889        250000000                 CR   25 a 36 meses  Servicios     Seed  Medellín               5                  No      No                 925.0                  8.0                  2016              Si                Si               Si                   Si                45                   Internet                    2.0      No                        Si           16                  No                             2        1\n",
       "2           2        362     1469  PAID            14   15211138.0    0.086667         50000000             KT - EX  13 a 24 meses  Servicios     Seed  Medellín               3                  No      No                 924.0                  2.0                  2014              Si                No               Si                   No                32             SocialNetworks                    3.0      No                        Si            3                  No                             0        0\n",
       "3           3        428      119  LATE            64    8713879.0    0.300000         40000000                  SP  13 a 24 meses  Industria     Seed  Medellín               4                  No      No                 861.0                  1.0                  2015              Si                No               Si                   Si                44  CreditProfessionalContact                    2.0      No                        Si            5                  No                             0        0\n",
       "4           4        428      120  LATE            64    8102608.0    0.300000         40000000                  SP  13 a 24 meses  Industria     Seed  Medellín               4                  No      No                 861.0                  1.0                  2015              Si                No               Si                   Si                44  CreditProfessionalContact                    2.0      No                        Si            5                  No                             0        0"
      ]
     },
     "execution_count": 74,
     "metadata": {},
     "output_type": "execute_result"
    }
   ],
   "source": [
    "path_file = 'data/clusterizacion_v6.csv'\n",
    "data = pd.read_csv(path_file)\n",
    "data.head()"
   ]
  },
  {
   "cell_type": "code",
   "execution_count": 75,
   "metadata": {
    "ExecuteTime": {
     "end_time": "2020-10-28T16:29:53.910895Z",
     "start_time": "2020-10-28T16:29:53.866888Z"
    },
    "slideshow": {
     "slide_type": "skip"
    }
   },
   "outputs": [
    {
     "data": {
      "text/plain": [
       "Unnamed: 0                      False\n",
       "client_id                       False\n",
       "loan_id                         False\n",
       "state                           False\n",
       "arrears_days                    False\n",
       "total_paid                      False\n",
       "percentage                      False\n",
       "Monto Acumulado                 False\n",
       "Uso de los recursos             False\n",
       "Plazo                           False\n",
       "Sector                          False\n",
       "Ingresos                        False\n",
       "Ubicación                       False\n",
       "Estrato Mínimo                  False\n",
       "Procesos judiciales             False\n",
       "Alertas                         False\n",
       "Score Bureau Empresa            False\n",
       "Huellas de Consulta             False\n",
       "Tiempo en el negocio            False\n",
       "Website empresa                 False\n",
       "Instagram empresa               False\n",
       "LinkedIn empresa                False\n",
       "LinkedIn empresarios            False\n",
       "Edad empresarios                False\n",
       "Activador                       False\n",
       "Número de accionistas           False\n",
       "Impacto                         False\n",
       "Acceso previso a la banca       False\n",
       "# Empleados                     False\n",
       "Mujeres empresarias             False\n",
       "Mujeres en cargos directivos    False\n",
       "cluster                         False\n",
       "dtype: bool"
      ]
     },
     "execution_count": 75,
     "metadata": {},
     "output_type": "execute_result"
    }
   ],
   "source": [
    "data.isnull().any()"
   ]
  },
  {
   "cell_type": "markdown",
   "metadata": {
    "slideshow": {
     "slide_type": "slide"
    }
   },
   "source": [
    "## Data analysis"
   ]
  },
  {
   "cell_type": "markdown",
   "metadata": {},
   "source": [
    "This section is to analyze clusters behaviour with two cathegorization of clients"
   ]
  },
  {
   "cell_type": "markdown",
   "metadata": {
    "slideshow": {
     "slide_type": "slide"
    }
   },
   "source": [
    "### Cathegorical data"
   ]
  },
  {
   "cell_type": "code",
   "execution_count": 76,
   "metadata": {
    "ExecuteTime": {
     "end_time": "2020-10-28T16:29:54.117889Z",
     "start_time": "2020-10-28T16:29:53.914874Z"
    },
    "slideshow": {
     "slide_type": "subslide"
    }
   },
   "outputs": [
    {
     "data": {
      "text/plain": [
       "Text(0.5, 0.98, 'Frecuency of observation by cluster')"
      ]
     },
     "execution_count": 76,
     "metadata": {},
     "output_type": "execute_result"
    },
    {
     "data": {
      "image/png": "[encoded data removed]",
      "text/plain": [
       "<Figure size 432x288 with 1 Axes>"
      ]
     },
     "metadata": {
      "needs_background": "light"
     },
     "output_type": "display_data"
    }
   ],
   "source": [
    "sns.countplot(x='cluster', data = data)\n",
    "plt.suptitle('Frecuency of observation by cluster')"
   ]
  },
  {
   "cell_type": "code",
   "execution_count": 77,
   "metadata": {
    "ExecuteTime": {
     "end_time": "2020-10-28T16:29:54.133874Z",
     "start_time": "2020-10-28T16:29:54.119873Z"
    },
    "slideshow": {
     "slide_type": "fragment"
    }
   },
   "outputs": [
    {
     "data": {
      "text/plain": [
       "0    297\n",
       "1    280\n",
       "Name: cluster, dtype: int64"
      ]
     },
     "execution_count": 77,
     "metadata": {},
     "output_type": "execute_result"
    }
   ],
   "source": [
    "data['cluster'].value_counts()"
   ]
  },
  {
   "cell_type": "code",
   "execution_count": 78,
   "metadata": {
    "ExecuteTime": {
     "end_time": "2020-10-28T16:29:54.245415Z",
     "start_time": "2020-10-28T16:29:54.136910Z"
    },
    "slideshow": {
     "slide_type": "skip"
    }
   },
   "outputs": [
    {
     "data": {
      "text/plain": [
       "count     577.000000\n",
       "mean       70.963605\n",
       "std       130.802891\n",
       "min         0.000000\n",
       "25%         2.000000\n",
       "50%        16.000000\n",
       "75%        76.000000\n",
       "max      1083.000000\n",
       "Name: arrears_days, dtype: float64"
      ]
     },
     "execution_count": 78,
     "metadata": {},
     "output_type": "execute_result"
    }
   ],
   "source": [
    "data['arrears_days'].describe()"
   ]
  },
  {
   "cell_type": "markdown",
   "metadata": {
    "slideshow": {
     "slide_type": "notes"
    }
   },
   "source": [
    "We can see that there are more customers on the cluster_1 than the cluster_0"
   ]
  },
  {
   "cell_type": "markdown",
   "metadata": {
    "slideshow": {
     "slide_type": "slide"
    }
   },
   "source": [
    "### Analyzing relationship on other variables with two clusters"
   ]
  },
  {
   "cell_type": "code",
   "execution_count": 79,
   "metadata": {
    "ExecuteTime": {
     "end_time": "2020-10-28T16:29:54.341468Z",
     "start_time": "2020-10-28T16:29:54.248423Z"
    }
   },
   "outputs": [],
   "source": [
    "#----------------------------------------------------------------"
   ]
  },
  {
   "cell_type": "markdown",
   "metadata": {
    "slideshow": {
     "slide_type": "subslide"
    }
   },
   "source": [
    "#### Cathegorical = cluster_id_2 vs Quantitative = 'Column name'"
   ]
  },
  {
   "cell_type": "code",
   "execution_count": 80,
   "metadata": {
    "ExecuteTime": {
     "end_time": "2020-10-28T16:29:54.468552Z",
     "start_time": "2020-10-28T16:29:54.345468Z"
    }
   },
   "outputs": [
    {
     "name": "stdout",
     "output_type": "stream",
     "text": [
      "<class 'pandas.core.frame.DataFrame'>\n",
      "RangeIndex: 577 entries, 0 to 576\n",
      "Data columns (total 32 columns):\n",
      " #   Column                        Non-Null Count  Dtype  \n",
      "---  ------                        --------------  -----  \n",
      " 0   Unnamed: 0                    577 non-null    int64  \n",
      " 1   client_id                     577 non-null    int64  \n",
      " 2   loan_id                       577 non-null    int64  \n",
      " 3   state                         577 non-null    object \n",
      " 4   arrears_days                  577 non-null    int64  \n",
      " 5   total_paid                    577 non-null    float64\n",
      " 6   percentage                    577 non-null    float64\n",
      " 7   Monto Acumulado               577 non-null    int64  \n",
      " 8   Uso de los recursos           577 non-null    object \n",
      " 9   Plazo                         577 non-null    object \n",
      " 10  Sector                        577 non-null    object \n",
      " 11  Ingresos                      577 non-null    object \n",
      " 12  Ubicación                     577 non-null    object \n",
      " 13  Estrato Mínimo                577 non-null    int64  \n",
      " 14  Procesos judiciales           577 non-null    object \n",
      " 15  Alertas                       577 non-null    object \n",
      " 16  Score Bureau Empresa          577 non-null    float64\n",
      " 17  Huellas de Consulta           577 non-null    float64\n",
      " 18  Tiempo en el negocio          577 non-null    int64  \n",
      " 19  Website empresa               577 non-null    object \n",
      " 20  Instagram empresa             577 non-null    object \n",
      " 21  LinkedIn empresa              577 non-null    object \n",
      " 22  LinkedIn empresarios          577 non-null    object \n",
      " 23  Edad empresarios              577 non-null    int64  \n",
      " 24  Activador                     577 non-null    object \n",
      " 25  Número de accionistas         577 non-null    float64\n",
      " 26  Impacto                       577 non-null    object \n",
      " 27  Acceso previso a la banca     577 non-null    object \n",
      " 28  # Empleados                   577 non-null    int64  \n",
      " 29  Mujeres empresarias           577 non-null    object \n",
      " 30  Mujeres en cargos directivos  577 non-null    int64  \n",
      " 31  cluster                       577 non-null    int64  \n",
      "dtypes: float64(5), int64(11), object(16)\n",
      "memory usage: 144.4+ KB\n"
     ]
    }
   ],
   "source": [
    "data.info()"
   ]
  },
  {
   "cell_type": "code",
   "execution_count": 81,
   "metadata": {
    "ExecuteTime": {
     "end_time": "2020-10-28T16:29:54.800237Z",
     "start_time": "2020-10-28T16:29:54.472560Z"
    },
    "slideshow": {
     "slide_type": "subslide"
    }
   },
   "outputs": [
    {
     "data": {
      "text/plain": [
       "Text(0.5, 0.98, 'Cluster vs arrears_days')"
      ]
     },
     "execution_count": 81,
     "metadata": {},
     "output_type": "execute_result"
    },
    {
     "data": {
      "image/png": "[encoded data removed]",
      "text/plain": [
       "<Figure size 360x360 with 1 Axes>"
      ]
     },
     "metadata": {
      "needs_background": "light"
     },
     "output_type": "display_data"
    }
   ],
   "source": [
    "sns.catplot(x='cluster', y='arrears_days', kind='bar', data=data)\n",
    "plt.suptitle('Cluster vs arrears_days')"
   ]
  },
  {
   "cell_type": "markdown",
   "metadata": {
    "slideshow": {
     "slide_type": "skip"
    }
   },
   "source": [
    "On this graph we can see that cluster 1 has less arrears_days than cluster 0"
   ]
  },
  {
   "cell_type": "code",
   "execution_count": 82,
   "metadata": {
    "ExecuteTime": {
     "end_time": "2020-10-28T16:29:55.055234Z",
     "start_time": "2020-10-28T16:29:54.803248Z"
    },
    "slideshow": {
     "slide_type": "slide"
    }
   },
   "outputs": [
    {
     "data": {
      "text/plain": [
       "Text(0.5, 0.98, 'Cluster vs Monto Acumulado')"
      ]
     },
     "execution_count": 82,
     "metadata": {},
     "output_type": "execute_result"
    },
    {
     "data": {
      "image/png": "[encoded data removed]",
      "text/plain": [
       "<Figure size 360x360 with 1 Axes>"
      ]
     },
     "metadata": {
      "needs_background": "light"
     },
     "output_type": "display_data"
    }
   ],
   "source": [
    "sns.catplot(x='cluster', y='Monto Acumulado', kind='bar', data=data)\n",
    "plt.suptitle('Cluster vs Monto Acumulado')"
   ]
  },
  {
   "cell_type": "markdown",
   "metadata": {
    "slideshow": {
     "slide_type": "skip"
    }
   },
   "source": [
    "Cluster 1 has less 'Monto Acumulado' than cluster 0"
   ]
  },
  {
   "cell_type": "code",
   "execution_count": 83,
   "metadata": {
    "ExecuteTime": {
     "end_time": "2020-10-28T16:29:55.339411Z",
     "start_time": "2020-10-28T16:29:55.057253Z"
    },
    "slideshow": {
     "slide_type": "slide"
    }
   },
   "outputs": [
    {
     "data": {
      "text/plain": [
       "Text(0.5, 0.98, 'Cluster vs Score Bureau Empresa')"
      ]
     },
     "execution_count": 83,
     "metadata": {},
     "output_type": "execute_result"
    },
    {
     "data": {
      "image/png": "[encoded data removed]",
      "text/plain": [
       "<Figure size 360x360 with 1 Axes>"
      ]
     },
     "metadata": {
      "needs_background": "light"
     },
     "output_type": "display_data"
    }
   ],
   "source": [
    "sns.catplot(x='cluster', y='Score Bureau Empresa', kind='bar', data=data)\n",
    "plt.suptitle('Cluster vs Score Bureau Empresa')"
   ]
  },
  {
   "cell_type": "markdown",
   "metadata": {
    "slideshow": {
     "slide_type": "skip"
    }
   },
   "source": [
    "Score Bureau between the two clusters are relatively similar"
   ]
  },
  {
   "cell_type": "code",
   "execution_count": 84,
   "metadata": {
    "ExecuteTime": {
     "end_time": "2020-10-28T16:29:55.687432Z",
     "start_time": "2020-10-28T16:29:55.342427Z"
    },
    "slideshow": {
     "slide_type": "slide"
    }
   },
   "outputs": [
    {
     "data": {
      "text/plain": [
       "Text(0.5, 0.98, 'Cluster vs Huellas de Consulta')"
      ]
     },
     "execution_count": 84,
     "metadata": {},
     "output_type": "execute_result"
    },
    {
     "data": {
      "image/png": "[encoded data removed]",
      "text/plain": [
       "<Figure size 360x360 with 1 Axes>"
      ]
     },
     "metadata": {
      "needs_background": "light"
     },
     "output_type": "display_data"
    }
   ],
   "source": [
    "sns.catplot(x='cluster', y='Huellas de Consulta', kind='bar', data=data)\n",
    "plt.suptitle('Cluster vs Huellas de Consulta')"
   ]
  },
  {
   "cell_type": "markdown",
   "metadata": {
    "slideshow": {
     "slide_type": "skip"
    }
   },
   "source": [
    "Cluster 1 has less 'Huellas de consulta' than cluster 0"
   ]
  },
  {
   "cell_type": "code",
   "execution_count": 85,
   "metadata": {
    "ExecuteTime": {
     "end_time": "2020-10-28T16:29:55.970432Z",
     "start_time": "2020-10-28T16:29:55.690437Z"
    },
    "slideshow": {
     "slide_type": "slide"
    }
   },
   "outputs": [
    {
     "data": {
      "text/plain": [
       "Text(0.5, 0.98, 'Cluster vs Número de accionistas')"
      ]
     },
     "execution_count": 85,
     "metadata": {},
     "output_type": "execute_result"
    },
    {
     "data": {
      "image/png": "[encoded data removed]",
      "text/plain": [
       "<Figure size 360x360 with 1 Axes>"
      ]
     },
     "metadata": {
      "needs_background": "light"
     },
     "output_type": "display_data"
    }
   ],
   "source": [
    "sns.catplot(x='cluster', y='Número de accionistas', kind='bar', data=data)\n",
    "plt.suptitle('Cluster vs Número de accionistas')"
   ]
  },
  {
   "cell_type": "markdown",
   "metadata": {
    "slideshow": {
     "slide_type": "skip"
    }
   },
   "source": [
    "Cluster 0 has more 'Accionistas' than cluster 1"
   ]
  },
  {
   "cell_type": "code",
   "execution_count": 86,
   "metadata": {
    "ExecuteTime": {
     "end_time": "2020-10-28T16:29:56.239432Z",
     "start_time": "2020-10-28T16:29:55.973441Z"
    },
    "slideshow": {
     "slide_type": "slide"
    }
   },
   "outputs": [
    {
     "data": {
      "text/plain": [
       "Text(0.5, 0.98, 'Cluster vs # Empleados')"
      ]
     },
     "execution_count": 86,
     "metadata": {},
     "output_type": "execute_result"
    },
    {
     "data": {
      "image/png": "[encoded data removed]",
      "text/plain": [
       "<Figure size 360x360 with 1 Axes>"
      ]
     },
     "metadata": {
      "needs_background": "light"
     },
     "output_type": "display_data"
    }
   ],
   "source": [
    "sns.catplot(x='cluster', y='# Empleados', kind='bar', data=data)\n",
    "plt.suptitle('Cluster vs # Empleados')"
   ]
  },
  {
   "cell_type": "markdown",
   "metadata": {
    "slideshow": {
     "slide_type": "skip"
    }
   },
   "source": [
    "Cluster 1 has more 'Empleados' than cluster 0"
   ]
  },
  {
   "cell_type": "code",
   "execution_count": 87,
   "metadata": {
    "ExecuteTime": {
     "end_time": "2020-10-28T16:29:56.502452Z",
     "start_time": "2020-10-28T16:29:56.242439Z"
    },
    "slideshow": {
     "slide_type": "slide"
    }
   },
   "outputs": [
    {
     "data": {
      "text/plain": [
       "Text(0.5, 0.98, 'Cluster vs Mujeres en cargos directivos')"
      ]
     },
     "execution_count": 87,
     "metadata": {},
     "output_type": "execute_result"
    },
    {
     "data": {
      "image/png": "[encoded data removed]",
      "text/plain": [
       "<Figure size 360x360 with 1 Axes>"
      ]
     },
     "metadata": {
      "needs_background": "light"
     },
     "output_type": "display_data"
    }
   ],
   "source": [
    "sns.catplot(x='cluster', y='Mujeres en cargos directivos', kind='bar', data=data)\n",
    "plt.suptitle('Cluster vs Mujeres en cargos directivos')"
   ]
  },
  {
   "cell_type": "markdown",
   "metadata": {
    "slideshow": {
     "slide_type": "skip"
    }
   },
   "source": [
    "Cluster 1 has more 'Mujeres en cargos directivos' than cluster 0"
   ]
  },
  {
   "cell_type": "code",
   "execution_count": 88,
   "metadata": {
    "ExecuteTime": {
     "end_time": "2020-10-28T16:29:56.517438Z",
     "start_time": "2020-10-28T16:29:56.505440Z"
    },
    "slideshow": {
     "slide_type": "skip"
    }
   },
   "outputs": [],
   "source": [
    "#--------------------------------------------------------"
   ]
  },
  {
   "cell_type": "markdown",
   "metadata": {
    "slideshow": {
     "slide_type": "slide"
    }
   },
   "source": [
    "#### Cathegorical = cluster_id_2 vs Cathegorical = 'Column name'"
   ]
  },
  {
   "cell_type": "code",
   "execution_count": 89,
   "metadata": {
    "ExecuteTime": {
     "end_time": "2020-10-28T16:29:56.627806Z",
     "start_time": "2020-10-28T16:29:56.520435Z"
    },
    "slideshow": {
     "slide_type": "skip"
    }
   },
   "outputs": [
    {
     "name": "stdout",
     "output_type": "stream",
     "text": [
      "<class 'pandas.core.frame.DataFrame'>\n",
      "RangeIndex: 577 entries, 0 to 576\n",
      "Data columns (total 32 columns):\n",
      " #   Column                        Non-Null Count  Dtype  \n",
      "---  ------                        --------------  -----  \n",
      " 0   Unnamed: 0                    577 non-null    int64  \n",
      " 1   client_id                     577 non-null    int64  \n",
      " 2   loan_id                       577 non-null    int64  \n",
      " 3   state                         577 non-null    object \n",
      " 4   arrears_days                  577 non-null    int64  \n",
      " 5   total_paid                    577 non-null    float64\n",
      " 6   percentage                    577 non-null    float64\n",
      " 7   Monto Acumulado               577 non-null    int64  \n",
      " 8   Uso de los recursos           577 non-null    object \n",
      " 9   Plazo                         577 non-null    object \n",
      " 10  Sector                        577 non-null    object \n",
      " 11  Ingresos                      577 non-null    object \n",
      " 12  Ubicación                     577 non-null    object \n",
      " 13  Estrato Mínimo                577 non-null    int64  \n",
      " 14  Procesos judiciales           577 non-null    object \n",
      " 15  Alertas                       577 non-null    object \n",
      " 16  Score Bureau Empresa          577 non-null    float64\n",
      " 17  Huellas de Consulta           577 non-null    float64\n",
      " 18  Tiempo en el negocio          577 non-null    int64  \n",
      " 19  Website empresa               577 non-null    object \n",
      " 20  Instagram empresa             577 non-null    object \n",
      " 21  LinkedIn empresa              577 non-null    object \n",
      " 22  LinkedIn empresarios          577 non-null    object \n",
      " 23  Edad empresarios              577 non-null    int64  \n",
      " 24  Activador                     577 non-null    object \n",
      " 25  Número de accionistas         577 non-null    float64\n",
      " 26  Impacto                       577 non-null    object \n",
      " 27  Acceso previso a la banca     577 non-null    object \n",
      " 28  # Empleados                   577 non-null    int64  \n",
      " 29  Mujeres empresarias           577 non-null    object \n",
      " 30  Mujeres en cargos directivos  577 non-null    int64  \n",
      " 31  cluster                       577 non-null    int64  \n",
      "dtypes: float64(5), int64(11), object(16)\n",
      "memory usage: 144.4+ KB\n"
     ]
    }
   ],
   "source": [
    "data.info()"
   ]
  },
  {
   "cell_type": "code",
   "execution_count": 90,
   "metadata": {
    "ExecuteTime": {
     "end_time": "2020-10-28T16:29:56.720823Z",
     "start_time": "2020-10-28T16:29:56.630823Z"
    },
    "slideshow": {
     "slide_type": "subslide"
    }
   },
   "outputs": [
    {
     "data": {
      "text/plain": [
       "cluster  state\n",
       "0        PAID     0.329289\n",
       "         LATE     0.185442\n",
       "1        PAID     0.287695\n",
       "         LATE     0.197574\n",
       "Name: state, dtype: float64"
      ]
     },
     "execution_count": 90,
     "metadata": {},
     "output_type": "execute_result"
    }
   ],
   "source": [
    "data.groupby('cluster')['state'].value_counts()/len(data)"
   ]
  },
  {
   "cell_type": "markdown",
   "metadata": {
    "slideshow": {
     "slide_type": "skip"
    }
   },
   "source": [
    "Cluster 0 has more clients on state PAID than cluster 1, but at the same time has more clients on Late than cluster 1"
   ]
  },
  {
   "cell_type": "code",
   "execution_count": 91,
   "metadata": {
    "ExecuteTime": {
     "end_time": "2020-10-28T16:29:56.924355Z",
     "start_time": "2020-10-28T16:29:56.723812Z"
    },
    "slideshow": {
     "slide_type": "subslide"
    }
   },
   "outputs": [
    {
     "data": {
      "text/plain": [
       "cluster  Uso de los recursos\n",
       "0        KT - CO                0.204506\n",
       "         KT - EX                0.171577\n",
       "         CR                     0.081456\n",
       "         SP                     0.057192\n",
       "1        KT - EX                0.176776\n",
       "         KT - CO                0.169844\n",
       "         CR                     0.081456\n",
       "         SP                     0.057192\n",
       "Name: Uso de los recursos, dtype: float64"
      ]
     },
     "execution_count": 91,
     "metadata": {},
     "output_type": "execute_result"
    }
   ],
   "source": [
    "data.groupby('cluster')['Uso de los recursos'].value_counts()/len(data)"
   ]
  },
  {
   "cell_type": "markdown",
   "metadata": {
    "slideshow": {
     "slide_type": "skip"
    }
   },
   "source": [
    "We can see the distribution between the two clusters"
   ]
  },
  {
   "cell_type": "code",
   "execution_count": 92,
   "metadata": {
    "ExecuteTime": {
     "end_time": "2020-10-28T16:29:57.112878Z",
     "start_time": "2020-10-28T16:29:56.927354Z"
    },
    "slideshow": {
     "slide_type": "subslide"
    }
   },
   "outputs": [
    {
     "data": {
      "text/plain": [
       "cluster  Plazo            \n",
       "0        13 a 24 meses        0.324090\n",
       "         Menos de 12 meses    0.116118\n",
       "         25 a 36 meses        0.072790\n",
       "         Más de 37 meses      0.001733\n",
       "1        Menos de 12 meses    0.202773\n",
       "         13 a 24 meses        0.183709\n",
       "         25 a 36 meses        0.081456\n",
       "         Más de 37 meses      0.017331\n",
       "Name: Plazo, dtype: float64"
      ]
     },
     "execution_count": 92,
     "metadata": {},
     "output_type": "execute_result"
    }
   ],
   "source": [
    "data.groupby('cluster')['Plazo'].value_counts()/len(data)"
   ]
  },
  {
   "cell_type": "code",
   "execution_count": 93,
   "metadata": {
    "ExecuteTime": {
     "end_time": "2020-10-28T16:29:57.221325Z",
     "start_time": "2020-10-28T16:29:57.114879Z"
    },
    "slideshow": {
     "slide_type": "skip"
    }
   },
   "outputs": [],
   "source": [
    "# Cluster 0 has more clients on 'Plazo' on 13 to 24 months. On the other hand we have cluster 1 with 'Plazo' less than 12 months"
   ]
  },
  {
   "cell_type": "code",
   "execution_count": 94,
   "metadata": {
    "ExecuteTime": {
     "end_time": "2020-10-28T16:29:57.332126Z",
     "start_time": "2020-10-28T16:29:57.223345Z"
    },
    "slideshow": {
     "slide_type": "subslide"
    }
   },
   "outputs": [
    {
     "data": {
      "text/plain": [
       "cluster  Sector   \n",
       "0        Servicios    0.343154\n",
       "         Comercio     0.103986\n",
       "         Industria    0.067591\n",
       "1        Servicios    0.254766\n",
       "         Industria    0.173310\n",
       "         Comercio     0.057192\n",
       "Name: Sector, dtype: float64"
      ]
     },
     "execution_count": 94,
     "metadata": {},
     "output_type": "execute_result"
    }
   ],
   "source": [
    "data.groupby('cluster')['Sector'].value_counts()/len(data)"
   ]
  },
  {
   "cell_type": "code",
   "execution_count": 95,
   "metadata": {
    "ExecuteTime": {
     "end_time": "2020-10-28T16:29:57.427749Z",
     "start_time": "2020-10-28T16:29:57.337127Z"
    },
    "slideshow": {
     "slide_type": "skip"
    }
   },
   "outputs": [],
   "source": [
    "# Cluster 0 has a ranking of (Servicios, Comercio and Industria) - Cluster 1 has a ranking of (Servicios, Industria y Comercio)"
   ]
  },
  {
   "cell_type": "code",
   "execution_count": 96,
   "metadata": {
    "ExecuteTime": {
     "end_time": "2020-10-28T16:29:57.538192Z",
     "start_time": "2020-10-28T16:29:57.430738Z"
    },
    "slideshow": {
     "slide_type": "subslide"
    }
   },
   "outputs": [
    {
     "data": {
      "text/plain": [
       "cluster  Ingresos\n",
       "0        Seed        0.332756\n",
       "         Venture     0.119584\n",
       "         Scale Up    0.050260\n",
       "         Growth      0.012132\n",
       "1        Venture     0.176776\n",
       "         Scale Up    0.109185\n",
       "         Seed        0.103986\n",
       "         Growth      0.095321\n",
       "Name: Ingresos, dtype: float64"
      ]
     },
     "execution_count": 96,
     "metadata": {},
     "output_type": "execute_result"
    }
   ],
   "source": [
    "data.groupby('cluster')['Ingresos'].value_counts()/len(data)"
   ]
  },
  {
   "cell_type": "code",
   "execution_count": null,
   "metadata": {
    "slideshow": {
     "slide_type": "skip"
    }
   },
   "outputs": [],
   "source": []
  },
  {
   "cell_type": "code",
   "execution_count": 97,
   "metadata": {
    "ExecuteTime": {
     "end_time": "2020-10-28T16:29:57.648788Z",
     "start_time": "2020-10-28T16:29:57.541195Z"
    },
    "slideshow": {
     "slide_type": "subslide"
    }
   },
   "outputs": [
    {
     "data": {
      "text/plain": [
       "cluster  Acceso previso a la banca\n",
       "0        Si                           0.270364\n",
       "         No                           0.244367\n",
       "1        Si                           0.433276\n",
       "         No                           0.051993\n",
       "Name: Acceso previso a la banca, dtype: float64"
      ]
     },
     "execution_count": 97,
     "metadata": {},
     "output_type": "execute_result"
    }
   ],
   "source": [
    "data.groupby('cluster')['Acceso previso a la banca'].value_counts()/len(data)"
   ]
  },
  {
   "cell_type": "code",
   "execution_count": null,
   "metadata": {
    "slideshow": {
     "slide_type": "skip"
    }
   },
   "outputs": [],
   "source": []
  },
  {
   "cell_type": "code",
   "execution_count": 98,
   "metadata": {
    "ExecuteTime": {
     "end_time": "2020-10-28T16:29:57.775873Z",
     "start_time": "2020-10-28T16:29:57.650772Z"
    },
    "slideshow": {
     "slide_type": "subslide"
    }
   },
   "outputs": [
    {
     "data": {
      "text/plain": [
       "cluster  Mujeres empresarias\n",
       "0        No                     0.391681\n",
       "         Si                     0.123050\n",
       "1        No                     0.414211\n",
       "         Si                     0.071057\n",
       "Name: Mujeres empresarias, dtype: float64"
      ]
     },
     "execution_count": 98,
     "metadata": {},
     "output_type": "execute_result"
    }
   ],
   "source": [
    "data.groupby('cluster')['Mujeres empresarias'].value_counts()/len(data)"
   ]
  },
  {
   "cell_type": "code",
   "execution_count": null,
   "metadata": {
    "slideshow": {
     "slide_type": "skip"
    }
   },
   "outputs": [],
   "source": []
  },
  {
   "cell_type": "code",
   "execution_count": 99,
   "metadata": {
    "ExecuteTime": {
     "end_time": "2020-10-28T16:29:57.870216Z",
     "start_time": "2020-10-28T16:29:57.777869Z"
    },
    "slideshow": {
     "slide_type": "subslide"
    }
   },
   "outputs": [
    {
     "data": {
      "text/plain": [
       "cluster  Activador                \n",
       "0        FriendOrColleague            0.155979\n",
       "         Internet                     0.090121\n",
       "         CreditProfessionalContact    0.064125\n",
       "         Other                        0.050260\n",
       "         SocialNetworks               0.046794\n",
       "         Newspapers                   0.041594\n",
       "         Referrer                     0.038128\n",
       "         CommunicationMedia           0.012132\n",
       "         RutaN                        0.008666\n",
       "         Fenalco                      0.006932\n",
       "1        Other                        0.149047\n",
       "         FriendOrColleague            0.142114\n",
       "         CreditProfessionalContact    0.091854\n",
       "         Internet                     0.057192\n",
       "         Newspapers                   0.027730\n",
       "         Email                        0.012132\n",
       "         SocialNetworks               0.003466\n",
       "         Referrer                     0.001733\n",
       "Name: Activador, dtype: float64"
      ]
     },
     "execution_count": 99,
     "metadata": {},
     "output_type": "execute_result"
    }
   ],
   "source": [
    "data.groupby('cluster')['Activador'].value_counts()/len(data)"
   ]
  },
  {
   "cell_type": "code",
   "execution_count": null,
   "metadata": {
    "slideshow": {
     "slide_type": "skip"
    }
   },
   "outputs": [],
   "source": []
  },
  {
   "cell_type": "code",
   "execution_count": 100,
   "metadata": {
    "ExecuteTime": {
     "end_time": "2020-10-28T16:29:57.980052Z",
     "start_time": "2020-10-28T16:29:57.873221Z"
    },
    "slideshow": {
     "slide_type": "subslide"
    }
   },
   "outputs": [
    {
     "data": {
      "text/plain": [
       "cluster  Website empresa\n",
       "0        Si                 0.311958\n",
       "         No                 0.202773\n",
       "1        Si                 0.389948\n",
       "         No                 0.095321\n",
       "Name: Website empresa, dtype: float64"
      ]
     },
     "execution_count": 100,
     "metadata": {},
     "output_type": "execute_result"
    }
   ],
   "source": [
    "data.groupby('cluster')['Website empresa'].value_counts()/len(data)"
   ]
  },
  {
   "cell_type": "code",
   "execution_count": null,
   "metadata": {
    "slideshow": {
     "slide_type": "skip"
    }
   },
   "outputs": [],
   "source": []
  },
  {
   "cell_type": "code",
   "execution_count": 101,
   "metadata": {
    "ExecuteTime": {
     "end_time": "2020-10-28T16:29:58.107244Z",
     "start_time": "2020-10-28T16:29:57.982033Z"
    },
    "slideshow": {
     "slide_type": "subslide"
    }
   },
   "outputs": [
    {
     "data": {
      "text/plain": [
       "cluster  Estrato Mínimo\n",
       "0        4                 0.161179\n",
       "         5                 0.159445\n",
       "         3                 0.109185\n",
       "         6                 0.077990\n",
       "         2                 0.006932\n",
       "1        4                 0.166378\n",
       "         5                 0.155979\n",
       "         6                 0.110919\n",
       "         3                 0.051993\n",
       "Name: Estrato Mínimo, dtype: float64"
      ]
     },
     "execution_count": 101,
     "metadata": {},
     "output_type": "execute_result"
    }
   ],
   "source": [
    "data.groupby('cluster')['Estrato Mínimo'].value_counts()/len(data)"
   ]
  },
  {
   "cell_type": "code",
   "execution_count": null,
   "metadata": {
    "slideshow": {
     "slide_type": "skip"
    }
   },
   "outputs": [],
   "source": []
  },
  {
   "cell_type": "code",
   "execution_count": 102,
   "metadata": {
    "ExecuteTime": {
     "end_time": "2020-10-28T16:29:58.232664Z",
     "start_time": "2020-10-28T16:29:58.109239Z"
    },
    "slideshow": {
     "slide_type": "subslide"
    }
   },
   "outputs": [
    {
     "data": {
      "text/plain": [
       "cluster  Ubicación          \n",
       "0        Bogotá D.C.            0.227036\n",
       "         Medellín               0.185442\n",
       "         Barranquilla           0.025997\n",
       "         Envigado               0.019064\n",
       "         Cali                   0.015598\n",
       "         Bucaramanga            0.010399\n",
       "         Pereira                0.005199\n",
       "         Itagüí                 0.003466\n",
       "         La Estrella            0.003466\n",
       "         Manizales              0.003466\n",
       "         Rionegro               0.003466\n",
       "         Armenia                0.001733\n",
       "         Cartagena de indias    0.001733\n",
       "         Copacabana             0.001733\n",
       "         La Ceja                0.001733\n",
       "         Marinilla              0.001733\n",
       "         Sabaneta               0.001733\n",
       "         Santa Marta            0.001733\n",
       "1        Bogotá D.C.            0.180243\n",
       "         Medellín               0.178510\n",
       "         La Estrella            0.036395\n",
       "         Itagüí                 0.032929\n",
       "         Sabaneta               0.019064\n",
       "         Envigado               0.017331\n",
       "         Barranquilla           0.010399\n",
       "         Manizales              0.003466\n",
       "         Bello                  0.001733\n",
       "         Cartagena de indias    0.001733\n",
       "         Neiva                  0.001733\n",
       "         Rionegro               0.001733\n",
       "Name: Ubicación, dtype: float64"
      ]
     },
     "execution_count": 102,
     "metadata": {},
     "output_type": "execute_result"
    }
   ],
   "source": [
    "data.groupby('cluster')['Ubicación'].value_counts()/len(data)"
   ]
  },
  {
   "cell_type": "code",
   "execution_count": null,
   "metadata": {
    "slideshow": {
     "slide_type": "skip"
    }
   },
   "outputs": [],
   "source": []
  },
  {
   "cell_type": "code",
   "execution_count": 103,
   "metadata": {
    "ExecuteTime": {
     "end_time": "2020-10-28T16:29:58.340604Z",
     "start_time": "2020-10-28T16:29:58.234659Z"
    },
    "slideshow": {
     "slide_type": "subslide"
    }
   },
   "outputs": [
    {
     "data": {
      "text/plain": [
       "cluster  Procesos judiciales\n",
       "0        No                     0.481802\n",
       "         Si                     0.032929\n",
       "1        No                     0.360485\n",
       "         Si                     0.124783\n",
       "Name: Procesos judiciales, dtype: float64"
      ]
     },
     "execution_count": 103,
     "metadata": {},
     "output_type": "execute_result"
    }
   ],
   "source": [
    "data.groupby('cluster')['Procesos judiciales'].value_counts()/len(data)"
   ]
  },
  {
   "cell_type": "code",
   "execution_count": null,
   "metadata": {
    "slideshow": {
     "slide_type": "skip"
    }
   },
   "outputs": [],
   "source": []
  },
  {
   "cell_type": "code",
   "execution_count": 104,
   "metadata": {
    "ExecuteTime": {
     "end_time": "2020-10-28T16:29:58.433677Z",
     "start_time": "2020-10-28T16:29:58.342594Z"
    },
    "slideshow": {
     "slide_type": "subslide"
    }
   },
   "outputs": [
    {
     "data": {
      "text/plain": [
       "cluster  Instagram empresa\n",
       "0        No                   0.285962\n",
       "         Si                   0.228769\n",
       "1        Si                   0.261698\n",
       "         No                   0.223570\n",
       "Name: Instagram empresa, dtype: float64"
      ]
     },
     "execution_count": 104,
     "metadata": {},
     "output_type": "execute_result"
    }
   ],
   "source": [
    "data.groupby('cluster')['Instagram empresa'].value_counts()/len(data)"
   ]
  },
  {
   "cell_type": "code",
   "execution_count": null,
   "metadata": {
    "slideshow": {
     "slide_type": "skip"
    }
   },
   "outputs": [],
   "source": []
  },
  {
   "cell_type": "code",
   "execution_count": 105,
   "metadata": {
    "ExecuteTime": {
     "end_time": "2020-10-28T16:29:58.528842Z",
     "start_time": "2020-10-28T16:29:58.436674Z"
    },
    "slideshow": {
     "slide_type": "subslide"
    }
   },
   "outputs": [
    {
     "data": {
      "text/plain": [
       "cluster  Impacto\n",
       "0        No         0.461005\n",
       "         Si         0.053726\n",
       "1        No         0.457539\n",
       "         Si         0.027730\n",
       "Name: Impacto, dtype: float64"
      ]
     },
     "execution_count": 105,
     "metadata": {},
     "output_type": "execute_result"
    }
   ],
   "source": [
    "data.groupby('cluster')['Impacto'].value_counts()/len(data)"
   ]
  },
  {
   "cell_type": "code",
   "execution_count": 106,
   "metadata": {
    "ExecuteTime": {
     "end_time": "2020-10-28T16:29:58.621848Z",
     "start_time": "2020-10-28T16:29:58.531854Z"
    },
    "slideshow": {
     "slide_type": "slide"
    }
   },
   "outputs": [],
   "source": [
    "#end"
   ]
  },
  {
   "cell_type": "code",
   "execution_count": 107,
   "metadata": {
    "ExecuteTime": {
     "end_time": "2020-10-28T16:29:58.701306Z",
     "start_time": "2020-10-28T16:29:58.623844Z"
    },
    "slideshow": {
     "slide_type": "skip"
    }
   },
   "outputs": [],
   "source": [
    "#--------------------------------------------------------------------"
   ]
  },
  {
   "cell_type": "code",
   "execution_count": null,
   "metadata": {
    "slideshow": {
     "slide_type": "skip"
    }
   },
   "outputs": [],
   "source": []
  },
  {
   "cell_type": "code",
   "execution_count": null,
   "metadata": {
    "slideshow": {
     "slide_type": "skip"
    }
   },
   "outputs": [],
   "source": []
  },
  {
   "cell_type": "markdown",
   "metadata": {
    "slideshow": {
     "slide_type": "skip"
    }
   },
   "source": [
    "### Multi-linear regression"
   ]
  },
  {
   "cell_type": "code",
   "execution_count": 108,
   "metadata": {
    "ExecuteTime": {
     "end_time": "2020-10-28T16:29:58.808817Z",
     "start_time": "2020-10-28T16:29:58.703309Z"
    },
    "slideshow": {
     "slide_type": "skip"
    }
   },
   "outputs": [
    {
     "name": "stdout",
     "output_type": "stream",
     "text": [
      "                            OLS Regression Results                            \n",
      "==============================================================================\n",
      "Dep. Variable:           arrears_days   R-squared:                       0.079\n",
      "Model:                            OLS   Adj. R-squared:                  0.076\n",
      "Method:                 Least Squares   F-statistic:                     24.68\n",
      "Date:                Wed, 28 Oct 2020   Prob (F-statistic):           5.21e-11\n",
      "Time:                        11:29:58   Log-Likelihood:                -3606.5\n",
      "No. Observations:                 577   AIC:                             7219.\n",
      "Df Residuals:                     574   BIC:                             7232.\n",
      "Df Model:                           2                                         \n",
      "Covariance Type:            nonrobust                                         \n",
      "========================================================================================\n",
      "                           coef    std err          t      P>|t|      [0.025      0.975]\n",
      "----------------------------------------------------------------------------------------\n",
      "const                  123.8634     19.777      6.263      0.000      85.019     162.708\n",
      "Huellas de Consulta      4.0733      0.680      5.990      0.000       2.738       5.409\n",
      "Score Bureau Empresa    -0.1020      0.023     -4.359      0.000      -0.148      -0.056\n",
      "==============================================================================\n",
      "Omnibus:                      371.639   Durbin-Watson:                   1.474\n",
      "Prob(Omnibus):                  0.000   Jarque-Bera (JB):             3412.454\n",
      "Skew:                           2.820   Prob(JB):                         0.00\n",
      "Kurtosis:                      13.494   Cond. No.                     3.18e+03\n",
      "==============================================================================\n",
      "\n",
      "Warnings:\n",
      "[1] Standard Errors assume that the covariance matrix of the errors is correctly specified.\n",
      "[2] The condition number is large, 3.18e+03. This might indicate that there are\n",
      "strong multicollinearity or other numerical problems.\n"
     ]
    }
   ],
   "source": [
    "X = data[['Huellas de Consulta', 'Score Bureau Empresa']]\n",
    "Y = data['arrears_days']\n",
    "X = sm.add_constant(X) # adding a constant\n",
    " \n",
    "model = sm.OLS(Y, X).fit()\n",
    "predictions = model.predict(X) \n",
    " \n",
    "print_model = model.summary()\n",
    "print(print_model)"
   ]
  },
  {
   "cell_type": "code",
   "execution_count": null,
   "metadata": {},
   "outputs": [],
   "source": []
  }
 ],
 "metadata": {
  "celltoolbar": "Raw Cell Format",
  "kernelspec": {
   "display_name": "Python 3",
   "language": "python",
   "name": "python3"
  },
  "language_info": {
   "codemirror_mode": {
    "name": "ipython",
    "version": 3
   },
   "file_extension": ".py",
   "mimetype": "text/x-python",
   "name": "python",
   "nbconvert_exporter": "python",
   "pygments_lexer": "ipython3",
   "version": "3.8.3"
  },
  "toc": {
   "base_numbering": 1,
   "nav_menu": {},
   "number_sections": true,
   "sideBar": true,
   "skip_h1_title": false,
   "title_cell": "Table of Contents",
   "title_sidebar": "Contents",
   "toc_cell": false,
   "toc_position": {},
   "toc_section_display": true,
   "toc_window_display": false
  }
 },
 "nbformat": 4,
 "nbformat_minor": 4
}
