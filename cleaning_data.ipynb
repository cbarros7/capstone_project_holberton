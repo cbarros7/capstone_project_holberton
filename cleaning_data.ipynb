{
 "cells": [
  {
   "cell_type": "markdown",
   "metadata": {},
   "source": [
    "# First stage of Sempli project: Cleaning the data"
   ]
  },
  {
   "cell_type": "code",
   "execution_count": 1,
   "metadata": {},
   "outputs": [],
   "source": [
    "import pandas as pd\n",
    "import numpy as np\n",
    "import json\n",
    "import datetime as dt\n",
    "import seaborn as sns"
   ]
  },
  {
   "cell_type": "markdown",
   "metadata": {},
   "source": [
    "### Loading the data\n",
    "\n",
    "In this part of the project we are loading the excel file and normalizing the json format presented in the columns 'expected_detail' and 'paid_detail'\n",
    "\n",
    "After normalizing the data we delete rows where the state of the client were 'GRACE' or 'PENDING' because of the COVID situation present at the moment of the study ('GRACE'), and the missing values presented on 'PENDING'"
   ]
  },
  {
   "cell_type": "code",
   "execution_count": 18,
   "metadata": {},
   "outputs": [
    {
     "data": {
      "text/html": [
       "<div>\n",
       "<style scoped>\n",
       "    .dataframe tbody tr th:only-of-type {\n",
       "        vertical-align: middle;\n",
       "    }\n",
       "\n",
       "    .dataframe tbody tr th {\n",
       "        vertical-align: top;\n",
       "    }\n",
       "\n",
       "    .dataframe thead th {\n",
       "        text-align: right;\n",
       "    }\n",
       "</style>\n",
       "<table border=\"1\" class=\"dataframe\">\n",
       "  <thead>\n",
       "    <tr style=\"text-align: right;\">\n",
       "      <th></th>\n",
       "      <th>client_id</th>\n",
       "      <th>loan_schedule_id</th>\n",
       "      <th>loan_id</th>\n",
       "      <th>index</th>\n",
       "      <th>expected_date</th>\n",
       "      <th>state</th>\n",
       "      <th>arrears_days</th>\n",
       "      <th>paid_date</th>\n",
       "      <th>expected_detail</th>\n",
       "      <th>paid_detail</th>\n",
       "      <th>...</th>\n",
       "      <th>taxRetentionPercentage_paid</th>\n",
       "      <th>fngTotal_paid</th>\n",
       "      <th>fngValue_paid</th>\n",
       "      <th>fngPercent_paid</th>\n",
       "      <th>fngVatValue_paid</th>\n",
       "      <th>legalCharge_paid</th>\n",
       "      <th>fngVatPercent_paid</th>\n",
       "      <th>preLegalCharge_paid</th>\n",
       "      <th>feesPaid_paid</th>\n",
       "      <th>monthlyDeferredInterest_paid</th>\n",
       "    </tr>\n",
       "  </thead>\n",
       "  <tbody>\n",
       "    <tr>\n",
       "      <th>1</th>\n",
       "      <td>2442</td>\n",
       "      <td>13696</td>\n",
       "      <td>592</td>\n",
       "      <td>6</td>\n",
       "      <td>2019-03-18</td>\n",
       "      <td>PAID</td>\n",
       "      <td>0</td>\n",
       "      <td>2019-03-18</td>\n",
       "      <td>{\"total\": 22872996.50, \"penalty\": 0, \"interest...</td>\n",
       "      <td>{\"total\": 22872996.50, \"penalty\": 0, \"interest...</td>\n",
       "      <td>...</td>\n",
       "      <td>0.04</td>\n",
       "      <td>NaN</td>\n",
       "      <td>NaN</td>\n",
       "      <td>NaN</td>\n",
       "      <td>NaN</td>\n",
       "      <td>NaN</td>\n",
       "      <td>NaN</td>\n",
       "      <td>NaN</td>\n",
       "      <td>NaN</td>\n",
       "      <td>NaN</td>\n",
       "    </tr>\n",
       "    <tr>\n",
       "      <th>2</th>\n",
       "      <td>9273</td>\n",
       "      <td>43776</td>\n",
       "      <td>1831</td>\n",
       "      <td>3</td>\n",
       "      <td>2020-03-04</td>\n",
       "      <td>PAID</td>\n",
       "      <td>5</td>\n",
       "      <td>2020-03-09</td>\n",
       "      <td>{\"total\": 7322168.42, \"penalty\": 0, \"fngTotal\"...</td>\n",
       "      <td>{\"total\": 7322168.42, \"penalty\": 0, \"fngTotal\"...</td>\n",
       "      <td>...</td>\n",
       "      <td>0.04</td>\n",
       "      <td>NaN</td>\n",
       "      <td>NaN</td>\n",
       "      <td>NaN</td>\n",
       "      <td>NaN</td>\n",
       "      <td>NaN</td>\n",
       "      <td>NaN</td>\n",
       "      <td>NaN</td>\n",
       "      <td>NaN</td>\n",
       "      <td>NaN</td>\n",
       "    </tr>\n",
       "  </tbody>\n",
       "</table>\n",
       "<p>2 rows × 42 columns</p>\n",
       "</div>"
      ],
      "text/plain": [
       "   client_id  loan_schedule_id  loan_id  index expected_date state  \\\n",
       "1       2442             13696      592      6    2019-03-18  PAID   \n",
       "2       9273             43776     1831      3    2020-03-04  PAID   \n",
       "\n",
       "   arrears_days  paid_date                                    expected_detail  \\\n",
       "1             0 2019-03-18  {\"total\": 22872996.50, \"penalty\": 0, \"interest...   \n",
       "2             5 2020-03-09  {\"total\": 7322168.42, \"penalty\": 0, \"fngTotal\"...   \n",
       "\n",
       "                                         paid_detail  ...  \\\n",
       "1  {\"total\": 22872996.50, \"penalty\": 0, \"interest...  ...   \n",
       "2  {\"total\": 7322168.42, \"penalty\": 0, \"fngTotal\"...  ...   \n",
       "\n",
       "   taxRetentionPercentage_paid  fngTotal_paid  fngValue_paid  fngPercent_paid  \\\n",
       "1                         0.04            NaN            NaN              NaN   \n",
       "2                         0.04            NaN            NaN              NaN   \n",
       "\n",
       "   fngVatValue_paid  legalCharge_paid  fngVatPercent_paid  \\\n",
       "1               NaN               NaN                 NaN   \n",
       "2               NaN               NaN                 NaN   \n",
       "\n",
       "   preLegalCharge_paid  feesPaid_paid  monthlyDeferredInterest_paid  \n",
       "1                  NaN            NaN                           NaN  \n",
       "2                  NaN            NaN                           NaN  \n",
       "\n",
       "[2 rows x 42 columns]"
      ]
     },
     "execution_count": 18,
     "metadata": {},
     "output_type": "execute_result"
    }
   ],
   "source": [
    "path_file = \"data_sempli_holberton.xlsx\"\n",
    "cols = ['client_id',\n",
    "        'loan_schedule_id',\n",
    "        'loan_id',\n",
    "        'index',\n",
    "        'expected_date',\n",
    "        'state',\n",
    "        'arrears_days',\n",
    "        'paid_date',\n",
    "        'expected_detail',\n",
    "        'paid_detail']\n",
    "data = pd.read_excel(path_file, sheet_name = 1, header = 0, usecols = cols).replace('NaT', np.nan)\n",
    "\n",
    "def normalize_data(df, col_name):\n",
    "    data = df[col_name].apply(json.loads)\n",
    "    return pd.json_normalize(data)\n",
    "\n",
    "expected = normalize_data(data,'expected_detail')\n",
    "paid = normalize_data(data,'paid_detail')\n",
    "data = data.join(expected).join(paid, rsuffix='_paid')\n",
    "data = data[data.state != \"GRACE\"]\n",
    "data = data[data.state != \"PENDING\"]\n",
    "data.head(2)"
   ]
  },
  {
   "cell_type": "markdown",
   "metadata": {},
   "source": [
    "### Deleting unnecessary columns\n",
    "\n",
    "After taking a look at the data, we came to the conclusion to use total_paid and total_expected values and delete the other variable presented on 'data_droped_columns'"
   ]
  },
  {
   "cell_type": "code",
   "execution_count": 19,
   "metadata": {},
   "outputs": [
    {
     "data": {
      "text/html": [
       "<div>\n",
       "<style scoped>\n",
       "    .dataframe tbody tr th:only-of-type {\n",
       "        vertical-align: middle;\n",
       "    }\n",
       "\n",
       "    .dataframe tbody tr th {\n",
       "        vertical-align: top;\n",
       "    }\n",
       "\n",
       "    .dataframe thead th {\n",
       "        text-align: right;\n",
       "    }\n",
       "</style>\n",
       "<table border=\"1\" class=\"dataframe\">\n",
       "  <thead>\n",
       "    <tr style=\"text-align: right;\">\n",
       "      <th></th>\n",
       "      <th>client_id</th>\n",
       "      <th>loan_schedule_id</th>\n",
       "      <th>loan_id</th>\n",
       "      <th>index</th>\n",
       "      <th>expected_date</th>\n",
       "      <th>state</th>\n",
       "      <th>arrears_days</th>\n",
       "      <th>paid_date</th>\n",
       "      <th>expected_detail</th>\n",
       "      <th>paid_detail</th>\n",
       "      <th>total</th>\n",
       "      <th>total_paid</th>\n",
       "    </tr>\n",
       "  </thead>\n",
       "  <tbody>\n",
       "    <tr>\n",
       "      <th>1</th>\n",
       "      <td>2442</td>\n",
       "      <td>13696</td>\n",
       "      <td>592</td>\n",
       "      <td>6</td>\n",
       "      <td>2019-03-18</td>\n",
       "      <td>PAID</td>\n",
       "      <td>0</td>\n",
       "      <td>2019-03-18</td>\n",
       "      <td>{\"total\": 22872996.50, \"penalty\": 0, \"interest...</td>\n",
       "      <td>{\"total\": 22872996.50, \"penalty\": 0, \"interest...</td>\n",
       "      <td>22872996.50</td>\n",
       "      <td>22872996.50</td>\n",
       "    </tr>\n",
       "    <tr>\n",
       "      <th>2</th>\n",
       "      <td>9273</td>\n",
       "      <td>43776</td>\n",
       "      <td>1831</td>\n",
       "      <td>3</td>\n",
       "      <td>2020-03-04</td>\n",
       "      <td>PAID</td>\n",
       "      <td>5</td>\n",
       "      <td>2020-03-09</td>\n",
       "      <td>{\"total\": 7322168.42, \"penalty\": 0, \"fngTotal\"...</td>\n",
       "      <td>{\"total\": 7322168.42, \"penalty\": 0, \"fngTotal\"...</td>\n",
       "      <td>7322168.42</td>\n",
       "      <td>7322168.42</td>\n",
       "    </tr>\n",
       "  </tbody>\n",
       "</table>\n",
       "</div>"
      ],
      "text/plain": [
       "   client_id  loan_schedule_id  loan_id  index expected_date state  \\\n",
       "1       2442             13696      592      6    2019-03-18  PAID   \n",
       "2       9273             43776     1831      3    2020-03-04  PAID   \n",
       "\n",
       "   arrears_days  paid_date                                    expected_detail  \\\n",
       "1             0 2019-03-18  {\"total\": 22872996.50, \"penalty\": 0, \"interest...   \n",
       "2             5 2020-03-09  {\"total\": 7322168.42, \"penalty\": 0, \"fngTotal\"...   \n",
       "\n",
       "                                         paid_detail        total   total_paid  \n",
       "1  {\"total\": 22872996.50, \"penalty\": 0, \"interest...  22872996.50  22872996.50  \n",
       "2  {\"total\": 7322168.42, \"penalty\": 0, \"fngTotal\"...   7322168.42   7322168.42  "
      ]
     },
     "execution_count": 19,
     "metadata": {},
     "output_type": "execute_result"
    }
   ],
   "source": [
    "data_droped_columns = ['penalty', 'interest', 'insurance', 'principal', 'taxRetentionValue',\n",
    "                       'taxRetentionPercentage', 'legalCharge', 'preLegalCharge', 'feesPaid',\n",
    "                       'fngTotal', 'fngValue',\n",
    "                       'fngPercent', 'fngVatValue', 'fngVatPercent', 'monthlyDeferredInterest',\n",
    "                       'penalty_paid', 'interest_paid', 'insurance_paid',\n",
    "                       'principal_paid', 'taxRetentionValue_paid',\n",
    "                       'taxRetentionPercentage_paid', 'legalCharge_paid',\n",
    "                       'preLegalCharge_paid', 'feesPaid_paid', 'fngTotal_paid',\n",
    "                       'fngValue_paid', 'fngPercent_paid', 'fngVatValue_paid',\n",
    "                       'fngVatPercent_paid', 'monthlyDeferredInterest_paid']\n",
    "data = data.drop(columns=data_droped_columns)\n",
    "data.head(2)"
   ]
  },
  {
   "cell_type": "markdown",
   "metadata": {},
   "source": [
    "### checking normalized values\n",
    "After deleting the some columns, we check if the 'total' and 'total_paid' match to the one on 'expected_detail' for 'total' and 'paid_detail' for 'total_paid'\n",
    "\n",
    "The next step is delete the rows with json format and organize the data by 'client_id'"
   ]
  },
  {
   "cell_type": "code",
   "execution_count": 20,
   "metadata": {},
   "outputs": [
    {
     "data": {
      "text/html": [
       "<div>\n",
       "<style scoped>\n",
       "    .dataframe tbody tr th:only-of-type {\n",
       "        vertical-align: middle;\n",
       "    }\n",
       "\n",
       "    .dataframe tbody tr th {\n",
       "        vertical-align: top;\n",
       "    }\n",
       "\n",
       "    .dataframe thead th {\n",
       "        text-align: right;\n",
       "    }\n",
       "</style>\n",
       "<table border=\"1\" class=\"dataframe\">\n",
       "  <thead>\n",
       "    <tr style=\"text-align: right;\">\n",
       "      <th></th>\n",
       "      <th>client_id</th>\n",
       "      <th>loan_schedule_id</th>\n",
       "      <th>loan_id</th>\n",
       "      <th>index</th>\n",
       "      <th>expected_date</th>\n",
       "      <th>state</th>\n",
       "      <th>arrears_days</th>\n",
       "      <th>paid_date</th>\n",
       "      <th>total</th>\n",
       "      <th>total_paid</th>\n",
       "    </tr>\n",
       "  </thead>\n",
       "  <tbody>\n",
       "    <tr>\n",
       "      <th>861</th>\n",
       "      <td>14</td>\n",
       "      <td>82</td>\n",
       "      <td>14</td>\n",
       "      <td>8</td>\n",
       "      <td>2017-12-27</td>\n",
       "      <td>PAID</td>\n",
       "      <td>0</td>\n",
       "      <td>2017-12-27</td>\n",
       "      <td>1497723.06</td>\n",
       "      <td>1497723.06</td>\n",
       "    </tr>\n",
       "    <tr>\n",
       "      <th>5477</th>\n",
       "      <td>14</td>\n",
       "      <td>77</td>\n",
       "      <td>14</td>\n",
       "      <td>3</td>\n",
       "      <td>2017-07-27</td>\n",
       "      <td>PAID</td>\n",
       "      <td>0</td>\n",
       "      <td>2017-07-27</td>\n",
       "      <td>1497723.06</td>\n",
       "      <td>1497723.06</td>\n",
       "    </tr>\n",
       "  </tbody>\n",
       "</table>\n",
       "</div>"
      ],
      "text/plain": [
       "      client_id  loan_schedule_id  loan_id  index expected_date state  \\\n",
       "861          14                82       14      8    2017-12-27  PAID   \n",
       "5477         14                77       14      3    2017-07-27  PAID   \n",
       "\n",
       "      arrears_days  paid_date       total  total_paid  \n",
       "861              0 2017-12-27  1497723.06  1497723.06  \n",
       "5477             0 2017-07-27  1497723.06  1497723.06  "
      ]
     },
     "execution_count": 20,
     "metadata": {},
     "output_type": "execute_result"
    }
   ],
   "source": [
    "unused_columns = ['expected_detail', 'paid_detail']\n",
    "data = data.drop(columns=unused_columns)\n",
    "data = data.sort_values(by='client_id', ascending=True)\n",
    "data.head(2)"
   ]
  },
  {
   "cell_type": "code",
   "execution_count": 21,
   "metadata": {},
   "outputs": [
    {
     "data": {
      "text/plain": [
       "<matplotlib.axes._subplots.AxesSubplot at 0x2749c7b8940>"
      ]
     },
     "execution_count": 21,
     "metadata": {},
     "output_type": "execute_result"
    },
    {
     "data": {
      "image/png": "[encoded data removed]",
      "text/plain": [
       "<Figure size 432x288 with 1 Axes>"
      ]
     },
     "metadata": {
      "needs_background": "light"
     },
     "output_type": "display_data"
    }
   ],
   "source": [
    "sns.countplot(x='state', data= data)"
   ]
  },
  {
   "cell_type": "markdown",
   "metadata": {},
   "source": [
    "## Export data dataframe to an excel file"
   ]
  },
  {
   "cell_type": "code",
   "execution_count": 22,
   "metadata": {},
   "outputs": [],
   "source": [
    "data.to_excel('output.xlsx')"
   ]
  },
  {
   "cell_type": "code",
   "execution_count": null,
   "metadata": {},
   "outputs": [],
   "source": []
  }
 ],
 "metadata": {
  "kernelspec": {
   "display_name": "Python 3",
   "language": "python",
   "name": "python3"
  },
  "language_info": {
   "codemirror_mode": {
    "name": "ipython",
    "version": 3
   },
   "file_extension": ".py",
   "mimetype": "text/x-python",
   "name": "python",
   "nbconvert_exporter": "python",
   "pygments_lexer": "ipython3",
   "version": "3.8.3"
  }
 },
 "nbformat": 4,
 "nbformat_minor": 4
}
