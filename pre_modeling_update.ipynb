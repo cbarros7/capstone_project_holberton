{
 "cells": [
  {
   "cell_type": "code",
   "execution_count": 1,
   "metadata": {},
   "outputs": [],
   "source": [
    "# Librerias generales\n",
    "import pandas as pd\n",
    "import numpy as np\n",
    "import json\n",
    "\n",
    "# Time\n",
    "import datetime as dt\n",
    "from datetime import datetime, timedelta\n",
    "\n",
    "# Visualización\n",
    "import seaborn as sns\n",
    "import matplotlib.pyplot as plt\n",
    "from dython.model_utils import roc_graph\n",
    "from dython.nominal import associations\n",
    "%matplotlib inline\n",
    "\n",
    "# OneHotEncoding\n",
    "from sklearn.compose import make_column_transformer\n",
    "from sklearn.preprocessing import OneHotEncoder\n",
    "from sklearn.linear_model import LogisticRegression\n",
    "from sklearn.preprocessing import LabelEncoder\n",
    "\n",
    "from sklearn import metrics\n",
    "\n",
    "import os\n",
    "import json\n",
    "\n",
    "from pandas.io.json import json_normalize\n",
    "from datetime import datetime \n",
    "from tqdm import tqdm\n",
    "from sklearn.preprocessing import PowerTransformer\n",
    "import umap\n",
    "import matplotlib.pyplot as plt\n",
    "import plotly.graph_objects as go\n",
    "from scipy import stats\n",
    "\n",
    "from sklearn.cluster import KMeans\n",
    "from kmodes.kprototypes import KPrototypes\n",
    "\n",
    "\n",
    "from lightgbm import LGBMClassifier\n",
    "import shap\n",
    "from sklearn.model_selection import cross_val_score\n",
    "\n",
    "\n",
    "# Algoritmos\n",
    "from sklearn.preprocessing import StandardScaler, normalize\n",
    "from sklearn import preprocessing \n",
    "from sklearn.cluster import KMeans\n",
    "from sklearn.decomposition import PCA\n",
    "from sklearn.cluster import MiniBatchKMeans\n",
    "from sklearn.cluster import AgglomerativeClustering\n",
    "import scipy.cluster.hierarchy as shc\n",
    "from sklearn.cluster import DBSCAN\n",
    "from sklearn.mixture import GaussianMixture\n",
    "from sklearn.cluster import MeanShift\n",
    "from sklearn.cluster import estimate_bandwidth\n",
    "\n",
    "# Pipeline\n",
    "from sklearn.pipeline import make_pipeline\n",
    "\n",
    "from jupyterthemes import jtplot\n",
    "jtplot.style(theme='monokai', context='notebook', ticks=True, grid=False)\n",
    "\n",
    "# Configuración de pandas \n",
    "pd.set_option('display.max_rows', 500)\n",
    "pd.set_option('display.max_columns', 500)\n",
    "pd.set_option('display.width', 1000)"
   ]
  },
  {
   "cell_type": "markdown",
   "metadata": {},
   "source": [
    "##### Importar dataset"
   ]
  },
  {
   "cell_type": "code",
   "execution_count": 2,
   "metadata": {
    "scrolled": true
   },
   "outputs": [
    {
     "data": {
      "text/html": [
       "<div>\n",
       "<style scoped>\n",
       "    .dataframe tbody tr th:only-of-type {\n",
       "        vertical-align: middle;\n",
       "    }\n",
       "\n",
       "    .dataframe tbody tr th {\n",
       "        vertical-align: top;\n",
       "    }\n",
       "\n",
       "    .dataframe thead th {\n",
       "        text-align: right;\n",
       "    }\n",
       "</style>\n",
       "<table border=\"1\" class=\"dataframe\">\n",
       "  <thead>\n",
       "    <tr style=\"text-align: right;\">\n",
       "      <th></th>\n",
       "      <th>client_id</th>\n",
       "      <th>loan_schedule_id</th>\n",
       "      <th>loan_id</th>\n",
       "      <th>index</th>\n",
       "      <th>expected_date</th>\n",
       "      <th>state</th>\n",
       "      <th>arrears_days</th>\n",
       "      <th>paid_date</th>\n",
       "      <th>total</th>\n",
       "      <th>total_paid</th>\n",
       "    </tr>\n",
       "  </thead>\n",
       "  <tbody>\n",
       "    <tr>\n",
       "      <th>0</th>\n",
       "      <td>241</td>\n",
       "      <td>25718</td>\n",
       "      <td>1076</td>\n",
       "      <td>8</td>\n",
       "      <td>2019-08-14</td>\n",
       "      <td>PAID</td>\n",
       "      <td>16</td>\n",
       "      <td>2019-08-30</td>\n",
       "      <td>5947504.88</td>\n",
       "      <td>5947504.88</td>\n",
       "    </tr>\n",
       "    <tr>\n",
       "      <th>1</th>\n",
       "      <td>241</td>\n",
       "      <td>25719</td>\n",
       "      <td>1076</td>\n",
       "      <td>9</td>\n",
       "      <td>2019-09-16</td>\n",
       "      <td>PAID</td>\n",
       "      <td>1</td>\n",
       "      <td>2019-09-17</td>\n",
       "      <td>5972929.73</td>\n",
       "      <td>5972929.73</td>\n",
       "    </tr>\n",
       "    <tr>\n",
       "      <th>2</th>\n",
       "      <td>241</td>\n",
       "      <td>25720</td>\n",
       "      <td>1076</td>\n",
       "      <td>10</td>\n",
       "      <td>2019-10-30</td>\n",
       "      <td>PAID</td>\n",
       "      <td>0</td>\n",
       "      <td>2019-10-30</td>\n",
       "      <td>5941645.15</td>\n",
       "      <td>5941645.15</td>\n",
       "    </tr>\n",
       "    <tr>\n",
       "      <th>3</th>\n",
       "      <td>241</td>\n",
       "      <td>25721</td>\n",
       "      <td>1076</td>\n",
       "      <td>11</td>\n",
       "      <td>2019-11-29</td>\n",
       "      <td>PAID</td>\n",
       "      <td>0</td>\n",
       "      <td>2019-11-29</td>\n",
       "      <td>5939653.40</td>\n",
       "      <td>5939653.40</td>\n",
       "    </tr>\n",
       "    <tr>\n",
       "      <th>4</th>\n",
       "      <td>241</td>\n",
       "      <td>25722</td>\n",
       "      <td>1076</td>\n",
       "      <td>12</td>\n",
       "      <td>2019-12-30</td>\n",
       "      <td>PAID</td>\n",
       "      <td>0</td>\n",
       "      <td>2019-12-30</td>\n",
       "      <td>5939653.40</td>\n",
       "      <td>5939653.40</td>\n",
       "    </tr>\n",
       "  </tbody>\n",
       "</table>\n",
       "</div>"
      ],
      "text/plain": [
       "   client_id  loan_schedule_id  loan_id  index expected_date state  arrears_days  paid_date       total  total_paid\n",
       "0        241             25718     1076      8    2019-08-14  PAID            16 2019-08-30  5947504.88  5947504.88\n",
       "1        241             25719     1076      9    2019-09-16  PAID             1 2019-09-17  5972929.73  5972929.73\n",
       "2        241             25720     1076     10    2019-10-30  PAID             0 2019-10-30  5941645.15  5941645.15\n",
       "3        241             25721     1076     11    2019-11-29  PAID             0 2019-11-29  5939653.40  5939653.40\n",
       "4        241             25722     1076     12    2019-12-30  PAID             0 2019-12-30  5939653.40  5939653.40"
      ]
     },
     "execution_count": 2,
     "metadata": {},
     "output_type": "execute_result"
    }
   ],
   "source": [
    "data = pd.read_excel('six_loan_id.xlsx').drop(['Unnamed: 0'], axis=1)\n",
    "data.head()"
   ]
  },
  {
   "cell_type": "code",
   "execution_count": 3,
   "metadata": {},
   "outputs": [],
   "source": [
    "# Cambiara formato datatime\n",
    "data['paid_date']= pd.to_datetime(data['paid_date']) \n",
    "data['expected_date']= pd.to_datetime(data['expected_date']) "
   ]
  },
  {
   "cell_type": "code",
   "execution_count": 4,
   "metadata": {},
   "outputs": [
    {
     "data": {
      "text/html": [
       "<div>\n",
       "<style scoped>\n",
       "    .dataframe tbody tr th:only-of-type {\n",
       "        vertical-align: middle;\n",
       "    }\n",
       "\n",
       "    .dataframe tbody tr th {\n",
       "        vertical-align: top;\n",
       "    }\n",
       "\n",
       "    .dataframe thead th {\n",
       "        text-align: right;\n",
       "    }\n",
       "</style>\n",
       "<table border=\"1\" class=\"dataframe\">\n",
       "  <thead>\n",
       "    <tr style=\"text-align: right;\">\n",
       "      <th></th>\n",
       "      <th>client_id</th>\n",
       "      <th>loan_id</th>\n",
       "      <th>recency</th>\n",
       "      <th>state</th>\n",
       "      <th>arrears_days</th>\n",
       "      <th>total_paid</th>\n",
       "    </tr>\n",
       "  </thead>\n",
       "  <tbody>\n",
       "    <tr>\n",
       "      <th>0</th>\n",
       "      <td>241</td>\n",
       "      <td>1076</td>\n",
       "      <td>270.0</td>\n",
       "      <td>PAID</td>\n",
       "      <td>3.0</td>\n",
       "      <td>147915805.0</td>\n",
       "    </tr>\n",
       "    <tr>\n",
       "      <th>1</th>\n",
       "      <td>241</td>\n",
       "      <td>1244</td>\n",
       "      <td>270.0</td>\n",
       "      <td>PAID</td>\n",
       "      <td>4.0</td>\n",
       "      <td>91852726.0</td>\n",
       "    </tr>\n",
       "    <tr>\n",
       "      <th>2</th>\n",
       "      <td>362</td>\n",
       "      <td>1469</td>\n",
       "      <td>202.0</td>\n",
       "      <td>PAID</td>\n",
       "      <td>2.0</td>\n",
       "      <td>15211138.0</td>\n",
       "    </tr>\n",
       "    <tr>\n",
       "      <th>3</th>\n",
       "      <td>428</td>\n",
       "      <td>119</td>\n",
       "      <td>235.0</td>\n",
       "      <td>PAID</td>\n",
       "      <td>11.0</td>\n",
       "      <td>8713879.0</td>\n",
       "    </tr>\n",
       "    <tr>\n",
       "      <th>4</th>\n",
       "      <td>428</td>\n",
       "      <td>120</td>\n",
       "      <td>235.0</td>\n",
       "      <td>PAID</td>\n",
       "      <td>11.0</td>\n",
       "      <td>8102608.0</td>\n",
       "    </tr>\n",
       "  </tbody>\n",
       "</table>\n",
       "</div>"
      ],
      "text/plain": [
       "   client_id  loan_id  recency state  arrears_days   total_paid\n",
       "0        241     1076    270.0  PAID           3.0  147915805.0\n",
       "1        241     1244    270.0  PAID           4.0   91852726.0\n",
       "2        362     1469    202.0  PAID           2.0   15211138.0\n",
       "3        428      119    235.0  PAID          11.0    8713879.0\n",
       "4        428      120    235.0  PAID          11.0    8102608.0"
      ]
     },
     "execution_count": 4,
     "metadata": {},
     "output_type": "execute_result"
    }
   ],
   "source": [
    "# Aggregate data on a customer level\n",
    "data = data.groupby(['client_id', 'loan_id']).agg({\n",
    "    'paid_date': lambda x: (datetime.today() - x.max()).days, #Diferenciar entre la fecha actual (hoy) y\n",
    "    #la fecha de factura más reciente basado en el número de dias de la ultima transacción\n",
    "    'state': lambda x: x.iloc[-1], # Devuelve el último state\n",
    "    'arrears_days':'mean',\n",
    "    'total_paid': 'sum'}).round(0) # Se suman todas las facturas\n",
    "\n",
    "# Rename columns for easier interpretation\n",
    "data.rename(columns = {'paid_date': 'recency'}, inplace=True)\n",
    "# Reset index\n",
    "data.reset_index(inplace=True)\n",
    "data.head()"
   ]
  },
  {
   "cell_type": "code",
   "execution_count": 5,
   "metadata": {},
   "outputs": [],
   "source": [
    "#Reemplazar missing values por el promedio\n",
    "data.fillna(data.mean(), inplace=True)"
   ]
  },
  {
   "cell_type": "code",
   "execution_count": 6,
   "metadata": {},
   "outputs": [
    {
     "data": {
      "text/plain": [
       "client_id       0\n",
       "loan_id         0\n",
       "recency         0\n",
       "state           0\n",
       "arrears_days    0\n",
       "total_paid      0\n",
       "dtype: int64"
      ]
     },
     "execution_count": 6,
     "metadata": {},
     "output_type": "execute_result"
    }
   ],
   "source": [
    "data.isnull().sum()"
   ]
  },
  {
   "cell_type": "code",
   "execution_count": 7,
   "metadata": {},
   "outputs": [
    {
     "data": {
      "text/html": [
       "<div>\n",
       "<style scoped>\n",
       "    .dataframe tbody tr th:only-of-type {\n",
       "        vertical-align: middle;\n",
       "    }\n",
       "\n",
       "    .dataframe tbody tr th {\n",
       "        vertical-align: top;\n",
       "    }\n",
       "\n",
       "    .dataframe thead th {\n",
       "        text-align: right;\n",
       "    }\n",
       "</style>\n",
       "<table border=\"1\" class=\"dataframe\">\n",
       "  <thead>\n",
       "    <tr style=\"text-align: right;\">\n",
       "      <th></th>\n",
       "      <th>client_id</th>\n",
       "      <th>loan_id</th>\n",
       "      <th>recency</th>\n",
       "      <th>state</th>\n",
       "      <th>arrears_days</th>\n",
       "      <th>total_paid</th>\n",
       "      <th>Monto Acumulado</th>\n",
       "      <th>Uso de los recursos</th>\n",
       "      <th>Plazo</th>\n",
       "      <th>Sector</th>\n",
       "      <th>Ingresos</th>\n",
       "      <th>Ubicación</th>\n",
       "      <th>Estrato Mínimo</th>\n",
       "      <th>Procesos judiciales</th>\n",
       "      <th>Alertas</th>\n",
       "      <th>Score Bureau Empresa</th>\n",
       "      <th>Huellas de Consulta</th>\n",
       "      <th>Website empresa</th>\n",
       "      <th>Instagram empresa</th>\n",
       "      <th>LinkedIn empresa</th>\n",
       "      <th>LinkedIn empresarios</th>\n",
       "      <th>Edad empresarios</th>\n",
       "      <th>Activador</th>\n",
       "      <th>Número de accionistas</th>\n",
       "      <th>Impacto</th>\n",
       "      <th>Acceso previso a la banca</th>\n",
       "      <th># Empleados</th>\n",
       "      <th>Mujeres empresarias</th>\n",
       "      <th>Mujeres en cargos directivos</th>\n",
       "    </tr>\n",
       "  </thead>\n",
       "  <tbody>\n",
       "    <tr>\n",
       "      <th>0</th>\n",
       "      <td>241</td>\n",
       "      <td>1076</td>\n",
       "      <td>270.0</td>\n",
       "      <td>PAID</td>\n",
       "      <td>3.0</td>\n",
       "      <td>147915805.0</td>\n",
       "      <td>250000000</td>\n",
       "      <td>CR</td>\n",
       "      <td>25 a 36 meses</td>\n",
       "      <td>Servicios</td>\n",
       "      <td>Seed</td>\n",
       "      <td>Medellín</td>\n",
       "      <td>5</td>\n",
       "      <td>No</td>\n",
       "      <td>No</td>\n",
       "      <td>925</td>\n",
       "      <td>8</td>\n",
       "      <td>Si</td>\n",
       "      <td>Si</td>\n",
       "      <td>Si</td>\n",
       "      <td>Si</td>\n",
       "      <td>45</td>\n",
       "      <td>Internet</td>\n",
       "      <td>2</td>\n",
       "      <td>No</td>\n",
       "      <td>Si</td>\n",
       "      <td>16</td>\n",
       "      <td>No</td>\n",
       "      <td>2</td>\n",
       "    </tr>\n",
       "    <tr>\n",
       "      <th>1</th>\n",
       "      <td>241</td>\n",
       "      <td>1244</td>\n",
       "      <td>270.0</td>\n",
       "      <td>PAID</td>\n",
       "      <td>4.0</td>\n",
       "      <td>91852726.0</td>\n",
       "      <td>250000000</td>\n",
       "      <td>CR</td>\n",
       "      <td>25 a 36 meses</td>\n",
       "      <td>Servicios</td>\n",
       "      <td>Seed</td>\n",
       "      <td>Medellín</td>\n",
       "      <td>5</td>\n",
       "      <td>No</td>\n",
       "      <td>No</td>\n",
       "      <td>925</td>\n",
       "      <td>8</td>\n",
       "      <td>Si</td>\n",
       "      <td>Si</td>\n",
       "      <td>Si</td>\n",
       "      <td>Si</td>\n",
       "      <td>45</td>\n",
       "      <td>Internet</td>\n",
       "      <td>2</td>\n",
       "      <td>No</td>\n",
       "      <td>Si</td>\n",
       "      <td>16</td>\n",
       "      <td>No</td>\n",
       "      <td>2</td>\n",
       "    </tr>\n",
       "    <tr>\n",
       "      <th>2</th>\n",
       "      <td>362</td>\n",
       "      <td>1469</td>\n",
       "      <td>202.0</td>\n",
       "      <td>PAID</td>\n",
       "      <td>2.0</td>\n",
       "      <td>15211138.0</td>\n",
       "      <td>50000000</td>\n",
       "      <td>KT - EX</td>\n",
       "      <td>13 a 24 meses</td>\n",
       "      <td>Servicios</td>\n",
       "      <td>Seed</td>\n",
       "      <td>Medellín</td>\n",
       "      <td>3</td>\n",
       "      <td>No</td>\n",
       "      <td>No</td>\n",
       "      <td>924</td>\n",
       "      <td>2</td>\n",
       "      <td>Si</td>\n",
       "      <td>No</td>\n",
       "      <td>Si</td>\n",
       "      <td>No</td>\n",
       "      <td>32</td>\n",
       "      <td>SocialNetworks</td>\n",
       "      <td>3</td>\n",
       "      <td>No</td>\n",
       "      <td>Si</td>\n",
       "      <td>3</td>\n",
       "      <td>No</td>\n",
       "      <td>0</td>\n",
       "    </tr>\n",
       "    <tr>\n",
       "      <th>3</th>\n",
       "      <td>428</td>\n",
       "      <td>119</td>\n",
       "      <td>235.0</td>\n",
       "      <td>PAID</td>\n",
       "      <td>11.0</td>\n",
       "      <td>8713879.0</td>\n",
       "      <td>40000000</td>\n",
       "      <td>SP</td>\n",
       "      <td>13 a 24 meses</td>\n",
       "      <td>Industria</td>\n",
       "      <td>Seed</td>\n",
       "      <td>Medellín</td>\n",
       "      <td>4</td>\n",
       "      <td>No</td>\n",
       "      <td>No</td>\n",
       "      <td>861</td>\n",
       "      <td>1</td>\n",
       "      <td>Si</td>\n",
       "      <td>No</td>\n",
       "      <td>Si</td>\n",
       "      <td>Si</td>\n",
       "      <td>44</td>\n",
       "      <td>CreditProfessionalContact</td>\n",
       "      <td>2</td>\n",
       "      <td>No</td>\n",
       "      <td>Si</td>\n",
       "      <td>5</td>\n",
       "      <td>No</td>\n",
       "      <td>0</td>\n",
       "    </tr>\n",
       "    <tr>\n",
       "      <th>4</th>\n",
       "      <td>428</td>\n",
       "      <td>120</td>\n",
       "      <td>235.0</td>\n",
       "      <td>PAID</td>\n",
       "      <td>11.0</td>\n",
       "      <td>8102608.0</td>\n",
       "      <td>40000000</td>\n",
       "      <td>SP</td>\n",
       "      <td>13 a 24 meses</td>\n",
       "      <td>Industria</td>\n",
       "      <td>Seed</td>\n",
       "      <td>Medellín</td>\n",
       "      <td>4</td>\n",
       "      <td>No</td>\n",
       "      <td>No</td>\n",
       "      <td>861</td>\n",
       "      <td>1</td>\n",
       "      <td>Si</td>\n",
       "      <td>No</td>\n",
       "      <td>Si</td>\n",
       "      <td>Si</td>\n",
       "      <td>44</td>\n",
       "      <td>CreditProfessionalContact</td>\n",
       "      <td>2</td>\n",
       "      <td>No</td>\n",
       "      <td>Si</td>\n",
       "      <td>5</td>\n",
       "      <td>No</td>\n",
       "      <td>0</td>\n",
       "    </tr>\n",
       "    <tr>\n",
       "      <th>5</th>\n",
       "      <td>429</td>\n",
       "      <td>998</td>\n",
       "      <td>591.0</td>\n",
       "      <td>PAID</td>\n",
       "      <td>11.0</td>\n",
       "      <td>34013973.0</td>\n",
       "      <td>111491000</td>\n",
       "      <td>SP</td>\n",
       "      <td>Menos de 12 meses</td>\n",
       "      <td>Servicios</td>\n",
       "      <td>Seed</td>\n",
       "      <td>Medellín</td>\n",
       "      <td>4</td>\n",
       "      <td>No</td>\n",
       "      <td>No</td>\n",
       "      <td>951</td>\n",
       "      <td>0</td>\n",
       "      <td>No</td>\n",
       "      <td>No</td>\n",
       "      <td>No</td>\n",
       "      <td>No</td>\n",
       "      <td>49</td>\n",
       "      <td>CreditProfessionalContact</td>\n",
       "      <td>2</td>\n",
       "      <td>No</td>\n",
       "      <td>No</td>\n",
       "      <td>5</td>\n",
       "      <td>No</td>\n",
       "      <td>2</td>\n",
       "    </tr>\n",
       "    <tr>\n",
       "      <th>6</th>\n",
       "      <td>429</td>\n",
       "      <td>1512</td>\n",
       "      <td>159.0</td>\n",
       "      <td>LATE</td>\n",
       "      <td>7.0</td>\n",
       "      <td>12358937.0</td>\n",
       "      <td>111491000</td>\n",
       "      <td>SP</td>\n",
       "      <td>Menos de 12 meses</td>\n",
       "      <td>Servicios</td>\n",
       "      <td>Seed</td>\n",
       "      <td>Medellín</td>\n",
       "      <td>4</td>\n",
       "      <td>No</td>\n",
       "      <td>No</td>\n",
       "      <td>951</td>\n",
       "      <td>0</td>\n",
       "      <td>No</td>\n",
       "      <td>No</td>\n",
       "      <td>No</td>\n",
       "      <td>No</td>\n",
       "      <td>49</td>\n",
       "      <td>CreditProfessionalContact</td>\n",
       "      <td>2</td>\n",
       "      <td>No</td>\n",
       "      <td>No</td>\n",
       "      <td>5</td>\n",
       "      <td>No</td>\n",
       "      <td>2</td>\n",
       "    </tr>\n",
       "    <tr>\n",
       "      <th>7</th>\n",
       "      <td>430</td>\n",
       "      <td>205</td>\n",
       "      <td>219.0</td>\n",
       "      <td>PAID</td>\n",
       "      <td>6.0</td>\n",
       "      <td>127943202.0</td>\n",
       "      <td>1299370581</td>\n",
       "      <td>KT - CO</td>\n",
       "      <td>Menos de 12 meses</td>\n",
       "      <td>Industria</td>\n",
       "      <td>Venture</td>\n",
       "      <td>Envigado</td>\n",
       "      <td>5</td>\n",
       "      <td>No</td>\n",
       "      <td>Si</td>\n",
       "      <td>810</td>\n",
       "      <td>20</td>\n",
       "      <td>Si</td>\n",
       "      <td>Si</td>\n",
       "      <td>Si</td>\n",
       "      <td>Si</td>\n",
       "      <td>24</td>\n",
       "      <td>Other</td>\n",
       "      <td>3</td>\n",
       "      <td>No</td>\n",
       "      <td>Si</td>\n",
       "      <td>22</td>\n",
       "      <td>No</td>\n",
       "      <td>0</td>\n",
       "    </tr>\n",
       "  </tbody>\n",
       "</table>\n",
       "</div>"
      ],
      "text/plain": [
       "   client_id  loan_id  recency state  arrears_days   total_paid  Monto Acumulado Uso de los recursos              Plazo     Sector Ingresos Ubicación  Estrato Mínimo Procesos judiciales Alertas Score Bureau Empresa Huellas de Consulta Website empresa Instagram empresa LinkedIn empresa LinkedIn empresarios  Edad empresarios                  Activador Número de accionistas Impacto Acceso previso a la banca  # Empleados Mujeres empresarias  Mujeres en cargos directivos\n",
       "0        241     1076    270.0  PAID           3.0  147915805.0        250000000                 CR       25 a 36 meses  Servicios     Seed  Medellín               5                  No      No                  925                   8              Si                Si               Si                   Si                45                   Internet                     2      No                        Si           16                  No                             2\n",
       "1        241     1244    270.0  PAID           4.0   91852726.0        250000000                 CR       25 a 36 meses  Servicios     Seed  Medellín               5                  No      No                  925                   8              Si                Si               Si                   Si                45                   Internet                     2      No                        Si           16                  No                             2\n",
       "2        362     1469    202.0  PAID           2.0   15211138.0         50000000             KT - EX      13 a 24 meses  Servicios     Seed  Medellín               3                  No      No                  924                   2              Si                No               Si                   No                32             SocialNetworks                     3      No                        Si            3                  No                             0\n",
       "3        428      119    235.0  PAID          11.0    8713879.0         40000000                  SP      13 a 24 meses  Industria     Seed  Medellín               4                  No      No                  861                   1              Si                No               Si                   Si                44  CreditProfessionalContact                     2      No                        Si            5                  No                             0\n",
       "4        428      120    235.0  PAID          11.0    8102608.0         40000000                  SP      13 a 24 meses  Industria     Seed  Medellín               4                  No      No                  861                   1              Si                No               Si                   Si                44  CreditProfessionalContact                     2      No                        Si            5                  No                             0\n",
       "5        429      998    591.0  PAID          11.0   34013973.0        111491000                  SP  Menos de 12 meses  Servicios     Seed  Medellín               4                  No      No                  951                   0              No                No               No                   No                49  CreditProfessionalContact                     2      No                        No            5                  No                             2\n",
       "6        429     1512    159.0  LATE           7.0   12358937.0        111491000                  SP  Menos de 12 meses  Servicios     Seed  Medellín               4                  No      No                  951                   0              No                No               No                   No                49  CreditProfessionalContact                     2      No                        No            5                  No                             2\n",
       "7        430      205    219.0  PAID           6.0  127943202.0       1299370581             KT - CO  Menos de 12 meses  Industria  Venture  Envigado               5                  No      Si                  810                  20              Si                Si               Si                   Si                24                      Other                     3      No                        Si           22                  No                             0"
      ]
     },
     "execution_count": 7,
     "metadata": {},
     "output_type": "execute_result"
    }
   ],
   "source": [
    "path_file = \"data_sempli_holberton.xlsx\"\n",
    "cat_cols = ['ID Cliente', 'Monto Acumulado', 'Uso de los recursos', 'Plazo',\n",
    "       'Sector', 'Ingresos', 'Ubicación', 'Estrato Mínimo',\n",
    "       'Procesos judiciales', 'Alertas', 'Score Bureau Empresa', 'Huellas de Consulta',\n",
    "       'Website empresa', 'Instagram empresa', 'LinkedIn empresa',\n",
    "       'LinkedIn empresarios', 'Edad empresarios', 'Activador', 'Número de accionistas',\n",
    "       'Impacto', 'Acceso previso a la banca', '# Empleados',\n",
    "       'Mujeres empresarias', 'Mujeres en cargos directivos']\n",
    "\n",
    "cat_data = pd.read_excel(path_file, sheet_name = 0, header = 2, usecols = cat_cols).replace('NaT', np.nan)\n",
    "cat_data = cat_data.sort_values(by='ID Cliente', ascending=True)\n",
    "rep_columns = ['Procesos judiciales', 'Alertas', 'Website empresa',\n",
    "               'Instagram empresa', 'LinkedIn empresa',\n",
    "               'LinkedIn empresarios', 'Impacto', 'Acceso previso a la banca',\n",
    "               'Mujeres empresarias']\n",
    "cat_data[rep_columns] = cat_data[rep_columns].replace({'No procesos judiciales':'No',\n",
    "                                                           'Sí procesos judiciales':'Si',\n",
    "                                                           'No Alertas':'No',\n",
    "                                                           'Sí Alertas': 'Si',\n",
    "                                                           'No website':'No',\n",
    "                                                           'Si website':'Si',\n",
    "                                                           'No Ig':'No',\n",
    "                                                           'Si Ig':'Si',\n",
    "                                                           'No LinkedIn':'No',\n",
    "                                                           'Si LinkedIn':'Si',\n",
    "                                                           'No LinkedIn empresarios':'No',\n",
    "                                                           'Si LinkedIn empresarios':'Si',\n",
    "                                                           'Si Impacto':'Si',\n",
    "                                                           'No Impacto':'No',\n",
    "                                                           'Si acceso a la banca':'Si',\n",
    "                                                           'No acceso a la banca':'No',\n",
    "                                                           'No mujeres empresarias':'No',\n",
    "                                                           'Si mujeres empresarias':'Si'})\n",
    "data_transform = pd.DataFrame()\n",
    "data_transform= data.merge(cat_data, left_on='client_id', right_on='ID Cliente').drop('ID Cliente', axis=1)\n",
    "data_transform.head(8)"
   ]
  },
  {
   "cell_type": "code",
   "execution_count": 8,
   "metadata": {},
   "outputs": [
    {
     "data": {
      "text/plain": [
       "(580, 29)"
      ]
     },
     "execution_count": 8,
     "metadata": {},
     "output_type": "execute_result"
    }
   ],
   "source": [
    "data_transform.shape"
   ]
  },
  {
   "cell_type": "code",
   "execution_count": 9,
   "metadata": {},
   "outputs": [
    {
     "data": {
      "text/plain": [
       "(580, 29)"
      ]
     },
     "execution_count": 9,
     "metadata": {},
     "output_type": "execute_result"
    }
   ],
   "source": [
    "# Se elimina sin INFO de huellas de consulta y score bureau\n",
    "#normalizada.replace('SIN INFO', np.nan)\n",
    "data_transform = data_transform[data_transform['Score Bureau Empresa'] != \"SIN INFO\"]\n",
    "data_transform = data_transform[data_transform['Huellas de Consulta'] != \"SIN INFO\"]\n",
    "#normalizada = normalizada.dropna(how='all', axis=1)\n",
    "data_transform.shape"
   ]
  },
  {
   "cell_type": "code",
   "execution_count": 10,
   "metadata": {},
   "outputs": [
    {
     "data": {
      "text/plain": [
       "Index(['client_id', 'loan_id', 'recency', 'state', 'arrears_days', 'total_paid', 'Monto Acumulado', 'Uso de los recursos', 'Plazo', 'Sector', 'Ingresos', 'Ubicación', 'Estrato Mínimo', 'Procesos judiciales', 'Alertas', 'Score Bureau Empresa', 'Huellas de Consulta', 'Website empresa', 'Instagram empresa', 'LinkedIn empresa', 'LinkedIn empresarios', 'Edad empresarios', 'Activador', 'Número de accionistas', 'Impacto', 'Acceso previso a la banca', '# Empleados', 'Mujeres empresarias', 'Mujeres en cargos directivos'], dtype='object')"
      ]
     },
     "execution_count": 10,
     "metadata": {},
     "output_type": "execute_result"
    }
   ],
   "source": [
    "data_transform.columns"
   ]
  },
  {
   "cell_type": "code",
   "execution_count": 11,
   "metadata": {},
   "outputs": [],
   "source": [
    "#data_transform.reset_index(['client_id', 'loan_id'], inplace=True)\n",
    "data_transform.drop(['client_id', 'loan_id'], axis=1, inplace=True)"
   ]
  },
  {
   "cell_type": "code",
   "execution_count": 12,
   "metadata": {},
   "outputs": [
    {
     "data": {
      "text/html": [
       "<div>\n",
       "<style scoped>\n",
       "    .dataframe tbody tr th:only-of-type {\n",
       "        vertical-align: middle;\n",
       "    }\n",
       "\n",
       "    .dataframe tbody tr th {\n",
       "        vertical-align: top;\n",
       "    }\n",
       "\n",
       "    .dataframe thead th {\n",
       "        text-align: right;\n",
       "    }\n",
       "</style>\n",
       "<table border=\"1\" class=\"dataframe\">\n",
       "  <thead>\n",
       "    <tr style=\"text-align: right;\">\n",
       "      <th></th>\n",
       "      <th>recency</th>\n",
       "      <th>state</th>\n",
       "      <th>arrears_days</th>\n",
       "      <th>total_paid</th>\n",
       "      <th>Monto Acumulado</th>\n",
       "      <th>Uso de los recursos</th>\n",
       "      <th>Plazo</th>\n",
       "      <th>Sector</th>\n",
       "      <th>Ingresos</th>\n",
       "      <th>Ubicación</th>\n",
       "      <th>Estrato Mínimo</th>\n",
       "      <th>Procesos judiciales</th>\n",
       "      <th>Alertas</th>\n",
       "      <th>Score Bureau Empresa</th>\n",
       "      <th>Huellas de Consulta</th>\n",
       "      <th>Website empresa</th>\n",
       "      <th>Instagram empresa</th>\n",
       "      <th>LinkedIn empresa</th>\n",
       "      <th>LinkedIn empresarios</th>\n",
       "      <th>Edad empresarios</th>\n",
       "      <th>Activador</th>\n",
       "      <th>Número de accionistas</th>\n",
       "      <th>Impacto</th>\n",
       "      <th>Acceso previso a la banca</th>\n",
       "      <th># Empleados</th>\n",
       "      <th>Mujeres empresarias</th>\n",
       "      <th>Mujeres en cargos directivos</th>\n",
       "    </tr>\n",
       "  </thead>\n",
       "  <tbody>\n",
       "    <tr>\n",
       "      <th>0</th>\n",
       "      <td>270.0</td>\n",
       "      <td>PAID</td>\n",
       "      <td>3.0</td>\n",
       "      <td>147915805.0</td>\n",
       "      <td>250000000</td>\n",
       "      <td>CR</td>\n",
       "      <td>25 a 36 meses</td>\n",
       "      <td>Servicios</td>\n",
       "      <td>Seed</td>\n",
       "      <td>Medellín</td>\n",
       "      <td>5</td>\n",
       "      <td>No</td>\n",
       "      <td>No</td>\n",
       "      <td>925</td>\n",
       "      <td>8</td>\n",
       "      <td>Si</td>\n",
       "      <td>Si</td>\n",
       "      <td>Si</td>\n",
       "      <td>Si</td>\n",
       "      <td>45</td>\n",
       "      <td>Internet</td>\n",
       "      <td>2</td>\n",
       "      <td>No</td>\n",
       "      <td>Si</td>\n",
       "      <td>16</td>\n",
       "      <td>No</td>\n",
       "      <td>2</td>\n",
       "    </tr>\n",
       "  </tbody>\n",
       "</table>\n",
       "</div>"
      ],
      "text/plain": [
       "   recency state  arrears_days   total_paid  Monto Acumulado Uso de los recursos          Plazo     Sector Ingresos Ubicación  Estrato Mínimo Procesos judiciales Alertas Score Bureau Empresa Huellas de Consulta Website empresa Instagram empresa LinkedIn empresa LinkedIn empresarios  Edad empresarios Activador Número de accionistas Impacto Acceso previso a la banca  # Empleados Mujeres empresarias  Mujeres en cargos directivos\n",
       "0    270.0  PAID           3.0  147915805.0        250000000                 CR   25 a 36 meses  Servicios     Seed  Medellín               5                  No      No                  925                   8              Si                Si               Si                   Si                45  Internet                     2      No                        Si           16                  No                             2"
      ]
     },
     "execution_count": 12,
     "metadata": {},
     "output_type": "execute_result"
    }
   ],
   "source": [
    "data_transform.head(1)"
   ]
  },
  {
   "cell_type": "code",
   "execution_count": 13,
   "metadata": {},
   "outputs": [
    {
     "data": {
      "text/plain": [
       "[0.18487394957983194,\n",
       " 'PAID',\n",
       " 0.0,\n",
       " 0.0758139824074633,\n",
       " 0.07090128079784133,\n",
       " 'SP',\n",
       " '25 a 36 meses',\n",
       " 'Servicios',\n",
       " 'Seed',\n",
       " 'Bogotá D.C.',\n",
       " 0.75,\n",
       " 'No',\n",
       " 'Si',\n",
       " 0.9541751527494907,\n",
       " 0.2727272727272727,\n",
       " 'Si',\n",
       " 'No',\n",
       " 'No',\n",
       " 'Si',\n",
       " 0.34615384615384615,\n",
       " 'Internet',\n",
       " 0.014705882352941176,\n",
       " 'No',\n",
       " 'Si',\n",
       " 0.08416833667334668,\n",
       " 'No',\n",
       " 0.08]"
      ]
     },
     "execution_count": 13,
     "metadata": {},
     "output_type": "execute_result"
    }
   ],
   "source": [
    "[0.18487394957983194, 'PAID', 0.0, 0.0758139824074633, 0.07090128079784133, 'SP', '25 a 36 meses', 'Servicios', 'Seed', 'Bogotá D.C.', 0.75, 'No', 'Si', 0.9541751527494907, 0.2727272727272727, 'Si', 'No', 'No', 'Si', 0.34615384615384615, 'Internet', 0.014705882352941176, 'No', 'Si', 0.08416833667334668, 'No', 0.08]"
   ]
  },
  {
   "cell_type": "code",
   "execution_count": 14,
   "metadata": {},
   "outputs": [
    {
     "data": {
      "text/plain": [
       "Index(['recency', 'state', 'arrears_days', 'total_paid', 'Monto Acumulado', 'Uso de los recursos', 'Plazo', 'Sector', 'Ingresos', 'Ubicación', 'Estrato Mínimo', 'Procesos judiciales', 'Alertas', 'Score Bureau Empresa', 'Huellas de Consulta', 'Website empresa', 'Instagram empresa', 'LinkedIn empresa', 'LinkedIn empresarios', 'Edad empresarios', 'Activador', 'Número de accionistas', 'Impacto', 'Acceso previso a la banca', '# Empleados', 'Mujeres empresarias', 'Mujeres en cargos directivos'], dtype='object')"
      ]
     },
     "execution_count": 14,
     "metadata": {},
     "output_type": "execute_result"
    }
   ],
   "source": [
    "data_transform.columns"
   ]
  },
  {
   "cell_type": "markdown",
   "metadata": {},
   "source": [
    "##### Correlation Between Categorical and Numerical"
   ]
  },
  {
   "cell_type": "code",
   "execution_count": 15,
   "metadata": {},
   "outputs": [
    {
     "data": {
      "text/plain": [
       "recency                          int32\n",
       "state                           object\n",
       "arrears_days                     int32\n",
       "total_paid                       int32\n",
       "Monto Acumulado                  int64\n",
       "Uso de los recursos             object\n",
       "Plazo                           object\n",
       "Sector                          object\n",
       "Ingresos                        object\n",
       "Ubicación                       object\n",
       "Estrato Mínimo                   int64\n",
       "Procesos judiciales             object\n",
       "Alertas                         object\n",
       "Score Bureau Empresa            object\n",
       "Huellas de Consulta             object\n",
       "Website empresa                 object\n",
       "Instagram empresa               object\n",
       "LinkedIn empresa                object\n",
       "LinkedIn empresarios            object\n",
       "Edad empresarios                 int64\n",
       "Activador                       object\n",
       "Número de accionistas           object\n",
       "Impacto                         object\n",
       "Acceso previso a la banca       object\n",
       "# Empleados                      int64\n",
       "Mujeres empresarias             object\n",
       "Mujeres en cargos directivos     int64\n",
       "dtype: object"
      ]
     },
     "execution_count": 15,
     "metadata": {},
     "output_type": "execute_result"
    }
   ],
   "source": [
    "# Convert all the columns in float to integer for correlation plot as float is not handled\n",
    "for y in data_transform.columns:\n",
    "    if(data_transform[y].dtype == np.float64):\n",
    "        data_transform[y] = data_transform[y].astype(int)\n",
    "\n",
    "data_transform.dtypes"
   ]
  },
  {
   "cell_type": "code",
   "execution_count": 16,
   "metadata": {},
   "outputs": [],
   "source": [
    "# Columnas nominales\n",
    "columnas_OHE = ['state', 'Uso de los recursos', 'Plazo', 'Sector', 'Ingresos', 'Ubicación',\n",
    "                'Procesos judiciales', 'Alertas', \n",
    "                'Website empresa', 'Instagram empresa', 'LinkedIn empresa', 'LinkedIn empresarios', 'Activador',\n",
    "                'Impacto', 'Acceso previso a la banca', 'Mujeres empresarias']"
   ]
  },
  {
   "cell_type": "code",
   "execution_count": 17,
   "metadata": {},
   "outputs": [],
   "source": [
    "# Seleccionar todo dataframe\n",
    "Data_Correlation=data_transform.iloc[:,:]\n",
    "\n",
    "def data_associations():\n",
    "    associations(Data_Correlation,nominal_columns=columnas_OHE)"
   ]
  },
  {
   "cell_type": "code",
   "execution_count": 18,
   "metadata": {},
   "outputs": [
    {
     "data": {
      "image/png": "[encoded data removed]",
      "text/plain": [
       "<Figure size 1440x1440 with 2 Axes>"
      ]
     },
     "metadata": {},
     "output_type": "display_data"
    }
   ],
   "source": [
    "# Graficar correlación entre variables nominales y ordinales\n",
    "plt.rcParams[\"figure.figsize\"]=20,20\n",
    "data_associations()"
   ]
  },
  {
   "cell_type": "code",
   "execution_count": 19,
   "metadata": {},
   "outputs": [
    {
     "data": {
      "text/html": [
       "<div>\n",
       "<style scoped>\n",
       "    .dataframe tbody tr th:only-of-type {\n",
       "        vertical-align: middle;\n",
       "    }\n",
       "\n",
       "    .dataframe tbody tr th {\n",
       "        vertical-align: top;\n",
       "    }\n",
       "\n",
       "    .dataframe thead th {\n",
       "        text-align: right;\n",
       "    }\n",
       "</style>\n",
       "<table border=\"1\" class=\"dataframe\">\n",
       "  <thead>\n",
       "    <tr style=\"text-align: right;\">\n",
       "      <th></th>\n",
       "      <th>recency</th>\n",
       "      <th>state</th>\n",
       "      <th>arrears_days</th>\n",
       "      <th>total_paid</th>\n",
       "      <th>Monto Acumulado</th>\n",
       "      <th>Uso de los recursos</th>\n",
       "      <th>Plazo</th>\n",
       "      <th>Sector</th>\n",
       "      <th>Ingresos</th>\n",
       "      <th>Ubicación</th>\n",
       "      <th>Estrato Mínimo</th>\n",
       "      <th>Procesos judiciales</th>\n",
       "      <th>Alertas</th>\n",
       "      <th>Score Bureau Empresa</th>\n",
       "      <th>Huellas de Consulta</th>\n",
       "      <th>Website empresa</th>\n",
       "      <th>Instagram empresa</th>\n",
       "      <th>LinkedIn empresa</th>\n",
       "      <th>LinkedIn empresarios</th>\n",
       "      <th>Edad empresarios</th>\n",
       "      <th>Activador</th>\n",
       "      <th>Número de accionistas</th>\n",
       "      <th>Impacto</th>\n",
       "      <th>Acceso previso a la banca</th>\n",
       "      <th># Empleados</th>\n",
       "      <th>Mujeres empresarias</th>\n",
       "      <th>Mujeres en cargos directivos</th>\n",
       "    </tr>\n",
       "  </thead>\n",
       "  <tbody>\n",
       "    <tr>\n",
       "      <th>0</th>\n",
       "      <td>0.256303</td>\n",
       "      <td>PAID</td>\n",
       "      <td>0.016667</td>\n",
       "      <td>0.418799</td>\n",
       "      <td>0.173314</td>\n",
       "      <td>CR</td>\n",
       "      <td>25 a 36 meses</td>\n",
       "      <td>Servicios</td>\n",
       "      <td>Seed</td>\n",
       "      <td>Medellín</td>\n",
       "      <td>0.75</td>\n",
       "      <td>No</td>\n",
       "      <td>No</td>\n",
       "      <td>0.941955</td>\n",
       "      <td>0.181818</td>\n",
       "      <td>Si</td>\n",
       "      <td>Si</td>\n",
       "      <td>Si</td>\n",
       "      <td>Si</td>\n",
       "      <td>0.442308</td>\n",
       "      <td>Internet</td>\n",
       "      <td>0.014706</td>\n",
       "      <td>No</td>\n",
       "      <td>Si</td>\n",
       "      <td>0.030060</td>\n",
       "      <td>No</td>\n",
       "      <td>0.08</td>\n",
       "    </tr>\n",
       "    <tr>\n",
       "      <th>1</th>\n",
       "      <td>0.256303</td>\n",
       "      <td>PAID</td>\n",
       "      <td>0.022222</td>\n",
       "      <td>0.260066</td>\n",
       "      <td>0.173314</td>\n",
       "      <td>CR</td>\n",
       "      <td>25 a 36 meses</td>\n",
       "      <td>Servicios</td>\n",
       "      <td>Seed</td>\n",
       "      <td>Medellín</td>\n",
       "      <td>0.75</td>\n",
       "      <td>No</td>\n",
       "      <td>No</td>\n",
       "      <td>0.941955</td>\n",
       "      <td>0.181818</td>\n",
       "      <td>Si</td>\n",
       "      <td>Si</td>\n",
       "      <td>Si</td>\n",
       "      <td>Si</td>\n",
       "      <td>0.442308</td>\n",
       "      <td>Internet</td>\n",
       "      <td>0.014706</td>\n",
       "      <td>No</td>\n",
       "      <td>Si</td>\n",
       "      <td>0.030060</td>\n",
       "      <td>No</td>\n",
       "      <td>0.08</td>\n",
       "    </tr>\n",
       "    <tr>\n",
       "      <th>2</th>\n",
       "      <td>0.184874</td>\n",
       "      <td>PAID</td>\n",
       "      <td>0.011111</td>\n",
       "      <td>0.043068</td>\n",
       "      <td>0.015756</td>\n",
       "      <td>KT - EX</td>\n",
       "      <td>13 a 24 meses</td>\n",
       "      <td>Servicios</td>\n",
       "      <td>Seed</td>\n",
       "      <td>Medellín</td>\n",
       "      <td>0.25</td>\n",
       "      <td>No</td>\n",
       "      <td>No</td>\n",
       "      <td>0.940937</td>\n",
       "      <td>0.045455</td>\n",
       "      <td>Si</td>\n",
       "      <td>No</td>\n",
       "      <td>Si</td>\n",
       "      <td>No</td>\n",
       "      <td>0.192308</td>\n",
       "      <td>SocialNetworks</td>\n",
       "      <td>0.029412</td>\n",
       "      <td>No</td>\n",
       "      <td>Si</td>\n",
       "      <td>0.004008</td>\n",
       "      <td>No</td>\n",
       "      <td>0.00</td>\n",
       "    </tr>\n",
       "    <tr>\n",
       "      <th>3</th>\n",
       "      <td>0.219538</td>\n",
       "      <td>PAID</td>\n",
       "      <td>0.061111</td>\n",
       "      <td>0.024672</td>\n",
       "      <td>0.007878</td>\n",
       "      <td>SP</td>\n",
       "      <td>13 a 24 meses</td>\n",
       "      <td>Industria</td>\n",
       "      <td>Seed</td>\n",
       "      <td>Medellín</td>\n",
       "      <td>0.50</td>\n",
       "      <td>No</td>\n",
       "      <td>No</td>\n",
       "      <td>0.876782</td>\n",
       "      <td>0.022727</td>\n",
       "      <td>Si</td>\n",
       "      <td>No</td>\n",
       "      <td>Si</td>\n",
       "      <td>Si</td>\n",
       "      <td>0.423077</td>\n",
       "      <td>CreditProfessionalContact</td>\n",
       "      <td>0.014706</td>\n",
       "      <td>No</td>\n",
       "      <td>Si</td>\n",
       "      <td>0.008016</td>\n",
       "      <td>No</td>\n",
       "      <td>0.00</td>\n",
       "    </tr>\n",
       "    <tr>\n",
       "      <th>4</th>\n",
       "      <td>0.219538</td>\n",
       "      <td>PAID</td>\n",
       "      <td>0.061111</td>\n",
       "      <td>0.022941</td>\n",
       "      <td>0.007878</td>\n",
       "      <td>SP</td>\n",
       "      <td>13 a 24 meses</td>\n",
       "      <td>Industria</td>\n",
       "      <td>Seed</td>\n",
       "      <td>Medellín</td>\n",
       "      <td>0.50</td>\n",
       "      <td>No</td>\n",
       "      <td>No</td>\n",
       "      <td>0.876782</td>\n",
       "      <td>0.022727</td>\n",
       "      <td>Si</td>\n",
       "      <td>No</td>\n",
       "      <td>Si</td>\n",
       "      <td>Si</td>\n",
       "      <td>0.423077</td>\n",
       "      <td>CreditProfessionalContact</td>\n",
       "      <td>0.014706</td>\n",
       "      <td>No</td>\n",
       "      <td>Si</td>\n",
       "      <td>0.008016</td>\n",
       "      <td>No</td>\n",
       "      <td>0.00</td>\n",
       "    </tr>\n",
       "  </tbody>\n",
       "</table>\n",
       "</div>"
      ],
      "text/plain": [
       "    recency state  arrears_days  total_paid  Monto Acumulado Uso de los recursos          Plazo     Sector Ingresos Ubicación  Estrato Mínimo Procesos judiciales Alertas  Score Bureau Empresa  Huellas de Consulta Website empresa Instagram empresa LinkedIn empresa LinkedIn empresarios  Edad empresarios                  Activador  Número de accionistas Impacto Acceso previso a la banca  # Empleados Mujeres empresarias  Mujeres en cargos directivos\n",
       "0  0.256303  PAID      0.016667    0.418799         0.173314                 CR   25 a 36 meses  Servicios     Seed  Medellín            0.75                  No      No              0.941955             0.181818              Si                Si               Si                   Si          0.442308                   Internet               0.014706      No                        Si     0.030060                  No                          0.08\n",
       "1  0.256303  PAID      0.022222    0.260066         0.173314                 CR   25 a 36 meses  Servicios     Seed  Medellín            0.75                  No      No              0.941955             0.181818              Si                Si               Si                   Si          0.442308                   Internet               0.014706      No                        Si     0.030060                  No                          0.08\n",
       "2  0.184874  PAID      0.011111    0.043068         0.015756             KT - EX  13 a 24 meses  Servicios     Seed  Medellín            0.25                  No      No              0.940937             0.045455              Si                No               Si                   No          0.192308             SocialNetworks               0.029412      No                        Si     0.004008                  No                          0.00\n",
       "3  0.219538  PAID      0.061111    0.024672         0.007878                  SP  13 a 24 meses  Industria     Seed  Medellín            0.50                  No      No              0.876782             0.022727              Si                No               Si                   Si          0.423077  CreditProfessionalContact               0.014706      No                        Si     0.008016                  No                          0.00\n",
       "4  0.219538  PAID      0.061111    0.022941         0.007878                  SP  13 a 24 meses  Industria     Seed  Medellín            0.50                  No      No              0.876782             0.022727              Si                No               Si                   Si          0.423077  CreditProfessionalContact               0.014706      No                        Si     0.008016                  No                          0.00"
      ]
     },
     "execution_count": 19,
     "metadata": {},
     "output_type": "execute_result"
    }
   ],
   "source": [
    "# Standardizing all the numerical variables\n",
    "Num_features=data_transform.select_dtypes(include=[np.number]).columns\n",
    "data_transform[Num_features]=preprocessing.MinMaxScaler().fit_transform(data_transform[Num_features])\n",
    "data_transform.head()"
   ]
  },
  {
   "cell_type": "markdown",
   "metadata": {},
   "source": [
    "##### Estadística de Hopkins\n",
    "Prueba la aleatoriedad espacial de los datos e indica la tendencia de agrupación o lo bien que los datos pueden ser agrupados\n",
    "* 0,5 o menos -->  los datos están distribuidos uniformemente\n",
    "* 0.77 - 0.99 --> alta tendencia a los cluster "
   ]
  },
  {
   "cell_type": "code",
   "execution_count": 20,
   "metadata": {},
   "outputs": [],
   "source": [
    "# Hopkins Statistic is a way of measuring the cluster tendency of a data set.\n",
    "from sklearn.neighbors import NearestNeighbors\n",
    "from random import sample\n",
    "from numpy.random import uniform\n",
    "import numpy as np\n",
    "from math import isnan\n",
    "\n",
    "\n",
    "def hopkins(X):\n",
    "    d = X.shape[1]\n",
    "    # d = len(vars) # columns\n",
    "    n = len(X)  # rows\n",
    "    m = int(0.1 * n)  # heuristic from article [1]\n",
    "    nbrs = NearestNeighbors(n_neighbors=1).fit(X.values)\n",
    "\n",
    "    rand_X = sample(range(0, n, 1), m)\n",
    "\n",
    "    ujd = []\n",
    "    wjd = []\n",
    "    for j in range(0, m):\n",
    "        u_dist, _ = nbrs.kneighbors(uniform(np.amin(X, axis=0), np.amax(\n",
    "            X, axis=0), d).reshape(1, -1), 2, return_distance=True)\n",
    "        ujd.append(u_dist[0][1])\n",
    "        w_dist, _ = nbrs.kneighbors(\n",
    "            X.iloc[rand_X[j]].values.reshape(1, -1), 2, return_distance=True)\n",
    "        wjd.append(w_dist[0][1])\n",
    "\n",
    "    H = sum(ujd) / (sum(ujd) + sum(wjd))\n",
    "    if isnan(H):\n",
    "        print(ujd, wjd)\n",
    "        H = 0\n",
    "\n",
    "    return H"
   ]
  },
  {
   "cell_type": "code",
   "execution_count": 21,
   "metadata": {},
   "outputs": [
    {
     "data": {
      "text/html": [
       "<div>\n",
       "<style scoped>\n",
       "    .dataframe tbody tr th:only-of-type {\n",
       "        vertical-align: middle;\n",
       "    }\n",
       "\n",
       "    .dataframe tbody tr th {\n",
       "        vertical-align: top;\n",
       "    }\n",
       "\n",
       "    .dataframe thead th {\n",
       "        text-align: right;\n",
       "    }\n",
       "</style>\n",
       "<table border=\"1\" class=\"dataframe\">\n",
       "  <thead>\n",
       "    <tr style=\"text-align: right;\">\n",
       "      <th></th>\n",
       "      <th>recency</th>\n",
       "      <th>state</th>\n",
       "      <th>arrears_days</th>\n",
       "      <th>total_paid</th>\n",
       "      <th>Monto Acumulado</th>\n",
       "      <th>Uso de los recursos</th>\n",
       "      <th>Plazo</th>\n",
       "      <th>Sector</th>\n",
       "      <th>Ingresos</th>\n",
       "      <th>Ubicación</th>\n",
       "      <th>Estrato Mínimo</th>\n",
       "      <th>Procesos judiciales</th>\n",
       "      <th>Alertas</th>\n",
       "      <th>Score Bureau Empresa</th>\n",
       "      <th>Huellas de Consulta</th>\n",
       "      <th>Website empresa</th>\n",
       "      <th>Instagram empresa</th>\n",
       "      <th>LinkedIn empresa</th>\n",
       "      <th>LinkedIn empresarios</th>\n",
       "      <th>Edad empresarios</th>\n",
       "      <th>Activador</th>\n",
       "      <th>Número de accionistas</th>\n",
       "      <th>Impacto</th>\n",
       "      <th>Acceso previso a la banca</th>\n",
       "      <th># Empleados</th>\n",
       "      <th>Mujeres empresarias</th>\n",
       "      <th>Mujeres en cargos directivos</th>\n",
       "    </tr>\n",
       "  </thead>\n",
       "  <tbody>\n",
       "    <tr>\n",
       "      <th>479</th>\n",
       "      <td>0.190126</td>\n",
       "      <td>PAID</td>\n",
       "      <td>0.011111</td>\n",
       "      <td>0.156939</td>\n",
       "      <td>0.173314</td>\n",
       "      <td>KT - CO</td>\n",
       "      <td>Menos de 12 meses</td>\n",
       "      <td>Servicios</td>\n",
       "      <td>Scale Up</td>\n",
       "      <td>Bogotá D.C.</td>\n",
       "      <td>0.50</td>\n",
       "      <td>Si</td>\n",
       "      <td>Si</td>\n",
       "      <td>0.818737</td>\n",
       "      <td>0.363636</td>\n",
       "      <td>Si</td>\n",
       "      <td>Si</td>\n",
       "      <td>No</td>\n",
       "      <td>Si</td>\n",
       "      <td>0.673077</td>\n",
       "      <td>Email</td>\n",
       "      <td>0.000000</td>\n",
       "      <td>Si</td>\n",
       "      <td>Si</td>\n",
       "      <td>0.098196</td>\n",
       "      <td>Si</td>\n",
       "      <td>0.16</td>\n",
       "    </tr>\n",
       "    <tr>\n",
       "      <th>293</th>\n",
       "      <td>0.265756</td>\n",
       "      <td>PARTIALLY_PAID</td>\n",
       "      <td>0.000000</td>\n",
       "      <td>0.036831</td>\n",
       "      <td>0.196948</td>\n",
       "      <td>KT - EX</td>\n",
       "      <td>Menos de 12 meses</td>\n",
       "      <td>Servicios</td>\n",
       "      <td>Seed</td>\n",
       "      <td>Medellín</td>\n",
       "      <td>0.75</td>\n",
       "      <td>No</td>\n",
       "      <td>No</td>\n",
       "      <td>0.953157</td>\n",
       "      <td>0.045455</td>\n",
       "      <td>Si</td>\n",
       "      <td>Si</td>\n",
       "      <td>Si</td>\n",
       "      <td>Si</td>\n",
       "      <td>0.326923</td>\n",
       "      <td>FriendOrColleague</td>\n",
       "      <td>0.014706</td>\n",
       "      <td>No</td>\n",
       "      <td>No</td>\n",
       "      <td>0.008016</td>\n",
       "      <td>Si</td>\n",
       "      <td>0.04</td>\n",
       "    </tr>\n",
       "    <tr>\n",
       "      <th>89</th>\n",
       "      <td>0.197479</td>\n",
       "      <td>LATE</td>\n",
       "      <td>0.033333</td>\n",
       "      <td>0.045501</td>\n",
       "      <td>0.063023</td>\n",
       "      <td>KT - EX</td>\n",
       "      <td>13 a 24 meses</td>\n",
       "      <td>Servicios</td>\n",
       "      <td>Seed</td>\n",
       "      <td>Bogotá D.C.</td>\n",
       "      <td>1.00</td>\n",
       "      <td>No</td>\n",
       "      <td>No</td>\n",
       "      <td>0.927699</td>\n",
       "      <td>0.090909</td>\n",
       "      <td>Si</td>\n",
       "      <td>Si</td>\n",
       "      <td>Si</td>\n",
       "      <td>Si</td>\n",
       "      <td>0.173077</td>\n",
       "      <td>Internet</td>\n",
       "      <td>0.014706</td>\n",
       "      <td>No</td>\n",
       "      <td>Si</td>\n",
       "      <td>0.040080</td>\n",
       "      <td>No</td>\n",
       "      <td>0.24</td>\n",
       "    </tr>\n",
       "    <tr>\n",
       "      <th>310</th>\n",
       "      <td>0.199580</td>\n",
       "      <td>LATE</td>\n",
       "      <td>0.022222</td>\n",
       "      <td>0.021415</td>\n",
       "      <td>0.063023</td>\n",
       "      <td>KT - CO</td>\n",
       "      <td>13 a 24 meses</td>\n",
       "      <td>Comercio</td>\n",
       "      <td>Venture</td>\n",
       "      <td>Medellín</td>\n",
       "      <td>1.00</td>\n",
       "      <td>Si</td>\n",
       "      <td>No</td>\n",
       "      <td>0.770876</td>\n",
       "      <td>0.204545</td>\n",
       "      <td>Si</td>\n",
       "      <td>No</td>\n",
       "      <td>Si</td>\n",
       "      <td>Si</td>\n",
       "      <td>0.519231</td>\n",
       "      <td>Email</td>\n",
       "      <td>0.000000</td>\n",
       "      <td>No</td>\n",
       "      <td>Si</td>\n",
       "      <td>0.016032</td>\n",
       "      <td>No</td>\n",
       "      <td>0.04</td>\n",
       "    </tr>\n",
       "    <tr>\n",
       "      <th>362</th>\n",
       "      <td>0.195378</td>\n",
       "      <td>PAID</td>\n",
       "      <td>0.016667</td>\n",
       "      <td>0.025950</td>\n",
       "      <td>0.181192</td>\n",
       "      <td>KT - EX</td>\n",
       "      <td>13 a 24 meses</td>\n",
       "      <td>Comercio</td>\n",
       "      <td>Seed</td>\n",
       "      <td>Bogotá D.C.</td>\n",
       "      <td>0.75</td>\n",
       "      <td>No</td>\n",
       "      <td>No</td>\n",
       "      <td>0.917515</td>\n",
       "      <td>0.045455</td>\n",
       "      <td>Si</td>\n",
       "      <td>Si</td>\n",
       "      <td>Si</td>\n",
       "      <td>Si</td>\n",
       "      <td>0.269231</td>\n",
       "      <td>FriendOrColleague</td>\n",
       "      <td>0.014706</td>\n",
       "      <td>No</td>\n",
       "      <td>Si</td>\n",
       "      <td>0.010020</td>\n",
       "      <td>No</td>\n",
       "      <td>0.00</td>\n",
       "    </tr>\n",
       "  </tbody>\n",
       "</table>\n",
       "</div>"
      ],
      "text/plain": [
       "      recency           state  arrears_days  total_paid  Monto Acumulado Uso de los recursos              Plazo     Sector  Ingresos    Ubicación  Estrato Mínimo Procesos judiciales Alertas  Score Bureau Empresa  Huellas de Consulta Website empresa Instagram empresa LinkedIn empresa LinkedIn empresarios  Edad empresarios          Activador  Número de accionistas Impacto Acceso previso a la banca  # Empleados Mujeres empresarias  Mujeres en cargos directivos\n",
       "479  0.190126            PAID      0.011111    0.156939         0.173314             KT - CO  Menos de 12 meses  Servicios  Scale Up  Bogotá D.C.            0.50                  Si      Si              0.818737             0.363636              Si                Si               No                   Si          0.673077              Email               0.000000      Si                        Si     0.098196                  Si                          0.16\n",
       "293  0.265756  PARTIALLY_PAID      0.000000    0.036831         0.196948             KT - EX  Menos de 12 meses  Servicios      Seed     Medellín            0.75                  No      No              0.953157             0.045455              Si                Si               Si                   Si          0.326923  FriendOrColleague               0.014706      No                        No     0.008016                  Si                          0.04\n",
       "89   0.197479            LATE      0.033333    0.045501         0.063023             KT - EX      13 a 24 meses  Servicios      Seed  Bogotá D.C.            1.00                  No      No              0.927699             0.090909              Si                Si               Si                   Si          0.173077           Internet               0.014706      No                        Si     0.040080                  No                          0.24\n",
       "310  0.199580            LATE      0.022222    0.021415         0.063023             KT - CO      13 a 24 meses   Comercio   Venture     Medellín            1.00                  Si      No              0.770876             0.204545              Si                No               Si                   Si          0.519231              Email               0.000000      No                        Si     0.016032                  No                          0.04\n",
       "362  0.195378            PAID      0.016667    0.025950         0.181192             KT - EX      13 a 24 meses   Comercio      Seed  Bogotá D.C.            0.75                  No      No              0.917515             0.045455              Si                Si               Si                   Si          0.269231  FriendOrColleague               0.014706      No                        Si     0.010020                  No                          0.00"
      ]
     },
     "execution_count": 21,
     "metadata": {},
     "output_type": "execute_result"
    }
   ],
   "source": [
    "#Use a random sample of Data for faster computation\n",
    "data_transform = data_transform.sample(200,random_state=41)\n",
    "data_transform.head()"
   ]
  },
  {
   "cell_type": "code",
   "execution_count": 22,
   "metadata": {},
   "outputs": [],
   "source": [
    "#Resetting the indexs\n",
    "data_transform=data_transform.reset_index(drop=True)"
   ]
  },
  {
   "cell_type": "code",
   "execution_count": null,
   "metadata": {},
   "outputs": [],
   "source": []
  },
  {
   "cell_type": "code",
   "execution_count": null,
   "metadata": {},
   "outputs": [],
   "source": []
  },
  {
   "cell_type": "code",
   "execution_count": 23,
   "metadata": {},
   "outputs": [
    {
     "data": {
      "text/plain": [
       "0.8519827760258218"
      ]
     },
     "execution_count": 23,
     "metadata": {},
     "output_type": "execute_result"
    }
   ],
   "source": [
    "# Comprobar estadisticamente si la data si se puede clusterizar\n",
    "Num_features =data_transform.select_dtypes(include=[np.number]).columns\n",
    "hopkins(data_transform[Num_features])"
   ]
  },
  {
   "cell_type": "code",
   "execution_count": null,
   "metadata": {},
   "outputs": [],
   "source": [
    "#Rename the levels within in the CancellationCode column\n",
    "data_transform['CancellationCode']=Data['CancellationCode'].replace(['N','A','B','C'],[0,1,2,3])\n",
    "Data['CancellationCode']=Data['CancellationCode'].astype(object)\n",
    "Data['Cancelled']=Data['Cancelled'].replace([\"Cancelled\",\"Not Cancelled\"],[1,0])\n",
    "Data['Cancelled']=Data['Cancelled'].astype(object)\n",
    "Data.columns"
   ]
  },
  {
   "cell_type": "code",
   "execution_count": null,
   "metadata": {},
   "outputs": [],
   "source": [
    "# OneHotEncoding para variables categoricas\n",
    "column_trans = make_column_transformer(\n",
    "    (OneHotEncoder(), columnas_OHE),\n",
    "    remainder='passthrough')\n",
    "\n",
    "#normalizada = column_trans.fit_transform(data_transform)"
   ]
  },
  {
   "cell_type": "code",
   "execution_count": null,
   "metadata": {},
   "outputs": [],
   "source": [
    "#Preprocessing numerical\n",
    "numerical = data_transform.select_dtypes(exclude='object')\n",
    "\n",
    "for c in numerical.columns:\n",
    "    pt = PowerTransformer()\n",
    "    numerical.loc[:, c] = pt.fit_transform(np.array(numerical[c]).reshape(-1, 1))\n",
    "    \n",
    "##preprocessing categorical\n",
    "categorical = data_transform.select_dtypes(include='object')\n",
    "#print(categorical)\n",
    "#label_encoder = preprocessing.LabelEncoder()\n",
    "le = preprocessing.LabelEncoder()\n",
    "categorical= categorical[columnas_OHE].apply(le.fit_transform)\n",
    "#categorical = label_encoder.fit(categorical)\n",
    "\n",
    "#categorical = column_trans.fit_transform(categorical)\n",
    "\n",
    "#categorical = pd.get_dummies(categorical)\n",
    "\n",
    "#Percentage of columns which are categorical is used as weight parameter in embeddings later\n",
    "categorical_weight = len(data_transform.select_dtypes(include='object').columns) / data_transform.shape[1]\n",
    "\n",
    "#Embedding numerical & categorical\n",
    "fit1 = umap.UMAP(metric='l2').fit(numerical)\n",
    "fit2 = umap.UMAP(metric='dice').fit(categorical)"
   ]
  },
  {
   "cell_type": "code",
   "execution_count": null,
   "metadata": {},
   "outputs": [],
   "source": [
    "categorical_weight"
   ]
  },
  {
   "cell_type": "code",
   "execution_count": null,
   "metadata": {},
   "outputs": [],
   "source": [
    "categorical_weight"
   ]
  },
  {
   "cell_type": "code",
   "execution_count": null,
   "metadata": {},
   "outputs": [],
   "source": [
    "categorical_weight"
   ]
  },
  {
   "cell_type": "markdown",
   "metadata": {},
   "source": [
    "### get_dummies"
   ]
  },
  {
   "cell_type": "code",
   "execution_count": null,
   "metadata": {},
   "outputs": [],
   "source": [
    "#Augmenting the numerical embedding with categorical\n",
    "intersection = umap.umap_.general_simplicial_set_intersection(fit1.graph_, fit2.graph_, weight=categorical_weight)\n",
    "intersection = umap.umap_.reset_local_connectivity(intersection)\n",
    "embedding = umap.umap_.simplicial_set_embedding(fit1._raw_data, intersection, fit1.n_components, \n",
    "                                                fit1._initial_alpha, fit1._a, fit1._b, \n",
    "                                                fit1.repulsion_strength, fit1.negative_sample_rate, \n",
    "                                                200, 'random', np.random, fit1.metric, \n",
    "                                                fit1._metric_kwds, False)\n",
    "\n",
    "plt.figure(figsize=(20, 10))\n",
    "plt.scatter(*embedding.T, s=2, cmap='Spectral', alpha=1.0)\n",
    "plt.show()"
   ]
  },
  {
   "cell_type": "code",
   "execution_count": null,
   "metadata": {},
   "outputs": [],
   "source": []
  },
  {
   "cell_type": "markdown",
   "metadata": {},
   "source": [
    "### OneHotEncoding"
   ]
  },
  {
   "cell_type": "code",
   "execution_count": null,
   "metadata": {},
   "outputs": [],
   "source": [
    "#Augmenting the numerical embedding with categorical\n",
    "intersection = umap.umap_.general_simplicial_set_intersection(fit1.graph_, fit2.graph_, weight=categorical_weight)\n",
    "intersection = umap.umap_.reset_local_connectivity(intersection)\n",
    "embedding = umap.umap_.simplicial_set_embedding(fit1._raw_data, intersection, fit1.n_components, \n",
    "                                                fit1._initial_alpha, fit1._a, fit1._b, \n",
    "                                                fit1.repulsion_strength, fit1.negative_sample_rate, \n",
    "                                                200, 'random', np.random, fit1.metric, \n",
    "                                                fit1._metric_kwds, False)\n",
    "\n",
    "plt.figure(figsize=(20, 10))\n",
    "plt.scatter(*embedding.T, s=2, cmap='Spectral', alpha=1.0)\n",
    "plt.show()"
   ]
  },
  {
   "cell_type": "markdown",
   "metadata": {},
   "source": [
    "#### LabelEnconder"
   ]
  },
  {
   "cell_type": "code",
   "execution_count": null,
   "metadata": {},
   "outputs": [],
   "source": [
    "#Augmenting the numerical embedding with categorical\n",
    "intersection = umap.umap_.general_simplicial_set_intersection(fit1.graph_, fit2.graph_, weight=categorical_weight)\n",
    "intersection = umap.umap_.reset_local_connectivity(intersection)\n",
    "embedding = umap.umap_.simplicial_set_embedding(fit1._raw_data, intersection, fit1.n_components, \n",
    "                                                fit1._initial_alpha, fit1._a, fit1._b, \n",
    "                                                fit1.repulsion_strength, fit1.negative_sample_rate, \n",
    "                                                200, 'random', np.random, fit1.metric, \n",
    "                                                fit1._metric_kwds, False)\n",
    "\n",
    "plt.figure(figsize=(20, 10))\n",
    "plt.scatter(*embedding.T, s=2, cmap='Spectral', alpha=1.0)\n",
    "plt.show()"
   ]
  },
  {
   "cell_type": "markdown",
   "metadata": {},
   "source": [
    "### Elbow method"
   ]
  },
  {
   "cell_type": "code",
   "execution_count": null,
   "metadata": {},
   "outputs": [],
   "source": [
    "data = pd.get_dummies(data_transform)"
   ]
  },
  {
   "cell_type": "code",
   "execution_count": null,
   "metadata": {},
   "outputs": [],
   "source": [
    "scores = []\n",
    "# Set index\n",
    "#normalizada.set_index(['client_id', 'loan_id'], inplace=True)\n",
    "# Los valores nulos se reemplazan por el promedio de los valores\n",
    "#normalizada.fillna(normalizada.mean(), inplace=True)\n",
    "\n",
    "for k in range(1,11):\n",
    "    km = KMeans(n_clusters=k,random_state=1)\n",
    "    km = km.fit(data)\n",
    "    scores.append(km.inertia_)\n",
    "\n",
    "dfk = pd.DataFrame({'Cluster':range(1,11), 'Score':scores})\n",
    "plt.figure(figsize=(8,5))\n",
    "plt.plot(dfk['Cluster'], dfk['Score'], marker='o')\n",
    "plt.xlabel('Number of clusters')\n",
    "plt.ylabel('Inertia')\n",
    "plt.show()"
   ]
  },
  {
   "cell_type": "code",
   "execution_count": null,
   "metadata": {},
   "outputs": [],
   "source": []
  },
  {
   "cell_type": "code",
   "execution_count": null,
   "metadata": {},
   "outputs": [],
   "source": [
    "data = pd.get_dummies(data_transform)\n",
    "for c in data.columns:\n",
    "    pt = PowerTransformer()\n",
    "    data.loc[:, c] = pt.fit_transform(np.array(data[c]).reshape(-1, 1))"
   ]
  },
  {
   "cell_type": "code",
   "execution_count": null,
   "metadata": {},
   "outputs": [],
   "source": []
  },
  {
   "cell_type": "code",
   "execution_count": null,
   "metadata": {},
   "outputs": [],
   "source": [
    "#Elbow method to choose the optimal number of clusters\n",
    "sse = {}\n",
    "for k in tqdm(range(2, 50)):\n",
    "    kmeans = KMeans(n_clusters=k, max_iter=1000).fit(data)\n",
    "    sse[k] = kmeans.inertia_ # Inertia: Sum of distances of samples to their closest cluster center\n",
    "    \n",
    "fig = go.Figure(data=go.Scatter(x=list(sse.keys()), y=list(sse.values())))\n",
    "fig.show()"
   ]
  },
  {
   "cell_type": "markdown",
   "metadata": {},
   "source": [
    "### K-prototypes"
   ]
  },
  {
   "cell_type": "code",
   "execution_count": null,
   "metadata": {},
   "outputs": [],
   "source": [
    "kprot_data = data_transform.copy()\n",
    "for c in data_transform.select_dtypes(exclude='object').columns:\n",
    "    pt = PowerTransformer()\n",
    "    kprot_data[c] =  pt.fit_transform(np.array(kprot_data[c]).reshape(-1, 1))"
   ]
  },
  {
   "cell_type": "code",
   "execution_count": null,
   "metadata": {},
   "outputs": [],
   "source": [
    "kprot_data_array = kprot_data.values"
   ]
  },
  {
   "cell_type": "code",
   "execution_count": null,
   "metadata": {},
   "outputs": [],
   "source": [
    "categorical_columns = [1, 5, 6, 7, 8, 9, 11, 12, 13, 14, 15, 16,\n",
    "                      17, 18, 20, 21, 22, 23, 25] #make sure to specify correct indices"
   ]
  },
  {
   "cell_type": "code",
   "execution_count": null,
   "metadata": {},
   "outputs": [],
   "source": [
    "kproto = KPrototypes(n_clusters= 3, init='Huang', n_jobs = 2, verbose=2, max_iter=20, random_state=42,gamma=0.15)\n",
    "clusters = kproto.fit_predict(kprot_data_array, categorical=categorical_columns)"
   ]
  },
  {
   "cell_type": "code",
   "execution_count": null,
   "metadata": {},
   "outputs": [],
   "source": [
    "pd.Series(clusters).value_counts()"
   ]
  },
  {
   "cell_type": "markdown",
   "metadata": {},
   "source": [
    "#### Elbow plot with cost"
   ]
  },
  {
   "cell_type": "code",
   "execution_count": null,
   "metadata": {
    "scrolled": true
   },
   "outputs": [],
   "source": [
    "costs = []\n",
    "n_clusters = []\n",
    "clusters_assigned = []\n",
    "\n",
    "for i in tqdm(range(2, 30)):\n",
    "    try:\n",
    "        kproto = KPrototypes(n_clusters= i, init='Cao', verbose=2)\n",
    "        clusters = kproto.fit_predict(kprot_data, categorical=categorical_columns)\n",
    "        costs.append(kproto.cost_)\n",
    "        n_clusters.append(i)\n",
    "        clusters_assigned.append(clusters)\n",
    "    except:\n",
    "        print(f\"Can't cluster with {i} clusters\")\n",
    "        \n",
    "fig = go.Figure(data=go.Scatter(x=n_clusters, y=costs ))\n",
    "fig.show()"
   ]
  },
  {
   "cell_type": "markdown",
   "metadata": {},
   "source": [
    "### Visualización"
   ]
  },
  {
   "cell_type": "code",
   "execution_count": null,
   "metadata": {},
   "outputs": [],
   "source": [
    "fig, ax = plt.subplots()\n",
    "fig.set_size_inches((20, 10))\n",
    "scatter = ax.scatter(embedding[:, 0], embedding[:, 1], s=2, c=clusters, cmap='tab20b', alpha=1.0)\n",
    "\n",
    "# produce a legend with the unique colors from the scatter\n",
    "legend1 = ax.legend(*scatter.legend_elements(num=3),\n",
    "                    loc=\"lower left\", title=\"Classes\")\n",
    "ax.add_artist(legend1)"
   ]
  },
  {
   "cell_type": "code",
   "execution_count": null,
   "metadata": {},
   "outputs": [],
   "source": [
    "#Imprimir centroides\n",
    "print(kproto.cluster_centroids_)"
   ]
  },
  {
   "cell_type": "code",
   "execution_count": null,
   "metadata": {},
   "outputs": [],
   "source": [
    "#\n",
    "cluster_dict = []\n",
    "for c in clusters:\n",
    "    cluster_dict.append(c)\n",
    "cluster_dict"
   ]
  },
  {
   "cell_type": "code",
   "execution_count": null,
   "metadata": {},
   "outputs": [],
   "source": [
    "data_transform['cluster'] = cluster_dict"
   ]
  },
  {
   "cell_type": "code",
   "execution_count": null,
   "metadata": {},
   "outputs": [],
   "source": [
    "data_transform.head(3)"
   ]
  },
  {
   "cell_type": "code",
   "execution_count": null,
   "metadata": {},
   "outputs": [],
   "source": [
    "sns.countplot(x='cluster', data=data_transform)"
   ]
  },
  {
   "cell_type": "code",
   "execution_count": null,
   "metadata": {},
   "outputs": [],
   "source": []
  },
  {
   "cell_type": "markdown",
   "metadata": {},
   "source": [
    "#### Evaluación de clasificación"
   ]
  },
  {
   "cell_type": "code",
   "execution_count": null,
   "metadata": {},
   "outputs": [],
   "source": [
    "clf_kp = LGBMClassifier(colsample_by_tree=0.8)\n",
    "cv_scores_kp = cross_val_score(clf_kp, lgbm_data, proto_clusters, scoring='f1_weighted')\n",
    "print(f'CV F1 score for K-Prototypes clusters is {np.mean(cv_scores_kp)}')"
   ]
  },
  {
   "cell_type": "code",
   "execution_count": null,
   "metadata": {},
   "outputs": [],
   "source": [
    "clf_kp.fit(lgbm_data, proto_clusters)"
   ]
  },
  {
   "cell_type": "code",
   "execution_count": null,
   "metadata": {},
   "outputs": [],
   "source": [
    "explainer_kp = shap.TreeExplainer(clf_kp)\n",
    "shap_values_kp = explainer_kp.shap_values(lgbm_data)"
   ]
  },
  {
   "cell_type": "code",
   "execution_count": null,
   "metadata": {},
   "outputs": [],
   "source": []
  },
  {
   "cell_type": "code",
   "execution_count": null,
   "metadata": {},
   "outputs": [],
   "source": []
  },
  {
   "cell_type": "code",
   "execution_count": null,
   "metadata": {},
   "outputs": [],
   "source": [
    "data_transform.columns"
   ]
  },
  {
   "cell_type": "code",
   "execution_count": null,
   "metadata": {},
   "outputs": [],
   "source": []
  },
  {
   "cell_type": "code",
   "execution_count": null,
   "metadata": {},
   "outputs": [],
   "source": []
  },
  {
   "cell_type": "code",
   "execution_count": null,
   "metadata": {},
   "outputs": [],
   "source": [
    "kprot_data.info()"
   ]
  },
  {
   "cell_type": "code",
   "execution_count": null,
   "metadata": {},
   "outputs": [],
   "source": [
    " i = 0\n",
    "for k in kprot_data.columns:\n",
    "    print(f'{i}: {k}')\n",
    "    i += 1"
   ]
  },
  {
   "cell_type": "code",
   "execution_count": null,
   "metadata": {},
   "outputs": [],
   "source": []
  },
  {
   "cell_type": "code",
   "execution_count": null,
   "metadata": {},
   "outputs": [],
   "source": [
    "# Aggregate data on a customer level\n",
    "data = data.groupby(['client_id', 'loan_id']).agg({\n",
    "    'paid_date': lambda x: (datetime.today() - x.max()).days, #Diferenciar entre la fecha actual (hoy) y\n",
    "    #la fecha de factura más reciente basado en el número de dias de la ultima transacción\n",
    "    'state': lambda x: x.iloc[-1], # Devuelve el último state\n",
    "    'arrears_days':'mean',\n",
    "    'total_paid': 'sum'}).round(0) # Se suman todas las facturas\n",
    "\n",
    "# Rename columns for easier interpretation\n",
    "data.rename(columns = {'paid_date': 'recency'}, inplace=True)\n",
    "# Reset index\n",
    "data.reset_index(inplace=True)\n",
    "data.head()"
   ]
  },
  {
   "cell_type": "code",
   "execution_count": null,
   "metadata": {},
   "outputs": [],
   "source": []
  },
  {
   "cell_type": "code",
   "execution_count": null,
   "metadata": {},
   "outputs": [],
   "source": [
    "# Aggregate data on a customer level\n",
    "#datamart = data.groupby(['client_id', 'loan_id']).agg({\n",
    "#    'paid_date': lambda x: (datetime.today() - x.max()).days, #Diferenciar entre la fecha actual (hoy) y\n",
    "    #la fecha de factura más reciente basado en el número de dias de la ultima transacción\n",
    " #   'state': lambda x: x.iloc[-1], # Devuelve el último state\n",
    "  #  'arrears_days':'mean',\n",
    "   # 'total_paid': 'sum'}).round(0) # Se suman todas las facturas\n",
    "\n",
    "# Rename columns for easier interpretation\n",
    "#datamart.rename(columns = {'paid_date': 'recency'}, inplace=True)\n",
    "# Reset index\n",
    "#datamart.reset_index(inplace=True)"
   ]
  },
  {
   "cell_type": "markdown",
   "metadata": {},
   "source": [
    "#### NOTA: La frecuencia no será tenida en cuenta para este proyecto porque todos los datos se filtró por los últimos 6 meses. Por lo tanto, la frecuencia es la misma para todos los clientes."
   ]
  },
  {
   "cell_type": "code",
   "execution_count": null,
   "metadata": {},
   "outputs": [],
   "source": [
    "datamart = data.drop('state', axis=1)"
   ]
  },
  {
   "cell_type": "code",
   "execution_count": null,
   "metadata": {},
   "outputs": [],
   "source": [
    "datamart.head(8)"
   ]
  },
  {
   "cell_type": "code",
   "execution_count": null,
   "metadata": {},
   "outputs": [],
   "source": [
    "datamart['recency'].isnull().sum()"
   ]
  },
  {
   "cell_type": "code",
   "execution_count": null,
   "metadata": {},
   "outputs": [],
   "source": [
    "datamart['recency']"
   ]
  },
  {
   "cell_type": "code",
   "execution_count": null,
   "metadata": {},
   "outputs": [],
   "source": [
    "sns.catplot(x='total_paid', data=datamart, kind='box')\n",
    "plt.show()"
   ]
  },
  {
   "cell_type": "code",
   "execution_count": null,
   "metadata": {},
   "outputs": [],
   "source": [
    "plt.figure(figsize=(15,5))\n",
    "sns.distplot(datamart.total_paid,kde=True,bins=50)\n",
    "plt.show()"
   ]
  },
  {
   "cell_type": "code",
   "execution_count": null,
   "metadata": {},
   "outputs": [],
   "source": []
  },
  {
   "cell_type": "code",
   "execution_count": null,
   "metadata": {},
   "outputs": [],
   "source": [
    "datamart.arrears_days.describe()"
   ]
  },
  {
   "cell_type": "code",
   "execution_count": null,
   "metadata": {},
   "outputs": [],
   "source": [
    "sns.catplot(x='arrears_days', data=datamart, kind='box')\n",
    "plt.show()"
   ]
  },
  {
   "cell_type": "code",
   "execution_count": null,
   "metadata": {},
   "outputs": [],
   "source": [
    "plt.figure(figsize=(15,5))\n",
    "sns.distplot(datamart.arrears_days,kde=True,bins=50)\n",
    "plt.show()"
   ]
  },
  {
   "cell_type": "markdown",
   "metadata": {},
   "source": [
    "### Construyendo segmento RFM\n",
    "\n",
    "+ Para la antiguedad(recency) se le asigna el mayor percentil al cliente que ha usado recientemente los servicios. Menor valor al que lleva tiempo sin usarlos.\n",
    "+ Para el caso de la frecuencia(medida por los dias de retraso) y el valor monetario. Entre mayor sea el valor estas variables asi mismo se le asignara los percentiles"
   ]
  },
  {
   "cell_type": "code",
   "execution_count": null,
   "metadata": {},
   "outputs": [],
   "source": [
    "datamart.describe()"
   ]
  },
  {
   "cell_type": "code",
   "execution_count": null,
   "metadata": {},
   "outputs": [],
   "source": [
    "# Create numbered labels\n",
    "r_labels = range(4,0,-1)\n",
    "\n",
    "#Crear nuevo dataframe con los percentiles\n",
    "recency_quartiles = pd.qcut(datamart['recency'], q=4, labels=r_labels)\n",
    "datamart = datamart.assign(R = recency_quartiles.values)\n",
    "datamart['R'].fillna(4, inplace=True)\n",
    "datamart"
   ]
  },
  {
   "cell_type": "markdown",
   "metadata": {},
   "source": [
    "##### Total pagado"
   ]
  },
  {
   "cell_type": "code",
   "execution_count": null,
   "metadata": {},
   "outputs": [],
   "source": [
    "#f_quartiles = pd.qcut(datamart.arrears_days, q=4, labels=range(1,5))\n",
    "t_quartiles = pd.qcut(datamart.total_paid, q=4, labels=range(1,5), precision=0)\n",
    "\n",
    "# Agregar una nueva columna y asignar los valores\n",
    "datamart = datamart.assign(T = t_quartiles.values)\n",
    "datamart"
   ]
  },
  {
   "cell_type": "markdown",
   "metadata": {},
   "source": [
    "##### Construcción de segmento RFM y RFM score\n",
    "+ Concatenar los valores de los cuartiles\n",
    "+ Sumar los valores de los cuartiles"
   ]
  },
  {
   "cell_type": "code",
   "execution_count": null,
   "metadata": {},
   "outputs": [],
   "source": [
    "def join_rm(x): return str(x['R']) + str(x['T'])\n",
    "\n",
    "datamart['RFM_Segment'] = datamart.apply(join_rm, axis=1)\n",
    "datamart['RFM_Score'] = datamart[['R','T']].sum(axis=1)"
   ]
  },
  {
   "cell_type": "code",
   "execution_count": null,
   "metadata": {},
   "outputs": [],
   "source": [
    "datamart"
   ]
  },
  {
   "cell_type": "code",
   "execution_count": null,
   "metadata": {},
   "outputs": [],
   "source": [
    "datamart['RFM_Score'].value_counts()"
   ]
  },
  {
   "cell_type": "markdown",
   "metadata": {},
   "source": [
    "### Clusterización preeliminar aplicando percentiles de metricas RFM"
   ]
  },
  {
   "cell_type": "code",
   "execution_count": null,
   "metadata": {},
   "outputs": [],
   "source": [
    "def segment_me(df):\n",
    "    if df['RFM_Score'] >= 7:\n",
    "        return 'Gold'\n",
    "    elif (df['RFM_Score'] >= 5) and (df['RFM_Score'] < 6):\n",
    "        return 'Silver'\n",
    "    else:\n",
    "        return 'Bronze'\n",
    "\n",
    "datamart['General_Segment'] = datamart.apply(segment_me, axis=1)\n",
    "datamart.groupby('General_Segment').agg({\n",
    "    'recency': 'mean',\n",
    "    'total_paid': ['mean', 'count']}).round(1)"
   ]
  },
  {
   "cell_type": "markdown",
   "metadata": {},
   "source": [
    "#### Centrando varibles con diferentes 'means'"
   ]
  },
  {
   "cell_type": "code",
   "execution_count": null,
   "metadata": {},
   "outputs": [],
   "source": [
    "# Copiar dataframe\n",
    "datamart_rt = datamart"
   ]
  },
  {
   "cell_type": "code",
   "execution_count": null,
   "metadata": {},
   "outputs": [],
   "source": [
    "# Dejar solo las columnas que se necesitan\n",
    "datamart_rt.drop(['R', 'T', 'RFM_Segment', 'General_Segment'], axis=1, inplace=True)"
   ]
  },
  {
   "cell_type": "code",
   "execution_count": null,
   "metadata": {},
   "outputs": [],
   "source": [
    "datamart_rt.head()"
   ]
  },
  {
   "cell_type": "code",
   "execution_count": null,
   "metadata": {},
   "outputs": [],
   "source": [
    "datamart_centered = datamart_rt - datamart_rt.mean()\n",
    "datamart_centered.describe().round(2)"
   ]
  },
  {
   "cell_type": "code",
   "execution_count": null,
   "metadata": {},
   "outputs": [],
   "source": [
    "datamart"
   ]
  },
  {
   "cell_type": "code",
   "execution_count": null,
   "metadata": {},
   "outputs": [],
   "source": [
    "#Reemplazar missing values por el promedio\n",
    "datamart.fillna(datamart.mean(), inplace=True)"
   ]
  },
  {
   "cell_type": "code",
   "execution_count": null,
   "metadata": {},
   "outputs": [],
   "source": [
    "analysis = datamart.drop(['client_id', 'loan_id'], axis=1)\n",
    "analysis.head()"
   ]
  },
  {
   "cell_type": "code",
   "execution_count": null,
   "metadata": {},
   "outputs": [],
   "source": [
    "corr_p = analysis.corr(method='pearson')\n",
    "corr_p"
   ]
  },
  {
   "cell_type": "code",
   "execution_count": null,
   "metadata": {},
   "outputs": [],
   "source": [
    "mask=np.zeros_like(corr_p,dtype=np.bool)\n",
    "mask[np.triu_indices_from(mask)]=True\n",
    "\n",
    "with sns.axes_style(\"white\"):\n",
    "    a=sns.heatmap(corr_p,mask=mask,vmax=0.7,square=True)"
   ]
  },
  {
   "cell_type": "code",
   "execution_count": null,
   "metadata": {},
   "outputs": [],
   "source": []
  },
  {
   "cell_type": "code",
   "execution_count": null,
   "metadata": {},
   "outputs": [],
   "source": [
    "corr_s = analysis.corr(method='spearman')\n",
    "corr_s"
   ]
  },
  {
   "cell_type": "code",
   "execution_count": null,
   "metadata": {},
   "outputs": [],
   "source": [
    "mask=np.zeros_like(corr_s,dtype=np.bool)\n",
    "mask[np.triu_indices_from(mask)]=True\n",
    "\n",
    "with sns.axes_style(\"white\"):\n",
    "    a=sns.heatmap(corr_s,mask=mask,vmax=0.7,square=True)"
   ]
  },
  {
   "cell_type": "code",
   "execution_count": null,
   "metadata": {},
   "outputs": [],
   "source": [
    "# Revisar los features mas importantes del conjunto de datos\n",
    "from sklearn.ensemble import ExtraTreesClassifier\n",
    "from sklearn.feature_selection import SelectFromModel\n",
    "from sklearn import preprocessing\n",
    "from sklearn import utils\n",
    "\n",
    "X = analysis.drop('recency',axis=1)\n",
    "Y = analysis['recency']\n",
    "\n",
    "# Transformación variable Y\n",
    "lab_enc = preprocessing.LabelEncoder()\n",
    "training_scores_encoded = lab_enc.fit_transform(Y)\n",
    "#print(training_scores_encoded)\n",
    "\n",
    "#print(utils.multiclass.type_of_target(Y))\n",
    "#print(utils.multiclass.type_of_target(Y.astype('int')))\n",
    "#print(utils.multiclass.type_of_target(training_scores_encoded))\n",
    "\n",
    "clf = ExtraTreesClassifier()\n",
    "clf = clf.fit(X, training_scores_encoded)\n",
    "clf.feature_importances_"
   ]
  },
  {
   "cell_type": "code",
   "execution_count": null,
   "metadata": {},
   "outputs": [],
   "source": [
    "# Implementación de features\n",
    "new_data = analysis.copy()\n",
    "new_data.drop('recency', axis=1)\n",
    "\n",
    "# TODO: Split the data into training and testing sets using the given feature as the target\n",
    "\n",
    "from sklearn.model_selection import train_test_split \n",
    "X_train, X_test, y_train, y_test = train_test_split(new_data, analysis['recency'], test_size = 0.2, random_state=1)\n",
    "\n",
    "# TODO: Create a decision tree regressor and fit it to the training set\n",
    "from sklearn import tree\n",
    "regressor = tree.DecisionTreeRegressor(random_state=1)\n",
    "regressor.fit(X_train, y_train)\n",
    "\n",
    "# TODO: Report the score of the prediction using the testing set\n",
    "from sklearn.metrics import accuracy_score\n",
    "y_pred = regressor.predict(X_test)\n",
    "#score = accuracy_score(y_test, y_pred)\n",
    "#print (\"The accuracy score is {}.\".format(score))"
   ]
  },
  {
   "cell_type": "code",
   "execution_count": null,
   "metadata": {},
   "outputs": [],
   "source": [
    "score = regressor.score(X_test, y_test)\n",
    "print (\"The accuracy score is {}.\".format(score))"
   ]
  },
  {
   "cell_type": "code",
   "execution_count": null,
   "metadata": {},
   "outputs": [],
   "source": [
    "#datamart_rt.set_index('client_id', inplace=True)"
   ]
  },
  {
   "cell_type": "code",
   "execution_count": null,
   "metadata": {},
   "outputs": [],
   "source": [
    "#datamart_rt"
   ]
  },
  {
   "cell_type": "markdown",
   "metadata": {},
   "source": [
    "Como se puede observar las desviaciones estandar no se encuentran en un mismo rango. Por lo que se hace necesario re escalar los datos. Se utilizará StandardScaler"
   ]
  },
  {
   "cell_type": "markdown",
   "metadata": {},
   "source": [
    "### Rescalamiento de los datos "
   ]
  },
  {
   "cell_type": "code",
   "execution_count": null,
   "metadata": {},
   "outputs": [],
   "source": [
    "def reescalamiento(df):\n",
    "    \"\"\"Esta función reescala los datos financieros\"\"\"\n",
    "    # Set index\n",
    "    df.set_index(['client_id', 'loan_id'], inplace=True)\n",
    "    # Los valores nulos se reemplazan por el promedio de los valores\n",
    "    df.fillna(df.mean(), inplace=True)\n",
    "\n",
    "    # Reescalar los datos\n",
    "    scaler = StandardScaler()\n",
    "    #scaler.fit(df)\n",
    "    datamart_scaler = scaler.fit_transform(df)\n",
    "    \n",
    "    datamart_normalized = normalize(datamart_scaler)\n",
    "\n",
    "    # Create a pandas DataFrame\n",
    "    data_normalized_pandas = pd.DataFrame(\n",
    "        datamart_normalized, index=df.index, columns=df.columns)\n",
    "\n",
    "    data_normalized_pandas.reset_index(['client_id', 'loan_id'], inplace=True)\n",
    "\n",
    "    return data_normalized_pandas"
   ]
  },
  {
   "cell_type": "code",
   "execution_count": null,
   "metadata": {},
   "outputs": [],
   "source": [
    "normalizada_fin = reescalamiento(datamart_rt)"
   ]
  },
  {
   "cell_type": "code",
   "execution_count": null,
   "metadata": {},
   "outputs": [],
   "source": [
    "normalizada_fin.head()"
   ]
  },
  {
   "cell_type": "code",
   "execution_count": null,
   "metadata": {},
   "outputs": [],
   "source": [
    "normalizada_fin.isnull().sum()"
   ]
  },
  {
   "cell_type": "code",
   "execution_count": null,
   "metadata": {},
   "outputs": [],
   "source": [
    "plt.figure(figsize=(20, 20)) # medidas del grafico \n",
    "\n",
    "\n",
    "plt.subplot(5,1,1)\n",
    "plt.tight_layout()\n",
    "plt.title(\"Data normalizada\")\n",
    "\n",
    "sns.distplot(normalizada_fin.total_paid)\n",
    "\n",
    "\n",
    "\n",
    "plt.subplot(5,1,2)\n",
    "plt.tight_layout()\n",
    "plt.title(\"Datos sin normalizar\")\n",
    "sns.distplot(datamart.total_paid)\n",
    "plt.show()"
   ]
  },
  {
   "cell_type": "code",
   "execution_count": null,
   "metadata": {},
   "outputs": [],
   "source": [
    "\n",
    "sns.catplot(x='total_paid', data=normalizada_fin, kind='box')\n",
    "plt.show()"
   ]
  },
  {
   "cell_type": "code",
   "execution_count": null,
   "metadata": {},
   "outputs": [],
   "source": [
    "sns.catplot(x='total_paid', data=datamart, kind='box')\n",
    "plt.show()"
   ]
  },
  {
   "cell_type": "code",
   "execution_count": null,
   "metadata": {},
   "outputs": [],
   "source": [
    "plt.figure(figsize=(20, 20)) # medidas del grafico \n",
    "\n",
    "\n",
    "plt.subplot(5,1,1)\n",
    "plt.tight_layout()\n",
    "plt.title(\"Data normalizada\")\n",
    "\n",
    "sns.distplot(normalizada_fin.arrears_days)\n",
    "\n",
    "\n",
    "\n",
    "plt.subplot(5,1,2)\n",
    "plt.tight_layout()\n",
    "plt.title(\"Datos sin normalizar\")\n",
    "sns.distplot(datamart.arrears_days)\n",
    "plt.show()"
   ]
  },
  {
   "cell_type": "code",
   "execution_count": null,
   "metadata": {},
   "outputs": [],
   "source": []
  },
  {
   "cell_type": "markdown",
   "metadata": {},
   "source": [
    "#### AQUI SE HACE EL MERGE CON LA OTRA DATA\n",
    "\n",
    "* Merge a los dataframe --> 'data_normalized_pandas' y los datos que hay en matriz cliente"
   ]
  },
  {
   "cell_type": "code",
   "execution_count": null,
   "metadata": {},
   "outputs": [],
   "source": [
    "normalizada_fin.columns"
   ]
  },
  {
   "cell_type": "code",
   "execution_count": null,
   "metadata": {},
   "outputs": [],
   "source": []
  },
  {
   "cell_type": "code",
   "execution_count": null,
   "metadata": {},
   "outputs": [],
   "source": [
    "path_file = \"data_sempli_holberton.xlsx\"\n",
    "cat_cols = ['ID Cliente', 'Monto Acumulado', 'Uso de los recursos', 'Plazo',\n",
    "       'Sector', 'Ingresos', 'Ubicación', 'Estrato Mínimo',\n",
    "       'Procesos judiciales', 'Alertas', 'Score Bureau Empresa', 'Huellas de Consulta',\n",
    "       'Website empresa', 'Instagram empresa', 'LinkedIn empresa',\n",
    "       'LinkedIn empresarios', 'Edad empresarios', 'Activador', 'Número de accionistas',\n",
    "       'Impacto', 'Acceso previso a la banca', '# Empleados',\n",
    "       'Mujeres empresarias', 'Mujeres en cargos directivos']\n",
    "\n",
    "cat_data = pd.read_excel(path_file, sheet_name = 0, header = 2, usecols = cat_cols).replace('NaT', np.nan)\n",
    "cat_data = cat_data.sort_values(by='ID Cliente', ascending=True)\n",
    "rep_columns = ['Procesos judiciales', 'Alertas', 'Website empresa',\n",
    "               'Instagram empresa', 'LinkedIn empresa',\n",
    "               'LinkedIn empresarios', 'Impacto', 'Acceso previso a la banca',\n",
    "               'Mujeres empresarias']\n",
    "cat_data[rep_columns] = cat_data[rep_columns].replace({'No procesos judiciales':'No',\n",
    "                                                           'Sí procesos judiciales':'Si',\n",
    "                                                           'No Alertas':'No',\n",
    "                                                           'Sí Alertas': 'Si',\n",
    "                                                           'No website':'No',\n",
    "                                                           'Si website':'Si',\n",
    "                                                           'No Ig':'No',\n",
    "                                                           'Si Ig':'Si',\n",
    "                                                           'No LinkedIn':'No',\n",
    "                                                           'Si LinkedIn':'Si',\n",
    "                                                           'No LinkedIn empresarios':'No',\n",
    "                                                           'Si LinkedIn empresarios':'Si',\n",
    "                                                           'Si Impacto':'Si',\n",
    "                                                           'No Impacto':'No',\n",
    "                                                           'Si acceso a la banca':'Si',\n",
    "                                                           'No acceso a la banca':'No',\n",
    "                                                           'No mujeres empresarias':'No',\n",
    "                                                           'Si mujeres empresarias':'Si'})\n",
    "normalizada = pd.DataFrame()\n",
    "normalizada_fin= pd.merge(normalizada_fin,data[['loan_id','state']],on='loan_id', how='left')\n",
    "normalizada_fin.head(8)"
   ]
  },
  {
   "cell_type": "code",
   "execution_count": null,
   "metadata": {},
   "outputs": [],
   "source": [
    "data_transform = normalizada_fin.merge(cat_data, left_on='client_id', right_on='ID Cliente').drop('ID Cliente', axis=1)\n",
    "data_transform.head(6)"
   ]
  },
  {
   "cell_type": "code",
   "execution_count": null,
   "metadata": {},
   "outputs": [],
   "source": [
    "# Se elimina sin INFO de huellas de consulta y score bureau\n",
    "#normalizada.replace('SIN INFO', np.nan)\n",
    "data_transform = data_transform[data_transform['Score Bureau Empresa'] != \"SIN INFO\"]\n",
    "data_transform = data_transform[data_transform['Huellas de Consulta'] != \"SIN INFO\"]\n",
    "#normalizada = normalizada.dropna(how='all', axis=1)\n",
    "data_transform.shape"
   ]
  },
  {
   "cell_type": "code",
   "execution_count": null,
   "metadata": {},
   "outputs": [],
   "source": [
    "data_transform.columns"
   ]
  },
  {
   "cell_type": "markdown",
   "metadata": {},
   "source": [
    "### OneHotEncoding\n",
    "* Agregar columnas\n",
    "Activador 'Score Bureau Empresa', 'Huellas de Consulta'"
   ]
  },
  {
   "cell_type": "code",
   "execution_count": null,
   "metadata": {},
   "outputs": [],
   "source": [
    "columnas_OHE = ['state', 'Uso de los recursos', 'Plazo', 'Sector', 'Ingresos', 'Ubicación',\n",
    "                'Procesos judiciales', 'Alertas', \n",
    "                'Website empresa', 'Instagram empresa', 'LinkedIn empresa', 'LinkedIn empresarios', 'Activador',\n",
    "                'Impacto', 'Acceso previso a la banca', 'Mujeres empresarias']"
   ]
  },
  {
   "cell_type": "code",
   "execution_count": null,
   "metadata": {},
   "outputs": [],
   "source": [
    "# OneHotEncoding para variables categoricas\n",
    "column_trans = make_column_transformer(\n",
    "    (OneHotEncoder(), columnas_OHE),\n",
    "    remainder='passthrough')"
   ]
  },
  {
   "cell_type": "code",
   "execution_count": null,
   "metadata": {
    "scrolled": true
   },
   "outputs": [],
   "source": [
    "normalizada = column_trans.fit_transform(data_transform)\n",
    "#print(data_transform)\n",
    "print(column_trans.fit_transform(data_transform).tolist())"
   ]
  },
  {
   "cell_type": "code",
   "execution_count": null,
   "metadata": {},
   "outputs": [],
   "source": [
    "column_trans"
   ]
  },
  {
   "cell_type": "code",
   "execution_count": null,
   "metadata": {},
   "outputs": [],
   "source": [
    "#clean.shape"
   ]
  },
  {
   "cell_type": "code",
   "execution_count": null,
   "metadata": {
    "scrolled": true
   },
   "outputs": [],
   "source": [
    "# Imprimir cada columna del dataset clasificada por onehotencoder y los que no pasaron por el proceso de transformación\n",
    "column_trans.get_feature_names()"
   ]
  },
  {
   "cell_type": "markdown",
   "metadata": {},
   "source": [
    "#### Significado de OneHotEncoding\n",
    "* state \n",
    "\n",
    "1 0 0--> Late\n",
    "\n",
    "0 1 0--> PAID. \n",
    "\n",
    "0 0 1--> PARTIALLY_PAID\n",
    "\n",
    "* Recursos \n",
    "\n",
    "\n",
    "1 0 0 0 --> CR\n",
    "\n",
    "0 1 0 0 --> KT - CO\n",
    "\n",
    "0 0 1 0--> KT - EX\n",
    "\n",
    "0 0 0 1 --> SP\n",
    "\n",
    "* Plazo\n",
    "\n",
    "1 0 0 0 --> 13 a 24 meses\n",
    "\n",
    "0 1 0 0 --> 25 a 36 meses\n",
    "\n",
    "0 0 1 0--> Menos de 12 meses\n",
    "\n",
    "0 0 0 1 --> Más de 37 meses"
   ]
  },
  {
   "cell_type": "code",
   "execution_count": null,
   "metadata": {},
   "outputs": [],
   "source": [
    "normalizada"
   ]
  },
  {
   "cell_type": "code",
   "execution_count": null,
   "metadata": {},
   "outputs": [],
   "source": [
    "normalizada.isnull().sum()"
   ]
  },
  {
   "cell_type": "code",
   "execution_count": null,
   "metadata": {},
   "outputs": [],
   "source": []
  },
  {
   "cell_type": "markdown",
   "metadata": {},
   "source": [
    "#### K means\n",
    "K optimizado : eblow method"
   ]
  },
  {
   "cell_type": "code",
   "execution_count": null,
   "metadata": {},
   "outputs": [],
   "source": [
    "kmeans = KMeans(n_clusters=6, random_state=1)\n",
    "\n",
    "# Compute k-means clustering on pre-processed data\n",
    "kmeans.fit(normalizada)\n",
    "\n",
    "# Extract cluster labels from labels_ attribute\n",
    "cluster_labels = kmeans.labels_"
   ]
  },
  {
   "cell_type": "code",
   "execution_count": null,
   "metadata": {},
   "outputs": [],
   "source": [
    "# Fit KMeans and calculate SSE for each *k*\n",
    "#sse = {}\n",
    "#for k in range(1,11):\n",
    "#    kmeans = KMeans(n_clusters=k, random_state=1)\n",
    "#    kmeans.fit(data_transform)\n",
    "#    sse[k] = kmeans.inertia_ # sum of squared distances to closest cluster center\n",
    "#score_cluster = pd.DataFrame({'Cluster':range(1,11), 'Score':sse})\n",
    "#plt.figure(figsize=(8,5))\n",
    "# Plot SSE for each *k*\n",
    "#plt.title('The Elbow Method')\n",
    "#plt.xlabel('k'); plt.ylabel('SSE')\n",
    "#sns.pointplot(x=list(sse.keys()), y=list(sse.values()))\n",
    "#plt.show()"
   ]
  },
  {
   "cell_type": "code",
   "execution_count": null,
   "metadata": {},
   "outputs": [],
   "source": [
    "scores = []\n",
    "# Set index\n",
    "#normalizada.set_index(['client_id', 'loan_id'], inplace=True)\n",
    "# Los valores nulos se reemplazan por el promedio de los valores\n",
    "#normalizada.fillna(normalizada.mean(), inplace=True)\n",
    "\n",
    "for k in range(1,11):\n",
    "    km = KMeans(n_clusters=k,random_state=1)\n",
    "    km = km.fit(normalizada)\n",
    "    scores.append(km.inertia_)\n",
    "\n",
    "dfk = pd.DataFrame({'Cluster':range(1,11), 'Score':scores})\n",
    "plt.figure(figsize=(8,5))\n",
    "plt.plot(dfk['Cluster'], dfk['Score'], marker='o')\n",
    "plt.xlabel('Number of clusters')\n",
    "plt.ylabel('Inertia')\n",
    "plt.show()"
   ]
  },
  {
   "cell_type": "code",
   "execution_count": null,
   "metadata": {},
   "outputs": [],
   "source": [
    "dfk"
   ]
  },
  {
   "cell_type": "markdown",
   "metadata": {},
   "source": [
    "#### Valor de la silueta \n",
    "El valor de la silueta mide cuán similar es un punto a su propio cluster (cohesión) en comparación con otros cluster (separación)."
   ]
  },
  {
   "cell_type": "code",
   "execution_count": null,
   "metadata": {},
   "outputs": [],
   "source": [
    "for i in range(2,17):\n",
    "    kmeans_labels=KMeans(n_clusters=i,random_state=1).fit_predict(normalizada)\n",
    "    print(\"Silhouette score for {} clusters k-means : {} \".format(i,metrics.silhouette_score(normalizada,kmeans_labels, metric='euclidean').round(3)))"
   ]
  },
  {
   "cell_type": "markdown",
   "metadata": {},
   "source": [
    "#### Métrica de Davies Bouldin\n",
    "Medida de similitud promedio de cada cluster con su cluster más similar, donde la similitud es la relación entre las distancias dentro del cluster y las distancias entre los clusters. La puntuación mínima es cero, y los valores más bajos indican una mejor agrupación."
   ]
  },
  {
   "cell_type": "code",
   "execution_count": null,
   "metadata": {},
   "outputs": [],
   "source": [
    "for i in range(2, 17):\n",
    "    kmeans_labels=KMeans(n_clusters=i,random_state=1).fit_predict(normalizada)\n",
    "    print(f'Davies Bouldin Score {i}: {metrics.davies_bouldin_score(normalizada,kmeans_labels).round(3)}')"
   ]
  },
  {
   "cell_type": "code",
   "execution_count": null,
   "metadata": {},
   "outputs": [],
   "source": [
    "kmeans_labels=KMeans(n_clusters=4,random_state=1).fit_predict(normalizada)"
   ]
  },
  {
   "cell_type": "code",
   "execution_count": null,
   "metadata": {},
   "outputs": [],
   "source": [
    "pca = PCA(n_components=3).fit_transform(normalizada)\n",
    "fig = plt.figure(figsize=(12, 7), dpi=80, facecolor='w', edgecolor='k')\n",
    "ax = plt.axes(projection=\"3d\")\n",
    "ax.scatter3D(pca.T[0],pca.T[1],pca.T[2],c=kmeans_labels,cmap='Spectral')\n",
    "\n",
    "xLabel = ax.set_xlabel('X')\n",
    "yLabel = ax.set_ylabel('Y')\n",
    "zLabel = ax.set_zlabel('Z')"
   ]
  },
  {
   "cell_type": "markdown",
   "metadata": {},
   "source": [
    "#### MiniBatch K-Means"
   ]
  },
  {
   "cell_type": "code",
   "execution_count": null,
   "metadata": {},
   "outputs": [],
   "source": [
    "for i in range(2,11):\n",
    "    minikm_labels = MiniBatchKMeans(n_clusters=i,init='random',batch_size=100000).fit_predict(normalizada)\n",
    "    print(\"Silhouette score for {} clusters MiniBatch k-means : {}\".format(i,metrics.silhouette_score(normalizada, minikm_labels, metric='euclidean').round(3)))"
   ]
  },
  {
   "cell_type": "code",
   "execution_count": null,
   "metadata": {},
   "outputs": [],
   "source": [
    "for i in range(2,11):\n",
    "    minikm_labels = MiniBatchKMeans(n_clusters=i,init='random',batch_size=100000).fit_predict(normalizada)\n",
    "    print('Davies Bouldin Score:'+str(metrics.davies_bouldin_score(normalizada,minikm_labels).round(3)))"
   ]
  },
  {
   "cell_type": "code",
   "execution_count": null,
   "metadata": {},
   "outputs": [],
   "source": [
    "minikm_labels = MiniBatchKMeans(n_clusters=4,init='random',batch_size=100000).fit_predict(normalizada)"
   ]
  },
  {
   "cell_type": "code",
   "execution_count": null,
   "metadata": {},
   "outputs": [],
   "source": [
    "fig = plt.figure(figsize=(12, 7), dpi=80, facecolor='w', edgecolor='k')\n",
    "ax = plt.axes(projection=\"3d\")\n",
    "ax.scatter3D(pca.T[0],pca.T[1],pca.T[2],c=minikm_labels,cmap='Spectral')\n",
    "\n",
    "xLabel = ax.set_xlabel('X')\n",
    "yLabel = ax.set_ylabel('Y')\n",
    "zLabel = ax.set_zlabel('Z')"
   ]
  },
  {
   "cell_type": "markdown",
   "metadata": {},
   "source": [
    "#### Hierarchical Clustering\n",
    "\n",
    "El eje x contiene las muestras y el eje y representa la distancia entre estas muestras."
   ]
  },
  {
   "cell_type": "code",
   "execution_count": null,
   "metadata": {},
   "outputs": [],
   "source": [
    "plt.figure(figsize=(10, 7))  \n",
    "plt.title(\"Dendrograms\")  \n",
    "dend = shc.dendrogram(shc.linkage(normalizada, method='ward'))"
   ]
  },
  {
   "cell_type": "markdown",
   "metadata": {},
   "source": [
    "Hay dos grupos de acuerdo con el dendograma. Y el umbral de corte es 3"
   ]
  },
  {
   "cell_type": "code",
   "execution_count": null,
   "metadata": {},
   "outputs": [],
   "source": [
    "hcluster = AgglomerativeClustering(n_clusters=3, affinity='euclidean', linkage='ward')  \n",
    "hcp=hcluster.fit_predict(normalizada)\n",
    "print('Silhouette Score for Hieararchial Clustering:'+str(metrics.silhouette_score(normalizada,hcp,metric='euclidean')))\n",
    "print('Davies Bouldin Score:'+str(metrics.davies_bouldin_score(normalizada,hcp)))"
   ]
  },
  {
   "cell_type": "code",
   "execution_count": null,
   "metadata": {},
   "outputs": [],
   "source": [
    "fig = plt.figure(figsize=(12, 7), dpi=80, facecolor='w', edgecolor='k')\n",
    "ax = plt.axes(projection=\"3d\")\n",
    "ax.scatter3D(pca.T[0],pca.T[1],pca.T[2],c=hcp,cmap='Spectral')\n",
    "\n",
    "xLabel = ax.set_xlabel('X')\n",
    "yLabel = ax.set_ylabel('Y')\n",
    "zLabel = ax.set_zlabel('Z')"
   ]
  },
  {
   "cell_type": "markdown",
   "metadata": {},
   "source": [
    "#### Algoritmo DBSCAN\n",
    "\n",
    "Agrupación basado en la densidad. La densidad se refiere a la proximidad de los puntos de datos en un cluster y es buena para los datos que contienen cluster de densidad similar."
   ]
  },
  {
   "cell_type": "code",
   "execution_count": null,
   "metadata": {},
   "outputs": [],
   "source": [
    "#  Construyendo el modelo con valores de épsilon y número natural de minPuntos.\n",
    "results = pd.DataFrame(\n",
    "    columns=['Eps', 'Min_Samples', 'Number of Cluster', 'Silhouette Score'])\n",
    "for i in range(2, 12):\n",
    "    for j in range(2, 12):\n",
    "        dbscan_cluster = DBSCAN(eps=i*0.2, min_samples=j)\n",
    "        clusters = dbscan_cluster.fit_predict(normalizada)\n",
    "        if len(np.unique(clusters)) > 2:\n",
    "            results = results.append({'Eps': i*0.2,\n",
    "                                      'Min_Samples': j,\n",
    "                                      'Number of Cluster': len(np.unique(clusters)),\n",
    "                                      'Silhouette Score': metrics.silhouette_score(normalizada, clusters),\n",
    "                                      'Davies Bouldin Score': metrics.davies_bouldin_score(normalizada, clusters)}, ignore_index=True)"
   ]
  },
  {
   "cell_type": "code",
   "execution_count": null,
   "metadata": {},
   "outputs": [],
   "source": [
    "results.sort_values('Silhouette Score',ascending=False)[:5]"
   ]
  },
  {
   "cell_type": "code",
   "execution_count": null,
   "metadata": {},
   "outputs": [],
   "source": [
    "dbscan_cluster = DBSCAN(eps=2.2, min_samples=3)\n",
    "db_clusters=dbscan_cluster.fit_predict(normalizada)"
   ]
  },
  {
   "cell_type": "code",
   "execution_count": null,
   "metadata": {},
   "outputs": [],
   "source": [
    "fig = plt.figure(figsize=(12, 7), dpi=80, facecolor='w', edgecolor='k')\n",
    "ax = plt.axes(projection=\"3d\")\n",
    "ax.scatter3D(pca.T[0],pca.T[1],pca.T[2],c=db_clusters,cmap='Spectral')\n",
    "\n",
    "xLabel = ax.set_xlabel('X')\n",
    "yLabel = ax.set_ylabel('Y')\n",
    "zLabel = ax.set_zlabel('Z')"
   ]
  },
  {
   "cell_type": "markdown",
   "metadata": {},
   "source": [
    "#### Algoritmo GMM\n",
    "\n",
    "Los Modelos de Mezcla Gaussiana (GMM) asumen que existen varias distribuciones Gaussianas, y cada una de ellas representa un cluster. Por lo tanto, un Modelo de Mezcla Gaussiana tiende a agrupar los puntos de datos que pertenecen a una única distribución.\n",
    "\n",
    "<br>\n",
    "\n",
    "**Determinar:**\n",
    "+ n_conglomerados. \n",
    "+ El número óptimo de cluster (k) es el valor que minimiza el criterio de información de Akaike (AIC) o el criterio de información bayesiano (BIC).\n",
    "\n"
   ]
  },
  {
   "cell_type": "code",
   "execution_count": null,
   "metadata": {},
   "outputs": [],
   "source": [
    "# Determinar: n_conglomerados. \n",
    "# El número óptimo de cluster (k) es el valor que minimiza el criterio de información de Akaike (AIC) o el criterio de información bayesiano (BIC).\n",
    "\n",
    "models = [GaussianMixture(n,covariance_type='tied', random_state=1).fit(normalizada) for n in range(2,15)]\n",
    "plt.plot(range(2,15), [m.bic(normalizada) for m in models], label='BIC')\n",
    "plt.plot(range(2,15), [m.aic(normalizada) for m in models], label='AIC')\n",
    "plt.legend()\n",
    "plt.xlabel('n_components')\n",
    "plt.show()"
   ]
  },
  {
   "cell_type": "code",
   "execution_count": null,
   "metadata": {},
   "outputs": [],
   "source": [
    "parameters = ['full', 'tied', 'diag', 'spherical']\n",
    "n_clusters = np.arange(1, 21)\n",
    "results_ = pd.DataFrame(columns=[\n",
    "                        'Covariance Type', 'Number of Cluster', 'Silhouette Score', 'Davies Bouldin Score'])\n",
    "for i in parameters:\n",
    "    for j in n_clusters:\n",
    "        gmm_cluster = GaussianMixture(\n",
    "            n_components=j, covariance_type=i, random_state=123)\n",
    "        clusters = gmm_cluster.fit_predict(normalizada)\n",
    "        if len(np.unique(clusters)) >= 2:\n",
    "            results_ = results_.append({\"Covariance Type\": i, 'Number of Cluster': j, \"Silhouette Score\": metrics.silhouette_score(normalizada, clusters),\n",
    "                                        'Davies Bouldin Score': metrics.davies_bouldin_score(normalizada, clusters)}, ignore_index=True)"
   ]
  },
  {
   "cell_type": "code",
   "execution_count": null,
   "metadata": {},
   "outputs": [],
   "source": [
    "display(results_.sort_values(by=[\"Silhouette Score\"], ascending=False)[:5])"
   ]
  },
  {
   "cell_type": "code",
   "execution_count": null,
   "metadata": {},
   "outputs": [],
   "source": [
    "gmm_cluster=GaussianMixture(n_components=20,covariance_type=\"full\",random_state=1)\n",
    "gmm_cluster.fit(normalizada)\n",
    "gmm_labels = gmm_cluster.predict(normalizada)"
   ]
  },
  {
   "cell_type": "code",
   "execution_count": null,
   "metadata": {},
   "outputs": [],
   "source": [
    "fig = plt.figure(figsize=(12, 7), dpi=80, facecolor='w', edgecolor='k')\n",
    "ax = plt.axes(projection=\"3d\")\n",
    "ax.scatter3D(pca.T[0],pca.T[1],pca.T[2],c=gmm_labels,cmap='Spectral')\n",
    "\n",
    "xLabel = ax.set_xlabel('X')\n",
    "yLabel = ax.set_ylabel('Y')\n",
    "zLabel = ax.set_zlabel('Z')"
   ]
  },
  {
   "cell_type": "markdown",
   "metadata": {},
   "source": [
    "#### MeanShift\n",
    "\n",
    "Asigna los puntos de datos a los clusters de forma iterativa desplazando los puntos hacia la mayor densidad de puntos de datos, es decir, el centroide del cluster.\n"
   ]
  },
  {
   "cell_type": "code",
   "execution_count": null,
   "metadata": {},
   "outputs": [],
   "source": [
    "est_bandwidth = estimate_bandwidth(normalizada,quantile=0.1,n_samples=10000)\n",
    "mean_shift = MeanShift(bandwidth= est_bandwidth, bin_seeding=True).fit(normalizada)\n",
    "labels_unique=np.unique(mean_shift.labels_)\n",
    "n_clusters_=len(labels_unique)\n",
    "print(\"Number of estimated clusters : %d\" % n_clusters_)"
   ]
  },
  {
   "cell_type": "code",
   "execution_count": null,
   "metadata": {},
   "outputs": [],
   "source": [
    "print('Silhouette Score for MeanShift:'+str(metrics.silhouette_score(normalizada,mean_shift.labels_,metric='euclidean').round(3)))\n",
    "print('Davies Bouldin Score for MeanShift:'+str(metrics.davies_bouldin_score(normalizada,mean_shift.labels_).round(3)))"
   ]
  },
  {
   "cell_type": "code",
   "execution_count": null,
   "metadata": {},
   "outputs": [],
   "source": [
    "fig = plt.figure(figsize=(12, 7), dpi=80, facecolor='w', edgecolor='k')\n",
    "ax = plt.axes(projection=\"3d\")\n",
    "ax.scatter3D(pca.T[0],pca.T[1],pca.T[2],c=mean_shift.labels_, cmap='Spectral')\n",
    "\n",
    "xLabel = ax.set_xlabel('X')\n",
    "yLabel = ax.set_ylabel('Y')\n",
    "zLabel = ax.set_zlabel('Z')"
   ]
  },
  {
   "cell_type": "markdown",
   "metadata": {},
   "source": [
    "### Comparison of Results "
   ]
  },
  {
   "cell_type": "code",
   "execution_count": null,
   "metadata": {},
   "outputs": [],
   "source": [
    "algorithms=[\"K-Means\",\"MiniBatch K-Means\",\"Hierarchical Clustering\",\"DBSCAN\",\"Gaussian Mixture Model\",\"MeanShift\"]\n",
    "\n",
    "# Silhouette Score\n",
    "ss=[metrics.silhouette_score(normalizada,kmeans_labels),metrics.silhouette_score(normalizada,minikm_labels),metrics.silhouette_score(normalizada,hcp),\n",
    "   metrics.silhouette_score(normalizada,db_clusters),metrics.silhouette_score(normalizada,gmm_labels),metrics.silhouette_score(normalizada,mean_shift.labels_)]\n",
    "\n",
    "# Davies Bouldin Score\n",
    "db=[metrics.davies_bouldin_score(normalizada,kmeans_labels),metrics.davies_bouldin_score(normalizada,minikm_labels),metrics.davies_bouldin_score(normalizada,hcp),\n",
    "   metrics.davies_bouldin_score(normalizada,db_clusters),metrics.davies_bouldin_score(normalizada,gmm_labels),metrics.davies_bouldin_score(normalizada,mean_shift.labels_)]"
   ]
  },
  {
   "cell_type": "code",
   "execution_count": null,
   "metadata": {},
   "outputs": [],
   "source": [
    "comprsn={\"Algorithms\":algorithms,\"Davies Bouldin\":db,\"Silhouette Score\":ss}\n",
    "compdf=pd.DataFrame(comprsn)\n",
    "display(compdf.sort_values(by=[\"Silhouette Score\"], ascending=False))"
   ]
  },
  {
   "cell_type": "markdown",
   "metadata": {},
   "source": [
    "**Hierarchical Clustering** tiene mayor puntuación tanto en el Silhouete score como en Davies Bouldin"
   ]
  },
  {
   "cell_type": "code",
   "execution_count": null,
   "metadata": {},
   "outputs": [],
   "source": [
    "normalizada['Clusters']=list(hcp)\n",
    "customers=pd.DataFrame(normalizada['Clusters'].value_counts()).rename(columns={'Clusters':'Number of Customers'})\n",
    "customers.T"
   ]
  },
  {
   "cell_type": "code",
   "execution_count": null,
   "metadata": {},
   "outputs": [],
   "source": [
    "means=pd.DataFrame(normalizada.describe().loc['mean'])\n",
    "means.T.iloc[:,[0,1,2,3]].round(1)"
   ]
  },
  {
   "cell_type": "code",
   "execution_count": null,
   "metadata": {},
   "outputs": [],
   "source": [
    "normalizada.set_index('Clusters')\n",
    "grouped=normalizada.groupby(by='Clusters').mean().round(1)\n",
    "grouped.iloc[:,[0,1,2,3]]"
   ]
  },
  {
   "cell_type": "code",
   "execution_count": null,
   "metadata": {},
   "outputs": [],
   "source": [
    "normalizada.columns"
   ]
  },
  {
   "cell_type": "code",
   "execution_count": null,
   "metadata": {},
   "outputs": [],
   "source": [
    "features=['recency', 'arrears_days', 'total_paid', 'RFM_Score']\n",
    "plt.figure(figsize=(15,10))\n",
    "for i,j in enumerate(features):\n",
    "    plt.subplot(3,3,i+1)\n",
    "    sns.barplot(grouped.index,grouped[j])\n",
    "    plt.title(j,fontdict={'color':'darkblue'})\n",
    "plt.tight_layout()\n",
    "plt.show()"
   ]
  },
  {
   "cell_type": "markdown",
   "metadata": {},
   "source": [
    "#### NOTA:\n",
    "* Probar con otros normalizadores. PowerTransformer()"
   ]
  }
 ],
 "metadata": {
  "kernelspec": {
   "display_name": "Python 3",
   "language": "python",
   "name": "python3"
  },
  "language_info": {
   "codemirror_mode": {
    "name": "ipython",
    "version": 3
   },
   "file_extension": ".py",
   "mimetype": "text/x-python",
   "name": "python",
   "nbconvert_exporter": "python",
   "pygments_lexer": "ipython3",
   "version": "3.8.3"
  }
 },
 "nbformat": 4,
 "nbformat_minor": 4
}
