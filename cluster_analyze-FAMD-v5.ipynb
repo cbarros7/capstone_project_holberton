{
 "cells": [
  {
   "cell_type": "markdown",
   "metadata": {},
   "source": [
    "# Analyzing data from clusters FAMD"
   ]
  },
  {
   "cell_type": "code",
   "execution_count": 1,
   "metadata": {
    "ExecuteTime": {
     "end_time": "2020-10-23T20:21:16.663840Z",
     "start_time": "2020-10-23T20:21:09.496979Z"
    }
   },
   "outputs": [],
   "source": [
    "import pandas as pd\n",
    "import numpy as np\n",
    "import json\n",
    "import datetime as dt\n",
    "import seaborn as sns\n",
    "import matplotlib.pyplot as plt\n",
    "import statsmodels.api as sm\n",
    "import statsmodels.formula.api as smf\n",
    "import statsmodels.stats.multicomp as multi\n",
    "import scipy.stats\n",
    "# Configuración de pandas \n",
    "pd.set_option('display.max_rows', 500)\n",
    "pd.set_option('display.max_columns', 500)\n",
    "pd.set_option('display.width', 1000)"
   ]
  },
  {
   "cell_type": "markdown",
   "metadata": {},
   "source": [
    "## Loading data"
   ]
  },
  {
   "cell_type": "code",
   "execution_count": 2,
   "metadata": {
    "ExecuteTime": {
     "end_time": "2020-10-23T20:21:17.335576Z",
     "start_time": "2020-10-23T20:21:16.669844Z"
    }
   },
   "outputs": [
    {
     "data": {
      "text/html": [
       "<div>\n",
       "<style scoped>\n",
       "    .dataframe tbody tr th:only-of-type {\n",
       "        vertical-align: middle;\n",
       "    }\n",
       "\n",
       "    .dataframe tbody tr th {\n",
       "        vertical-align: top;\n",
       "    }\n",
       "\n",
       "    .dataframe thead th {\n",
       "        text-align: right;\n",
       "    }\n",
       "</style>\n",
       "<table border=\"1\" class=\"dataframe\">\n",
       "  <thead>\n",
       "    <tr style=\"text-align: right;\">\n",
       "      <th></th>\n",
       "      <th>Unnamed: 0</th>\n",
       "      <th>client_id</th>\n",
       "      <th>loan_id</th>\n",
       "      <th>state</th>\n",
       "      <th>arrears_days</th>\n",
       "      <th>total_paid</th>\n",
       "      <th>Monto Acumulado</th>\n",
       "      <th>Uso de los recursos</th>\n",
       "      <th>Plazo</th>\n",
       "      <th>Sector</th>\n",
       "      <th>Ingresos</th>\n",
       "      <th>Ubicación</th>\n",
       "      <th>Estrato Mínimo</th>\n",
       "      <th>Procesos judiciales</th>\n",
       "      <th>Alertas</th>\n",
       "      <th>Score Bureau Empresa</th>\n",
       "      <th>Huellas de Consulta</th>\n",
       "      <th>Tiempo en el negocio</th>\n",
       "      <th>Website empresa</th>\n",
       "      <th>Instagram empresa</th>\n",
       "      <th>LinkedIn empresa</th>\n",
       "      <th>LinkedIn empresarios</th>\n",
       "      <th>Edad empresarios</th>\n",
       "      <th>Activador</th>\n",
       "      <th>Número de accionistas</th>\n",
       "      <th>Impacto</th>\n",
       "      <th>Acceso previso a la banca</th>\n",
       "      <th># Empleados</th>\n",
       "      <th>Mujeres empresarias</th>\n",
       "      <th>Mujeres en cargos directivos</th>\n",
       "      <th>cluster</th>\n",
       "    </tr>\n",
       "  </thead>\n",
       "  <tbody>\n",
       "    <tr>\n",
       "      <th>0</th>\n",
       "      <td>0</td>\n",
       "      <td>241</td>\n",
       "      <td>1076</td>\n",
       "      <td>PAID</td>\n",
       "      <td>17</td>\n",
       "      <td>147915805.0</td>\n",
       "      <td>250000000</td>\n",
       "      <td>CR</td>\n",
       "      <td>25 a 36 meses</td>\n",
       "      <td>Servicios</td>\n",
       "      <td>Seed</td>\n",
       "      <td>Medellín</td>\n",
       "      <td>5</td>\n",
       "      <td>No</td>\n",
       "      <td>No</td>\n",
       "      <td>925.0</td>\n",
       "      <td>8.0</td>\n",
       "      <td>2016</td>\n",
       "      <td>Si</td>\n",
       "      <td>Si</td>\n",
       "      <td>Si</td>\n",
       "      <td>Si</td>\n",
       "      <td>45</td>\n",
       "      <td>Internet</td>\n",
       "      <td>2.0</td>\n",
       "      <td>No</td>\n",
       "      <td>Si</td>\n",
       "      <td>16</td>\n",
       "      <td>No</td>\n",
       "      <td>2</td>\n",
       "      <td>0</td>\n",
       "    </tr>\n",
       "    <tr>\n",
       "      <th>1</th>\n",
       "      <td>1</td>\n",
       "      <td>241</td>\n",
       "      <td>1244</td>\n",
       "      <td>PAID</td>\n",
       "      <td>23</td>\n",
       "      <td>91852726.0</td>\n",
       "      <td>250000000</td>\n",
       "      <td>CR</td>\n",
       "      <td>25 a 36 meses</td>\n",
       "      <td>Servicios</td>\n",
       "      <td>Seed</td>\n",
       "      <td>Medellín</td>\n",
       "      <td>5</td>\n",
       "      <td>No</td>\n",
       "      <td>No</td>\n",
       "      <td>925.0</td>\n",
       "      <td>8.0</td>\n",
       "      <td>2016</td>\n",
       "      <td>Si</td>\n",
       "      <td>Si</td>\n",
       "      <td>Si</td>\n",
       "      <td>Si</td>\n",
       "      <td>45</td>\n",
       "      <td>Internet</td>\n",
       "      <td>2.0</td>\n",
       "      <td>No</td>\n",
       "      <td>Si</td>\n",
       "      <td>16</td>\n",
       "      <td>No</td>\n",
       "      <td>2</td>\n",
       "      <td>0</td>\n",
       "    </tr>\n",
       "    <tr>\n",
       "      <th>2</th>\n",
       "      <td>2</td>\n",
       "      <td>362</td>\n",
       "      <td>1469</td>\n",
       "      <td>PAID</td>\n",
       "      <td>14</td>\n",
       "      <td>15211138.0</td>\n",
       "      <td>50000000</td>\n",
       "      <td>KT - EX</td>\n",
       "      <td>13 a 24 meses</td>\n",
       "      <td>Servicios</td>\n",
       "      <td>Seed</td>\n",
       "      <td>Medellín</td>\n",
       "      <td>3</td>\n",
       "      <td>No</td>\n",
       "      <td>No</td>\n",
       "      <td>924.0</td>\n",
       "      <td>2.0</td>\n",
       "      <td>2014</td>\n",
       "      <td>Si</td>\n",
       "      <td>No</td>\n",
       "      <td>Si</td>\n",
       "      <td>No</td>\n",
       "      <td>32</td>\n",
       "      <td>SocialNetworks</td>\n",
       "      <td>3.0</td>\n",
       "      <td>No</td>\n",
       "      <td>Si</td>\n",
       "      <td>3</td>\n",
       "      <td>No</td>\n",
       "      <td>0</td>\n",
       "      <td>1</td>\n",
       "    </tr>\n",
       "    <tr>\n",
       "      <th>3</th>\n",
       "      <td>3</td>\n",
       "      <td>428</td>\n",
       "      <td>119</td>\n",
       "      <td>UNDEF</td>\n",
       "      <td>64</td>\n",
       "      <td>8713879.0</td>\n",
       "      <td>40000000</td>\n",
       "      <td>SP</td>\n",
       "      <td>13 a 24 meses</td>\n",
       "      <td>Industria</td>\n",
       "      <td>Seed</td>\n",
       "      <td>Medellín</td>\n",
       "      <td>4</td>\n",
       "      <td>No</td>\n",
       "      <td>No</td>\n",
       "      <td>861.0</td>\n",
       "      <td>1.0</td>\n",
       "      <td>2015</td>\n",
       "      <td>Si</td>\n",
       "      <td>No</td>\n",
       "      <td>Si</td>\n",
       "      <td>Si</td>\n",
       "      <td>44</td>\n",
       "      <td>CreditProfessionalContact</td>\n",
       "      <td>2.0</td>\n",
       "      <td>No</td>\n",
       "      <td>Si</td>\n",
       "      <td>5</td>\n",
       "      <td>No</td>\n",
       "      <td>0</td>\n",
       "      <td>1</td>\n",
       "    </tr>\n",
       "    <tr>\n",
       "      <th>4</th>\n",
       "      <td>4</td>\n",
       "      <td>428</td>\n",
       "      <td>120</td>\n",
       "      <td>UNDEF</td>\n",
       "      <td>64</td>\n",
       "      <td>8102608.0</td>\n",
       "      <td>40000000</td>\n",
       "      <td>SP</td>\n",
       "      <td>13 a 24 meses</td>\n",
       "      <td>Industria</td>\n",
       "      <td>Seed</td>\n",
       "      <td>Medellín</td>\n",
       "      <td>4</td>\n",
       "      <td>No</td>\n",
       "      <td>No</td>\n",
       "      <td>861.0</td>\n",
       "      <td>1.0</td>\n",
       "      <td>2015</td>\n",
       "      <td>Si</td>\n",
       "      <td>No</td>\n",
       "      <td>Si</td>\n",
       "      <td>Si</td>\n",
       "      <td>44</td>\n",
       "      <td>CreditProfessionalContact</td>\n",
       "      <td>2.0</td>\n",
       "      <td>No</td>\n",
       "      <td>Si</td>\n",
       "      <td>5</td>\n",
       "      <td>No</td>\n",
       "      <td>0</td>\n",
       "      <td>1</td>\n",
       "    </tr>\n",
       "  </tbody>\n",
       "</table>\n",
       "</div>"
      ],
      "text/plain": [
       "   Unnamed: 0  client_id  loan_id  state  arrears_days   total_paid  Monto Acumulado Uso de los recursos          Plazo     Sector Ingresos Ubicación  Estrato Mínimo Procesos judiciales Alertas  Score Bureau Empresa  Huellas de Consulta  Tiempo en el negocio Website empresa Instagram empresa LinkedIn empresa LinkedIn empresarios  Edad empresarios                  Activador  Número de accionistas Impacto Acceso previso a la banca  # Empleados Mujeres empresarias  Mujeres en cargos directivos  cluster\n",
       "0           0        241     1076   PAID            17  147915805.0        250000000                 CR   25 a 36 meses  Servicios     Seed  Medellín               5                  No      No                 925.0                  8.0                  2016              Si                Si               Si                   Si                45                   Internet                    2.0      No                        Si           16                  No                             2        0\n",
       "1           1        241     1244   PAID            23   91852726.0        250000000                 CR   25 a 36 meses  Servicios     Seed  Medellín               5                  No      No                 925.0                  8.0                  2016              Si                Si               Si                   Si                45                   Internet                    2.0      No                        Si           16                  No                             2        0\n",
       "2           2        362     1469   PAID            14   15211138.0         50000000             KT - EX  13 a 24 meses  Servicios     Seed  Medellín               3                  No      No                 924.0                  2.0                  2014              Si                No               Si                   No                32             SocialNetworks                    3.0      No                        Si            3                  No                             0        1\n",
       "3           3        428      119  UNDEF            64    8713879.0         40000000                  SP  13 a 24 meses  Industria     Seed  Medellín               4                  No      No                 861.0                  1.0                  2015              Si                No               Si                   Si                44  CreditProfessionalContact                    2.0      No                        Si            5                  No                             0        1\n",
       "4           4        428      120  UNDEF            64    8102608.0         40000000                  SP  13 a 24 meses  Industria     Seed  Medellín               4                  No      No                 861.0                  1.0                  2015              Si                No               Si                   Si                44  CreditProfessionalContact                    2.0      No                        Si            5                  No                             0        1"
      ]
     },
     "execution_count": 2,
     "metadata": {},
     "output_type": "execute_result"
    }
   ],
   "source": [
    "path_file = 'data/clusterizacion_v5.csv'\n",
    "data = pd.read_csv(path_file)\n",
    "data.head()"
   ]
  },
  {
   "cell_type": "code",
   "execution_count": 3,
   "metadata": {
    "ExecuteTime": {
     "end_time": "2020-10-23T20:21:17.367538Z",
     "start_time": "2020-10-23T20:21:17.342538Z"
    }
   },
   "outputs": [
    {
     "data": {
      "text/plain": [
       "Unnamed: 0                      False\n",
       "client_id                       False\n",
       "loan_id                         False\n",
       "state                           False\n",
       "arrears_days                    False\n",
       "total_paid                      False\n",
       "Monto Acumulado                 False\n",
       "Uso de los recursos             False\n",
       "Plazo                           False\n",
       "Sector                          False\n",
       "Ingresos                        False\n",
       "Ubicación                       False\n",
       "Estrato Mínimo                  False\n",
       "Procesos judiciales             False\n",
       "Alertas                         False\n",
       "Score Bureau Empresa            False\n",
       "Huellas de Consulta             False\n",
       "Tiempo en el negocio            False\n",
       "Website empresa                 False\n",
       "Instagram empresa               False\n",
       "LinkedIn empresa                False\n",
       "LinkedIn empresarios            False\n",
       "Edad empresarios                False\n",
       "Activador                       False\n",
       "Número de accionistas           False\n",
       "Impacto                         False\n",
       "Acceso previso a la banca       False\n",
       "# Empleados                     False\n",
       "Mujeres empresarias             False\n",
       "Mujeres en cargos directivos    False\n",
       "cluster                         False\n",
       "dtype: bool"
      ]
     },
     "execution_count": 3,
     "metadata": {},
     "output_type": "execute_result"
    }
   ],
   "source": [
    "data.isnull().any()"
   ]
  },
  {
   "cell_type": "markdown",
   "metadata": {},
   "source": [
    "## Data analysis"
   ]
  },
  {
   "cell_type": "markdown",
   "metadata": {},
   "source": [
    "This section is to analyze clusters behaviour with two cathegorization of clients"
   ]
  },
  {
   "cell_type": "markdown",
   "metadata": {},
   "source": [
    "### Cathegorical data"
   ]
  },
  {
   "cell_type": "code",
   "execution_count": 4,
   "metadata": {
    "ExecuteTime": {
     "end_time": "2020-10-23T20:21:18.447024Z",
     "start_time": "2020-10-23T20:21:17.373536Z"
    }
   },
   "outputs": [
    {
     "data": {
      "text/plain": [
       "Text(0.5, 0.98, 'Frecuency of observation by cluster')"
      ]
     },
     "execution_count": 4,
     "metadata": {},
     "output_type": "execute_result"
    },
    {
     "data": {
      "image/png": "[encoded data removed]",
      "text/plain": [
       "<Figure size 432x288 with 1 Axes>"
      ]
     },
     "metadata": {
      "needs_background": "light"
     },
     "output_type": "display_data"
    }
   ],
   "source": [
    "sns.countplot(x='cluster', data = data)\n",
    "plt.suptitle('Frecuency of observation by cluster')"
   ]
  },
  {
   "cell_type": "code",
   "execution_count": 5,
   "metadata": {
    "ExecuteTime": {
     "end_time": "2020-10-23T20:21:18.479035Z",
     "start_time": "2020-10-23T20:21:18.452043Z"
    }
   },
   "outputs": [
    {
     "data": {
      "text/plain": [
       "1    313\n",
       "0    264\n",
       "Name: cluster, dtype: int64"
      ]
     },
     "execution_count": 5,
     "metadata": {},
     "output_type": "execute_result"
    }
   ],
   "source": [
    "data['cluster'].value_counts()"
   ]
  },
  {
   "cell_type": "markdown",
   "metadata": {},
   "source": [
    "We can see that there are more customers on the cluster_1 than the cluster_0"
   ]
  },
  {
   "cell_type": "code",
   "execution_count": 6,
   "metadata": {
    "ExecuteTime": {
     "end_time": "2020-10-23T20:21:18.752038Z",
     "start_time": "2020-10-23T20:21:18.484040Z"
    }
   },
   "outputs": [
    {
     "data": {
      "text/plain": [
       "count     577.000000\n",
       "mean       70.963605\n",
       "std       130.802891\n",
       "min         0.000000\n",
       "25%         2.000000\n",
       "50%        16.000000\n",
       "75%        76.000000\n",
       "max      1083.000000\n",
       "Name: arrears_days, dtype: float64"
      ]
     },
     "execution_count": 6,
     "metadata": {},
     "output_type": "execute_result"
    }
   ],
   "source": [
    "data['arrears_days'].describe()"
   ]
  },
  {
   "cell_type": "markdown",
   "metadata": {},
   "source": [
    "### Analyzing relationship on other variables with two clusters"
   ]
  },
  {
   "cell_type": "code",
   "execution_count": 7,
   "metadata": {
    "ExecuteTime": {
     "end_time": "2020-10-23T20:21:18.864050Z",
     "start_time": "2020-10-23T20:21:18.757032Z"
    }
   },
   "outputs": [],
   "source": [
    "#----------------------------------------------------------------"
   ]
  },
  {
   "cell_type": "markdown",
   "metadata": {},
   "source": [
    "#### Cathegorical = cluster_id_2 vs Quantitative = 'Column name'"
   ]
  },
  {
   "cell_type": "code",
   "execution_count": 8,
   "metadata": {
    "ExecuteTime": {
     "end_time": "2020-10-23T20:21:19.038287Z",
     "start_time": "2020-10-23T20:21:18.873029Z"
    }
   },
   "outputs": [
    {
     "name": "stdout",
     "output_type": "stream",
     "text": [
      "<class 'pandas.core.frame.DataFrame'>\n",
      "RangeIndex: 577 entries, 0 to 576\n",
      "Data columns (total 31 columns):\n",
      " #   Column                        Non-Null Count  Dtype  \n",
      "---  ------                        --------------  -----  \n",
      " 0   Unnamed: 0                    577 non-null    int64  \n",
      " 1   client_id                     577 non-null    int64  \n",
      " 2   loan_id                       577 non-null    int64  \n",
      " 3   state                         577 non-null    object \n",
      " 4   arrears_days                  577 non-null    int64  \n",
      " 5   total_paid                    577 non-null    float64\n",
      " 6   Monto Acumulado               577 non-null    int64  \n",
      " 7   Uso de los recursos           577 non-null    object \n",
      " 8   Plazo                         577 non-null    object \n",
      " 9   Sector                        577 non-null    object \n",
      " 10  Ingresos                      577 non-null    object \n",
      " 11  Ubicación                     577 non-null    object \n",
      " 12  Estrato Mínimo                577 non-null    int64  \n",
      " 13  Procesos judiciales           577 non-null    object \n",
      " 14  Alertas                       577 non-null    object \n",
      " 15  Score Bureau Empresa          577 non-null    float64\n",
      " 16  Huellas de Consulta           577 non-null    float64\n",
      " 17  Tiempo en el negocio          577 non-null    int64  \n",
      " 18  Website empresa               577 non-null    object \n",
      " 19  Instagram empresa             577 non-null    object \n",
      " 20  LinkedIn empresa              577 non-null    object \n",
      " 21  LinkedIn empresarios          577 non-null    object \n",
      " 22  Edad empresarios              577 non-null    int64  \n",
      " 23  Activador                     577 non-null    object \n",
      " 24  Número de accionistas         577 non-null    float64\n",
      " 25  Impacto                       577 non-null    object \n",
      " 26  Acceso previso a la banca     577 non-null    object \n",
      " 27  # Empleados                   577 non-null    int64  \n",
      " 28  Mujeres empresarias           577 non-null    object \n",
      " 29  Mujeres en cargos directivos  577 non-null    int64  \n",
      " 30  cluster                       577 non-null    int64  \n",
      "dtypes: float64(4), int64(11), object(16)\n",
      "memory usage: 139.9+ KB\n"
     ]
    }
   ],
   "source": [
    "data.info()"
   ]
  },
  {
   "cell_type": "code",
   "execution_count": 9,
   "metadata": {
    "ExecuteTime": {
     "end_time": "2020-10-23T20:21:20.311204Z",
     "start_time": "2020-10-23T20:21:19.045288Z"
    }
   },
   "outputs": [
    {
     "data": {
      "text/plain": [
       "Text(0.5, 0.98, 'Cluster vs arrears_days')"
      ]
     },
     "execution_count": 9,
     "metadata": {},
     "output_type": "execute_result"
    },
    {
     "data": {
      "image/png": "[encoded data removed]",
      "text/plain": [
       "<Figure size 360x360 with 1 Axes>"
      ]
     },
     "metadata": {
      "needs_background": "light"
     },
     "output_type": "display_data"
    }
   ],
   "source": [
    "sns.catplot(x='cluster', y='arrears_days', kind='bar', data=data)\n",
    "plt.suptitle('Cluster vs arrears_days')"
   ]
  },
  {
   "cell_type": "markdown",
   "metadata": {},
   "source": [
    "On this graph we can see that cluster 1 has less arrears_days than cluster 0"
   ]
  },
  {
   "cell_type": "code",
   "execution_count": 10,
   "metadata": {
    "ExecuteTime": {
     "end_time": "2020-10-23T20:21:20.889210Z",
     "start_time": "2020-10-23T20:21:20.315218Z"
    }
   },
   "outputs": [
    {
     "data": {
      "text/plain": [
       "Text(0.5, 0.98, 'Cluster vs Monto Acumulado')"
      ]
     },
     "execution_count": 10,
     "metadata": {},
     "output_type": "execute_result"
    },
    {
     "data": {
      "image/png": "[encoded data removed]",
      "text/plain": [
       "<Figure size 360x360 with 1 Axes>"
      ]
     },
     "metadata": {
      "needs_background": "light"
     },
     "output_type": "display_data"
    }
   ],
   "source": [
    "sns.catplot(x='cluster', y='Monto Acumulado', kind='bar', data=data)\n",
    "plt.suptitle('Cluster vs Monto Acumulado')"
   ]
  },
  {
   "cell_type": "markdown",
   "metadata": {},
   "source": [
    "Cluster 1 has less 'Monto Acumulado' than cluster 0"
   ]
  },
  {
   "cell_type": "code",
   "execution_count": 11,
   "metadata": {
    "ExecuteTime": {
     "end_time": "2020-10-23T20:21:21.303208Z",
     "start_time": "2020-10-23T20:21:20.895217Z"
    }
   },
   "outputs": [
    {
     "data": {
      "text/plain": [
       "Text(0.5, 0.98, 'Cluster vs Score Bureau Empresa')"
      ]
     },
     "execution_count": 11,
     "metadata": {},
     "output_type": "execute_result"
    },
    {
     "data": {
      "image/png": "[encoded data removed]",
      "text/plain": [
       "<Figure size 360x360 with 1 Axes>"
      ]
     },
     "metadata": {
      "needs_background": "light"
     },
     "output_type": "display_data"
    }
   ],
   "source": [
    "sns.catplot(x='cluster', y='Score Bureau Empresa', kind='bar', data=data)\n",
    "plt.suptitle('Cluster vs Score Bureau Empresa')"
   ]
  },
  {
   "cell_type": "markdown",
   "metadata": {},
   "source": [
    "Score Bureau between the two clusters are relatively similar"
   ]
  },
  {
   "cell_type": "code",
   "execution_count": 12,
   "metadata": {
    "ExecuteTime": {
     "end_time": "2020-10-23T20:21:21.715209Z",
     "start_time": "2020-10-23T20:21:21.308219Z"
    }
   },
   "outputs": [
    {
     "data": {
      "text/plain": [
       "Text(0.5, 0.98, 'Cluster vs Huellas de Consulta')"
      ]
     },
     "execution_count": 12,
     "metadata": {},
     "output_type": "execute_result"
    },
    {
     "data": {
      "image/png": "[encoded data removed]",
      "text/plain": [
       "<Figure size 360x360 with 1 Axes>"
      ]
     },
     "metadata": {
      "needs_background": "light"
     },
     "output_type": "display_data"
    }
   ],
   "source": [
    "sns.catplot(x='cluster', y='Huellas de Consulta', kind='bar', data=data)\n",
    "plt.suptitle('Cluster vs Huellas de Consulta')"
   ]
  },
  {
   "cell_type": "markdown",
   "metadata": {},
   "source": [
    "Cluster 1 has less 'Huellas de consulta' than cluster 0"
   ]
  },
  {
   "cell_type": "code",
   "execution_count": 13,
   "metadata": {
    "ExecuteTime": {
     "end_time": "2020-10-23T20:21:22.111210Z",
     "start_time": "2020-10-23T20:21:21.719220Z"
    }
   },
   "outputs": [
    {
     "data": {
      "text/plain": [
       "Text(0.5, 0.98, 'Cluster vs Número de accionistas')"
      ]
     },
     "execution_count": 13,
     "metadata": {},
     "output_type": "execute_result"
    },
    {
     "data": {
      "image/png": "[encoded data removed]",
      "text/plain": [
       "<Figure size 360x360 with 1 Axes>"
      ]
     },
     "metadata": {
      "needs_background": "light"
     },
     "output_type": "display_data"
    }
   ],
   "source": [
    "sns.catplot(x='cluster', y='Número de accionistas', kind='bar', data=data)\n",
    "plt.suptitle('Cluster vs Número de accionistas')"
   ]
  },
  {
   "cell_type": "markdown",
   "metadata": {},
   "source": [
    "Cluster 0 has more 'Accionistas' than cluster 1"
   ]
  },
  {
   "cell_type": "code",
   "execution_count": 14,
   "metadata": {
    "ExecuteTime": {
     "end_time": "2020-10-23T20:21:22.498200Z",
     "start_time": "2020-10-23T20:21:22.116223Z"
    }
   },
   "outputs": [
    {
     "data": {
      "text/plain": [
       "Text(0.5, 0.98, 'Cluster vs # Empleados')"
      ]
     },
     "execution_count": 14,
     "metadata": {},
     "output_type": "execute_result"
    },
    {
     "data": {
      "image/png": "[encoded data removed]",
      "text/plain": [
       "<Figure size 360x360 with 1 Axes>"
      ]
     },
     "metadata": {
      "needs_background": "light"
     },
     "output_type": "display_data"
    }
   ],
   "source": [
    "sns.catplot(x='cluster', y='# Empleados', kind='bar', data=data)\n",
    "plt.suptitle('Cluster vs # Empleados')"
   ]
  },
  {
   "cell_type": "markdown",
   "metadata": {},
   "source": [
    "Cluster 1 has more 'Empleados' than cluster 0"
   ]
  },
  {
   "cell_type": "code",
   "execution_count": 15,
   "metadata": {
    "ExecuteTime": {
     "end_time": "2020-10-23T20:21:22.952217Z",
     "start_time": "2020-10-23T20:21:22.504221Z"
    }
   },
   "outputs": [
    {
     "data": {
      "text/plain": [
       "Text(0.5, 0.98, 'Cluster vs Mujeres en cargos directivos')"
      ]
     },
     "execution_count": 15,
     "metadata": {},
     "output_type": "execute_result"
    },
    {
     "data": {
      "image/png": "[encoded data removed]",
      "text/plain": [
       "<Figure size 360x360 with 1 Axes>"
      ]
     },
     "metadata": {
      "needs_background": "light"
     },
     "output_type": "display_data"
    }
   ],
   "source": [
    "sns.catplot(x='cluster', y='Mujeres en cargos directivos', kind='bar', data=data)\n",
    "plt.suptitle('Cluster vs Mujeres en cargos directivos')"
   ]
  },
  {
   "cell_type": "markdown",
   "metadata": {},
   "source": [
    "Cluster 1 has more 'Mujeres en cargos directivos' than cluster 0"
   ]
  },
  {
   "cell_type": "code",
   "execution_count": 16,
   "metadata": {
    "ExecuteTime": {
     "end_time": "2020-10-23T20:21:22.982218Z",
     "start_time": "2020-10-23T20:21:22.966213Z"
    }
   },
   "outputs": [],
   "source": [
    "#--------------------------------------------------------"
   ]
  },
  {
   "cell_type": "markdown",
   "metadata": {},
   "source": [
    "#### Cathegorical = cluster_id_2 vs Cathegorical = 'Column name'"
   ]
  },
  {
   "cell_type": "code",
   "execution_count": 17,
   "metadata": {
    "ExecuteTime": {
     "end_time": "2020-10-23T20:21:23.291208Z",
     "start_time": "2020-10-23T20:21:22.990224Z"
    }
   },
   "outputs": [
    {
     "name": "stdout",
     "output_type": "stream",
     "text": [
      "<class 'pandas.core.frame.DataFrame'>\n",
      "RangeIndex: 577 entries, 0 to 576\n",
      "Data columns (total 31 columns):\n",
      " #   Column                        Non-Null Count  Dtype  \n",
      "---  ------                        --------------  -----  \n",
      " 0   Unnamed: 0                    577 non-null    int64  \n",
      " 1   client_id                     577 non-null    int64  \n",
      " 2   loan_id                       577 non-null    int64  \n",
      " 3   state                         577 non-null    object \n",
      " 4   arrears_days                  577 non-null    int64  \n",
      " 5   total_paid                    577 non-null    float64\n",
      " 6   Monto Acumulado               577 non-null    int64  \n",
      " 7   Uso de los recursos           577 non-null    object \n",
      " 8   Plazo                         577 non-null    object \n",
      " 9   Sector                        577 non-null    object \n",
      " 10  Ingresos                      577 non-null    object \n",
      " 11  Ubicación                     577 non-null    object \n",
      " 12  Estrato Mínimo                577 non-null    int64  \n",
      " 13  Procesos judiciales           577 non-null    object \n",
      " 14  Alertas                       577 non-null    object \n",
      " 15  Score Bureau Empresa          577 non-null    float64\n",
      " 16  Huellas de Consulta           577 non-null    float64\n",
      " 17  Tiempo en el negocio          577 non-null    int64  \n",
      " 18  Website empresa               577 non-null    object \n",
      " 19  Instagram empresa             577 non-null    object \n",
      " 20  LinkedIn empresa              577 non-null    object \n",
      " 21  LinkedIn empresarios          577 non-null    object \n",
      " 22  Edad empresarios              577 non-null    int64  \n",
      " 23  Activador                     577 non-null    object \n",
      " 24  Número de accionistas         577 non-null    float64\n",
      " 25  Impacto                       577 non-null    object \n",
      " 26  Acceso previso a la banca     577 non-null    object \n",
      " 27  # Empleados                   577 non-null    int64  \n",
      " 28  Mujeres empresarias           577 non-null    object \n",
      " 29  Mujeres en cargos directivos  577 non-null    int64  \n",
      " 30  cluster                       577 non-null    int64  \n",
      "dtypes: float64(4), int64(11), object(16)\n",
      "memory usage: 139.9+ KB\n"
     ]
    }
   ],
   "source": [
    "data.info()"
   ]
  },
  {
   "cell_type": "code",
   "execution_count": 18,
   "metadata": {
    "ExecuteTime": {
     "end_time": "2020-10-23T20:21:24.097142Z",
     "start_time": "2020-10-23T20:21:23.295207Z"
    }
   },
   "outputs": [
    {
     "data": {
      "text/plain": [
       "cluster  state\n",
       "0        PAID     0.263432\n",
       "         LATE     0.135182\n",
       "         UNDEF    0.058925\n",
       "1        PAID     0.332756\n",
       "         LATE     0.149047\n",
       "         UNDEF    0.060659\n",
       "Name: state, dtype: float64"
      ]
     },
     "execution_count": 18,
     "metadata": {},
     "output_type": "execute_result"
    }
   ],
   "source": [
    "data.groupby('cluster')['state'].value_counts()/len(data)"
   ]
  },
  {
   "cell_type": "markdown",
   "metadata": {},
   "source": [
    "Cluster 0 has more clients on state PAID than cluster 1, but at the same time has more clients on Late than cluster 1"
   ]
  },
  {
   "cell_type": "code",
   "execution_count": 19,
   "metadata": {
    "ExecuteTime": {
     "end_time": "2020-10-23T20:21:24.129108Z",
     "start_time": "2020-10-23T20:21:24.102125Z"
    }
   },
   "outputs": [
    {
     "data": {
      "text/plain": [
       "cluster  Uso de los recursos\n",
       "0        KT - EX                0.164645\n",
       "         KT - CO                0.159445\n",
       "         CR                     0.077990\n",
       "         SP                     0.055459\n",
       "1        KT - CO                0.214905\n",
       "         KT - EX                0.183709\n",
       "         CR                     0.084922\n",
       "         SP                     0.058925\n",
       "Name: Uso de los recursos, dtype: float64"
      ]
     },
     "execution_count": 19,
     "metadata": {},
     "output_type": "execute_result"
    }
   ],
   "source": [
    "data.groupby('cluster')['Uso de los recursos'].value_counts()/len(data)"
   ]
  },
  {
   "cell_type": "markdown",
   "metadata": {},
   "source": [
    "We can see the distribution between the two clusters"
   ]
  },
  {
   "cell_type": "code",
   "execution_count": 20,
   "metadata": {
    "ExecuteTime": {
     "end_time": "2020-10-23T20:21:24.426587Z",
     "start_time": "2020-10-23T20:21:24.135126Z"
    }
   },
   "outputs": [
    {
     "data": {
      "text/plain": [
       "cluster  Plazo            \n",
       "0        13 a 24 meses        0.185442\n",
       "         Menos de 12 meses    0.171577\n",
       "         25 a 36 meses        0.084922\n",
       "         Más de 37 meses      0.015598\n",
       "1        13 a 24 meses        0.322357\n",
       "         Menos de 12 meses    0.147314\n",
       "         25 a 36 meses        0.069324\n",
       "         Más de 37 meses      0.003466\n",
       "Name: Plazo, dtype: float64"
      ]
     },
     "execution_count": 20,
     "metadata": {},
     "output_type": "execute_result"
    }
   ],
   "source": [
    "data.groupby('cluster')['Plazo'].value_counts()/len(data)"
   ]
  },
  {
   "cell_type": "code",
   "execution_count": 21,
   "metadata": {
    "ExecuteTime": {
     "end_time": "2020-10-23T20:21:24.551835Z",
     "start_time": "2020-10-23T20:21:24.430619Z"
    }
   },
   "outputs": [],
   "source": [
    "# Cluster 0 has more clients on 'Plazo' on 13 to 24 months. On the other hand we have cluster 1 with 'Plazo' less than 12 months"
   ]
  },
  {
   "cell_type": "code",
   "execution_count": 22,
   "metadata": {
    "ExecuteTime": {
     "end_time": "2020-10-23T20:21:24.707508Z",
     "start_time": "2020-10-23T20:21:24.555832Z"
    }
   },
   "outputs": [
    {
     "data": {
      "text/plain": [
       "cluster  Sector   \n",
       "0        Servicios    0.225303\n",
       "         Industria    0.166378\n",
       "         Comercio     0.065858\n",
       "1        Servicios    0.372617\n",
       "         Comercio     0.095321\n",
       "         Industria    0.074523\n",
       "Name: Sector, dtype: float64"
      ]
     },
     "execution_count": 22,
     "metadata": {},
     "output_type": "execute_result"
    }
   ],
   "source": [
    "data.groupby('cluster')['Sector'].value_counts()/len(data)"
   ]
  },
  {
   "cell_type": "code",
   "execution_count": 23,
   "metadata": {
    "ExecuteTime": {
     "end_time": "2020-10-23T20:21:24.846800Z",
     "start_time": "2020-10-23T20:21:24.721508Z"
    }
   },
   "outputs": [],
   "source": [
    "# Cluster 0 has a ranking of (Servicios, Comercio and Industria) - Cluster 1 has a ranking of (Servicios, Industria y Comercio)"
   ]
  },
  {
   "cell_type": "code",
   "execution_count": 24,
   "metadata": {
    "ExecuteTime": {
     "end_time": "2020-10-23T20:21:25.003451Z",
     "start_time": "2020-10-23T20:21:24.853785Z"
    }
   },
   "outputs": [
    {
     "data": {
      "text/plain": [
       "cluster  Ingresos\n",
       "0        Venture     0.162912\n",
       "         Scale Up    0.121317\n",
       "         Growth      0.100520\n",
       "         Seed        0.072790\n",
       "1        Seed        0.363951\n",
       "         Venture     0.133449\n",
       "         Scale Up    0.038128\n",
       "         Growth      0.006932\n",
       "Name: Ingresos, dtype: float64"
      ]
     },
     "execution_count": 24,
     "metadata": {},
     "output_type": "execute_result"
    }
   ],
   "source": [
    "data.groupby('cluster')['Ingresos'].value_counts()/len(data)"
   ]
  },
  {
   "cell_type": "code",
   "execution_count": null,
   "metadata": {},
   "outputs": [],
   "source": []
  },
  {
   "cell_type": "code",
   "execution_count": 25,
   "metadata": {
    "ExecuteTime": {
     "end_time": "2020-10-23T20:21:25.443880Z",
     "start_time": "2020-10-23T20:21:25.008450Z"
    }
   },
   "outputs": [
    {
     "data": {
      "text/plain": [
       "cluster  Acceso previso a la banca\n",
       "0        Si                           0.412478\n",
       "         No                           0.045061\n",
       "1        Si                           0.291161\n",
       "         No                           0.251300\n",
       "Name: Acceso previso a la banca, dtype: float64"
      ]
     },
     "execution_count": 25,
     "metadata": {},
     "output_type": "execute_result"
    }
   ],
   "source": [
    "data.groupby('cluster')['Acceso previso a la banca'].value_counts()/len(data)"
   ]
  },
  {
   "cell_type": "code",
   "execution_count": null,
   "metadata": {},
   "outputs": [],
   "source": []
  },
  {
   "cell_type": "code",
   "execution_count": 26,
   "metadata": {
    "ExecuteTime": {
     "end_time": "2020-10-23T20:21:25.615400Z",
     "start_time": "2020-10-23T20:21:25.447859Z"
    }
   },
   "outputs": [
    {
     "data": {
      "text/plain": [
       "cluster  Mujeres empresarias\n",
       "0        No                     0.393414\n",
       "         Si                     0.064125\n",
       "1        No                     0.412478\n",
       "         Si                     0.129983\n",
       "Name: Mujeres empresarias, dtype: float64"
      ]
     },
     "execution_count": 26,
     "metadata": {},
     "output_type": "execute_result"
    }
   ],
   "source": [
    "data.groupby('cluster')['Mujeres empresarias'].value_counts()/len(data)"
   ]
  },
  {
   "cell_type": "code",
   "execution_count": null,
   "metadata": {},
   "outputs": [],
   "source": []
  },
  {
   "cell_type": "code",
   "execution_count": 27,
   "metadata": {
    "ExecuteTime": {
     "end_time": "2020-10-23T20:21:25.740950Z",
     "start_time": "2020-10-23T20:21:25.619384Z"
    }
   },
   "outputs": [
    {
     "data": {
      "text/plain": [
       "cluster  Activador                \n",
       "0        Other                        0.142114\n",
       "         FriendOrColleague            0.123050\n",
       "         CreditProfessionalContact    0.090121\n",
       "         Internet                     0.051993\n",
       "         Newspapers                   0.013865\n",
       "         SocialNetworks               0.013865\n",
       "         Email                        0.012132\n",
       "         Referrer                     0.008666\n",
       "         CommunicationMedia           0.001733\n",
       "1        FriendOrColleague            0.175043\n",
       "         Internet                     0.095321\n",
       "         CreditProfessionalContact    0.065858\n",
       "         Other                        0.057192\n",
       "         Newspapers                   0.055459\n",
       "         SocialNetworks               0.036395\n",
       "         Referrer                     0.031196\n",
       "         CommunicationMedia           0.010399\n",
       "         RutaN                        0.008666\n",
       "         Fenalco                      0.006932\n",
       "Name: Activador, dtype: float64"
      ]
     },
     "execution_count": 27,
     "metadata": {},
     "output_type": "execute_result"
    }
   ],
   "source": [
    "data.groupby('cluster')['Activador'].value_counts()/len(data)"
   ]
  },
  {
   "cell_type": "code",
   "execution_count": null,
   "metadata": {},
   "outputs": [],
   "source": []
  },
  {
   "cell_type": "code",
   "execution_count": 28,
   "metadata": {
    "ExecuteTime": {
     "end_time": "2020-10-23T20:21:25.926628Z",
     "start_time": "2020-10-23T20:21:25.745956Z"
    }
   },
   "outputs": [
    {
     "data": {
      "text/plain": [
       "cluster  Website empresa\n",
       "0        Si                 0.367418\n",
       "         No                 0.090121\n",
       "1        Si                 0.334489\n",
       "         No                 0.207972\n",
       "Name: Website empresa, dtype: float64"
      ]
     },
     "execution_count": 28,
     "metadata": {},
     "output_type": "execute_result"
    }
   ],
   "source": [
    "data.groupby('cluster')['Website empresa'].value_counts()/len(data)"
   ]
  },
  {
   "cell_type": "code",
   "execution_count": null,
   "metadata": {},
   "outputs": [],
   "source": []
  },
  {
   "cell_type": "code",
   "execution_count": 29,
   "metadata": {
    "ExecuteTime": {
     "end_time": "2020-10-23T20:21:26.113905Z",
     "start_time": "2020-10-23T20:21:25.930609Z"
    }
   },
   "outputs": [
    {
     "data": {
      "text/plain": [
       "cluster  Estrato Mínimo\n",
       "0        4                 0.154246\n",
       "         5                 0.147314\n",
       "         6                 0.100520\n",
       "         3                 0.055459\n",
       "1        4                 0.173310\n",
       "         5                 0.168111\n",
       "         3                 0.105719\n",
       "         6                 0.088388\n",
       "         2                 0.006932\n",
       "Name: Estrato Mínimo, dtype: float64"
      ]
     },
     "execution_count": 29,
     "metadata": {},
     "output_type": "execute_result"
    }
   ],
   "source": [
    "data.groupby('cluster')['Estrato Mínimo'].value_counts()/len(data)"
   ]
  },
  {
   "cell_type": "code",
   "execution_count": null,
   "metadata": {},
   "outputs": [],
   "source": []
  },
  {
   "cell_type": "code",
   "execution_count": 30,
   "metadata": {
    "ExecuteTime": {
     "end_time": "2020-10-23T20:21:26.253518Z",
     "start_time": "2020-10-23T20:21:26.117932Z"
    }
   },
   "outputs": [
    {
     "data": {
      "text/plain": [
       "cluster  Ubicación          \n",
       "0        Bogotá D.C.            0.173310\n",
       "         Medellín               0.155979\n",
       "         La Estrella            0.036395\n",
       "         Itagüí                 0.032929\n",
       "         Sabaneta               0.019064\n",
       "         Barranquilla           0.012132\n",
       "         Envigado               0.012132\n",
       "         Manizales              0.003466\n",
       "         Rionegro               0.003466\n",
       "         Bello                  0.001733\n",
       "         Cartagena de indias    0.001733\n",
       "         Marinilla              0.001733\n",
       "         Neiva                  0.001733\n",
       "         Pereira                0.001733\n",
       "1        Bogotá D.C.            0.233969\n",
       "         Medellín               0.207972\n",
       "         Barranquilla           0.024263\n",
       "         Envigado               0.024263\n",
       "         Cali                   0.015598\n",
       "         Bucaramanga            0.010399\n",
       "         Itagüí                 0.003466\n",
       "         La Estrella            0.003466\n",
       "         Manizales              0.003466\n",
       "         Pereira                0.003466\n",
       "         Armenia                0.001733\n",
       "         Cartagena de indias    0.001733\n",
       "         Copacabana             0.001733\n",
       "         La Ceja                0.001733\n",
       "         Rionegro               0.001733\n",
       "         Sabaneta               0.001733\n",
       "         Santa Marta            0.001733\n",
       "Name: Ubicación, dtype: float64"
      ]
     },
     "execution_count": 30,
     "metadata": {},
     "output_type": "execute_result"
    }
   ],
   "source": [
    "data.groupby('cluster')['Ubicación'].value_counts()/len(data)"
   ]
  },
  {
   "cell_type": "code",
   "execution_count": null,
   "metadata": {},
   "outputs": [],
   "source": []
  },
  {
   "cell_type": "code",
   "execution_count": 31,
   "metadata": {
    "ExecuteTime": {
     "end_time": "2020-10-23T20:21:26.427435Z",
     "start_time": "2020-10-23T20:21:26.257519Z"
    }
   },
   "outputs": [
    {
     "data": {
      "text/plain": [
       "cluster  Procesos judiciales\n",
       "0        No                     0.334489\n",
       "         Si                     0.123050\n",
       "1        No                     0.507799\n",
       "         Si                     0.034662\n",
       "Name: Procesos judiciales, dtype: float64"
      ]
     },
     "execution_count": 31,
     "metadata": {},
     "output_type": "execute_result"
    }
   ],
   "source": [
    "data.groupby('cluster')['Procesos judiciales'].value_counts()/len(data)"
   ]
  },
  {
   "cell_type": "code",
   "execution_count": null,
   "metadata": {},
   "outputs": [],
   "source": []
  },
  {
   "cell_type": "code",
   "execution_count": 32,
   "metadata": {
    "ExecuteTime": {
     "end_time": "2020-10-23T20:21:26.581873Z",
     "start_time": "2020-10-23T20:21:26.431435Z"
    }
   },
   "outputs": [
    {
     "data": {
      "text/plain": [
       "cluster  Instagram empresa\n",
       "0        Si                   0.240901\n",
       "         No                   0.216638\n",
       "1        No                   0.292894\n",
       "         Si                   0.249567\n",
       "Name: Instagram empresa, dtype: float64"
      ]
     },
     "execution_count": 32,
     "metadata": {},
     "output_type": "execute_result"
    }
   ],
   "source": [
    "data.groupby('cluster')['Instagram empresa'].value_counts()/len(data)"
   ]
  },
  {
   "cell_type": "code",
   "execution_count": null,
   "metadata": {},
   "outputs": [],
   "source": []
  },
  {
   "cell_type": "code",
   "execution_count": 33,
   "metadata": {
    "ExecuteTime": {
     "end_time": "2020-10-23T20:21:26.912821Z",
     "start_time": "2020-10-23T20:21:26.587850Z"
    }
   },
   "outputs": [
    {
     "data": {
      "text/plain": [
       "cluster  Impacto\n",
       "0        No         0.433276\n",
       "         Si         0.024263\n",
       "1        No         0.485269\n",
       "         Si         0.057192\n",
       "Name: Impacto, dtype: float64"
      ]
     },
     "execution_count": 33,
     "metadata": {},
     "output_type": "execute_result"
    }
   ],
   "source": [
    "data.groupby('cluster')['Impacto'].value_counts()/len(data)"
   ]
  },
  {
   "cell_type": "code",
   "execution_count": null,
   "metadata": {},
   "outputs": [],
   "source": []
  },
  {
   "cell_type": "markdown",
   "metadata": {},
   "source": [
    "### Analyzing relationship on other variables with three clusters"
   ]
  },
  {
   "cell_type": "markdown",
   "metadata": {},
   "source": [
    "This section is to analyze clusters behaviour with three cathegorization of clients"
   ]
  },
  {
   "cell_type": "markdown",
   "metadata": {},
   "source": [
    "### Cathegorical data"
   ]
  },
  {
   "cell_type": "markdown",
   "metadata": {},
   "source": [
    "#### Cathegorical = cluster_id_2 vs Quantitative = 'Column name'"
   ]
  },
  {
   "cell_type": "code",
   "execution_count": 34,
   "metadata": {
    "ExecuteTime": {
     "end_time": "2020-10-23T20:21:27.024566Z",
     "start_time": "2020-10-23T20:21:26.916816Z"
    }
   },
   "outputs": [
    {
     "data": {
      "text/plain": [
       "Index(['Unnamed: 0', 'client_id', 'loan_id', 'state', 'arrears_days', 'total_paid', 'Monto Acumulado', 'Uso de los recursos', 'Plazo', 'Sector', 'Ingresos', 'Ubicación', 'Estrato Mínimo', 'Procesos judiciales', 'Alertas', 'Score Bureau Empresa', 'Huellas de Consulta', 'Tiempo en el negocio', 'Website empresa', 'Instagram empresa', 'LinkedIn empresa', 'LinkedIn empresarios', 'Edad empresarios', 'Activador', 'Número de accionistas', 'Impacto', 'Acceso previso a la banca', '# Empleados', 'Mujeres empresarias', 'Mujeres en cargos directivos', 'cluster'], dtype='object')"
      ]
     },
     "execution_count": 34,
     "metadata": {},
     "output_type": "execute_result"
    }
   ],
   "source": [
    "data.columns"
   ]
  },
  {
   "cell_type": "code",
   "execution_count": 35,
   "metadata": {
    "ExecuteTime": {
     "end_time": "2020-10-23T20:21:28.227190Z",
     "start_time": "2020-10-23T20:21:27.028561Z"
    }
   },
   "outputs": [
    {
     "ename": "ValueError",
     "evalue": "Could not interpret input 'cluster_id_3'",
     "output_type": "error",
     "traceback": [
      "\u001b[1;31m---------------------------------------------------------------------------\u001b[0m",
      "\u001b[1;31mValueError\u001b[0m                                Traceback (most recent call last)",
      "\u001b[1;32m<ipython-input-35-32c4986a5651>\u001b[0m in \u001b[0;36m<module>\u001b[1;34m\u001b[0m\n\u001b[1;32m----> 1\u001b[1;33m \u001b[0msns\u001b[0m\u001b[1;33m.\u001b[0m\u001b[0mcountplot\u001b[0m\u001b[1;33m(\u001b[0m\u001b[0mx\u001b[0m\u001b[1;33m=\u001b[0m\u001b[1;34m'cluster_id_3'\u001b[0m\u001b[1;33m,\u001b[0m \u001b[0mdata\u001b[0m \u001b[1;33m=\u001b[0m \u001b[0mdata\u001b[0m\u001b[1;33m)\u001b[0m\u001b[1;33m\u001b[0m\u001b[1;33m\u001b[0m\u001b[0m\n\u001b[0m\u001b[0;32m      2\u001b[0m \u001b[0mplt\u001b[0m\u001b[1;33m.\u001b[0m\u001b[0msuptitle\u001b[0m\u001b[1;33m(\u001b[0m\u001b[1;34m'Frecuency of observation by cluster_id_3'\u001b[0m\u001b[1;33m)\u001b[0m\u001b[1;33m\u001b[0m\u001b[1;33m\u001b[0m\u001b[0m\n",
      "\u001b[1;32mC:\\ProgramData\\Anaconda3\\lib\\site-packages\\seaborn\\categorical.py\u001b[0m in \u001b[0;36mcountplot\u001b[1;34m(x, y, hue, data, order, hue_order, orient, color, palette, saturation, dodge, ax, **kwargs)\u001b[0m\n\u001b[0;32m   3547\u001b[0m         \u001b[1;32mraise\u001b[0m \u001b[0mTypeError\u001b[0m\u001b[1;33m(\u001b[0m\u001b[1;34m\"Must pass values for either `x` or `y`\"\u001b[0m\u001b[1;33m)\u001b[0m\u001b[1;33m\u001b[0m\u001b[1;33m\u001b[0m\u001b[0m\n\u001b[0;32m   3548\u001b[0m \u001b[1;33m\u001b[0m\u001b[0m\n\u001b[1;32m-> 3549\u001b[1;33m     plotter = _BarPlotter(x, y, hue, data, order, hue_order,\n\u001b[0m\u001b[0;32m   3550\u001b[0m                           \u001b[0mestimator\u001b[0m\u001b[1;33m,\u001b[0m \u001b[0mci\u001b[0m\u001b[1;33m,\u001b[0m \u001b[0mn_boot\u001b[0m\u001b[1;33m,\u001b[0m \u001b[0munits\u001b[0m\u001b[1;33m,\u001b[0m \u001b[0mseed\u001b[0m\u001b[1;33m,\u001b[0m\u001b[1;33m\u001b[0m\u001b[1;33m\u001b[0m\u001b[0m\n\u001b[0;32m   3551\u001b[0m                           \u001b[0morient\u001b[0m\u001b[1;33m,\u001b[0m \u001b[0mcolor\u001b[0m\u001b[1;33m,\u001b[0m \u001b[0mpalette\u001b[0m\u001b[1;33m,\u001b[0m \u001b[0msaturation\u001b[0m\u001b[1;33m,\u001b[0m\u001b[1;33m\u001b[0m\u001b[1;33m\u001b[0m\u001b[0m\n",
      "\u001b[1;32mC:\\ProgramData\\Anaconda3\\lib\\site-packages\\seaborn\\categorical.py\u001b[0m in \u001b[0;36m__init__\u001b[1;34m(self, x, y, hue, data, order, hue_order, estimator, ci, n_boot, units, seed, orient, color, palette, saturation, errcolor, errwidth, capsize, dodge)\u001b[0m\n\u001b[0;32m   1600\u001b[0m                  errwidth, capsize, dodge):\n\u001b[0;32m   1601\u001b[0m         \u001b[1;34m\"\"\"Initialize the plotter.\"\"\"\u001b[0m\u001b[1;33m\u001b[0m\u001b[1;33m\u001b[0m\u001b[0m\n\u001b[1;32m-> 1602\u001b[1;33m         self.establish_variables(x, y, hue, data, orient,\n\u001b[0m\u001b[0;32m   1603\u001b[0m                                  order, hue_order, units)\n\u001b[0;32m   1604\u001b[0m         \u001b[0mself\u001b[0m\u001b[1;33m.\u001b[0m\u001b[0mestablish_colors\u001b[0m\u001b[1;33m(\u001b[0m\u001b[0mcolor\u001b[0m\u001b[1;33m,\u001b[0m \u001b[0mpalette\u001b[0m\u001b[1;33m,\u001b[0m \u001b[0msaturation\u001b[0m\u001b[1;33m)\u001b[0m\u001b[1;33m\u001b[0m\u001b[1;33m\u001b[0m\u001b[0m\n",
      "\u001b[1;32mC:\\ProgramData\\Anaconda3\\lib\\site-packages\\seaborn\\categorical.py\u001b[0m in \u001b[0;36mestablish_variables\u001b[1;34m(self, x, y, hue, data, orient, order, hue_order, units)\u001b[0m\n\u001b[0;32m    150\u001b[0m                 \u001b[1;32mif\u001b[0m \u001b[0misinstance\u001b[0m\u001b[1;33m(\u001b[0m\u001b[0mvar\u001b[0m\u001b[1;33m,\u001b[0m \u001b[0mstr\u001b[0m\u001b[1;33m)\u001b[0m\u001b[1;33m:\u001b[0m\u001b[1;33m\u001b[0m\u001b[1;33m\u001b[0m\u001b[0m\n\u001b[0;32m    151\u001b[0m                     \u001b[0merr\u001b[0m \u001b[1;33m=\u001b[0m \u001b[1;34m\"Could not interpret input '{}'\"\u001b[0m\u001b[1;33m.\u001b[0m\u001b[0mformat\u001b[0m\u001b[1;33m(\u001b[0m\u001b[0mvar\u001b[0m\u001b[1;33m)\u001b[0m\u001b[1;33m\u001b[0m\u001b[1;33m\u001b[0m\u001b[0m\n\u001b[1;32m--> 152\u001b[1;33m                     \u001b[1;32mraise\u001b[0m \u001b[0mValueError\u001b[0m\u001b[1;33m(\u001b[0m\u001b[0merr\u001b[0m\u001b[1;33m)\u001b[0m\u001b[1;33m\u001b[0m\u001b[1;33m\u001b[0m\u001b[0m\n\u001b[0m\u001b[0;32m    153\u001b[0m \u001b[1;33m\u001b[0m\u001b[0m\n\u001b[0;32m    154\u001b[0m             \u001b[1;31m# Figure out the plotting orientation\u001b[0m\u001b[1;33m\u001b[0m\u001b[1;33m\u001b[0m\u001b[1;33m\u001b[0m\u001b[0m\n",
      "\u001b[1;31mValueError\u001b[0m: Could not interpret input 'cluster_id_3'"
     ]
    }
   ],
   "source": [
    "sns.countplot(x='cluster_id_3', data = data)\n",
    "plt.suptitle('Frecuency of observation by cluster_id_3')"
   ]
  },
  {
   "cell_type": "markdown",
   "metadata": {},
   "source": [
    "### Analyzing relationship on other variables with three clusters"
   ]
  },
  {
   "cell_type": "code",
   "execution_count": null,
   "metadata": {
    "ExecuteTime": {
     "end_time": "2020-10-23T20:21:28.234167Z",
     "start_time": "2020-10-23T20:21:09.799Z"
    }
   },
   "outputs": [],
   "source": [
    "#--------------------------------------------------------------------"
   ]
  },
  {
   "cell_type": "markdown",
   "metadata": {},
   "source": [
    "#### Cathegorical = cluster_id_3 vs Quantitative = 'Column name'"
   ]
  },
  {
   "cell_type": "code",
   "execution_count": null,
   "metadata": {
    "ExecuteTime": {
     "end_time": "2020-10-23T20:21:28.237187Z",
     "start_time": "2020-10-23T20:21:09.806Z"
    }
   },
   "outputs": [],
   "source": [
    "sns.catplot(x='cluster_id_3', y='arrears_days', kind='bar', data=data)\n",
    "plt.suptitle('Cluster_id_3 vs arrears_days')"
   ]
  },
  {
   "cell_type": "code",
   "execution_count": null,
   "metadata": {
    "ExecuteTime": {
     "end_time": "2020-10-23T20:21:28.241193Z",
     "start_time": "2020-10-23T20:21:09.811Z"
    }
   },
   "outputs": [],
   "source": [
    "sns.catplot(x='cluster_id_3', y='Monto Acumulado', kind='bar', data=data)\n",
    "plt.suptitle('Cluster_id_3 vs Monto Acumulado')"
   ]
  },
  {
   "cell_type": "code",
   "execution_count": null,
   "metadata": {
    "ExecuteTime": {
     "end_time": "2020-10-23T20:21:28.244160Z",
     "start_time": "2020-10-23T20:21:09.818Z"
    }
   },
   "outputs": [],
   "source": [
    "sns.catplot(x='cluster_id_3', y='Score Bureau Empresa', kind='bar', data=data)\n",
    "plt.suptitle('Cluster_id_3 vs Score Bureau Empresa')"
   ]
  },
  {
   "cell_type": "code",
   "execution_count": null,
   "metadata": {
    "ExecuteTime": {
     "end_time": "2020-10-23T20:21:28.248172Z",
     "start_time": "2020-10-23T20:21:09.824Z"
    }
   },
   "outputs": [],
   "source": [
    "sns.catplot(x='cluster_id_3', y='Número de accionistas', kind='bar', data=data)\n",
    "plt.suptitle('Cluster_id_3 vs Número de accionistas')"
   ]
  },
  {
   "cell_type": "code",
   "execution_count": null,
   "metadata": {
    "ExecuteTime": {
     "end_time": "2020-10-23T20:21:28.251170Z",
     "start_time": "2020-10-23T20:21:09.831Z"
    }
   },
   "outputs": [],
   "source": [
    "sns.catplot(x='cluster_id_3', y='# Empleados', kind='bar', data=data)\n",
    "plt.suptitle('Cluster_id_3 vs # Empleados')"
   ]
  },
  {
   "cell_type": "code",
   "execution_count": null,
   "metadata": {
    "ExecuteTime": {
     "end_time": "2020-10-23T20:21:28.254197Z",
     "start_time": "2020-10-23T20:21:09.838Z"
    }
   },
   "outputs": [],
   "source": [
    "sns.catplot(x='cluster_id_3', y='Mujeres en cargos directivos', kind='bar', data=data)\n",
    "plt.suptitle('Cluster_id_3 vs Mujeres en cargos directivos')"
   ]
  },
  {
   "cell_type": "code",
   "execution_count": null,
   "metadata": {},
   "outputs": [],
   "source": []
  },
  {
   "cell_type": "code",
   "execution_count": null,
   "metadata": {},
   "outputs": [],
   "source": []
  },
  {
   "cell_type": "code",
   "execution_count": null,
   "metadata": {
    "ExecuteTime": {
     "end_time": "2020-10-23T20:21:28.257173Z",
     "start_time": "2020-10-23T20:21:09.850Z"
    }
   },
   "outputs": [],
   "source": [
    "data.info()"
   ]
  },
  {
   "cell_type": "code",
   "execution_count": null,
   "metadata": {
    "ExecuteTime": {
     "end_time": "2020-10-23T20:21:28.260173Z",
     "start_time": "2020-10-23T20:21:09.855Z"
    }
   },
   "outputs": [],
   "source": [
    "data.columns"
   ]
  },
  {
   "cell_type": "markdown",
   "metadata": {},
   "source": [
    "### Multi-linear regression"
   ]
  },
  {
   "cell_type": "code",
   "execution_count": null,
   "metadata": {
    "ExecuteTime": {
     "end_time": "2020-10-23T20:21:28.264170Z",
     "start_time": "2020-10-23T20:21:09.863Z"
    }
   },
   "outputs": [],
   "source": [
    "X = data[['Huellas de Consulta', 'Score Bureau Empresa']]\n",
    "Y = data['arrears_days']\n",
    "X = sm.add_constant(X) # adding a constant\n",
    " \n",
    "model = sm.OLS(Y, X).fit()\n",
    "predictions = model.predict(X) \n",
    " \n",
    "print_model = model.summary()\n",
    "print(print_model)"
   ]
  },
  {
   "cell_type": "code",
   "execution_count": null,
   "metadata": {},
   "outputs": [],
   "source": []
  }
 ],
 "metadata": {
  "kernelspec": {
   "display_name": "Python 3",
   "language": "python",
   "name": "python3"
  },
  "language_info": {
   "codemirror_mode": {
    "name": "ipython",
    "version": 3
   },
   "file_extension": ".py",
   "mimetype": "text/x-python",
   "name": "python",
   "nbconvert_exporter": "python",
   "pygments_lexer": "ipython3",
   "version": "3.8.3"
  },
  "toc": {
   "base_numbering": 1,
   "nav_menu": {},
   "number_sections": true,
   "sideBar": true,
   "skip_h1_title": false,
   "title_cell": "Table of Contents",
   "title_sidebar": "Contents",
   "toc_cell": false,
   "toc_position": {},
   "toc_section_display": true,
   "toc_window_display": false
  }
 },
 "nbformat": 4,
 "nbformat_minor": 4
}
